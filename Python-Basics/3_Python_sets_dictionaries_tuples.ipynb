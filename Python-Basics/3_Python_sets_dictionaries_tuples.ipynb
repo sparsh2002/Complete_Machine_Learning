{
  "nbformat": 4,
  "nbformat_minor": 0,
  "metadata": {
    "colab": {
      "name": "3_Python_sets_dictionaries_tuples.ipynb",
      "provenance": [],
      "authorship_tag": "ABX9TyPFxEGWetXLQOTh7fXaXsZw",
      "include_colab_link": true
    },
    "kernelspec": {
      "name": "python3",
      "display_name": "Python 3"
    },
    "language_info": {
      "name": "python"
    }
  },
  "cells": [
    {
      "cell_type": "markdown",
      "metadata": {
        "id": "view-in-github",
        "colab_type": "text"
      },
      "source": [
        "<a href=\"https://colab.research.google.com/github/sparsh2002/Complete_Machine_Learning/blob/master/Python-Basics/3_Python_sets_dictionaries_tuples.ipynb\" target=\"_parent\"><img src=\"https://colab.research.google.com/assets/colab-badge.svg\" alt=\"Open In Colab\"/></a>"
      ]
    },
    {
      "cell_type": "markdown",
      "source": [
        "# Sets"
      ],
      "metadata": {
        "id": "_JIyNbv2zlWA"
      }
    },
    {
      "cell_type": "code",
      "source": [
        "set_var = set()\n",
        "print(set_var)\n",
        "print(type(set_var))"
      ],
      "metadata": {
        "colab": {
          "base_uri": "https://localhost:8080/"
        },
        "id": "fmOcwLmGznDd",
        "outputId": "e1a71713-5028-4f22-8042-101c12215582"
      },
      "execution_count": 1,
      "outputs": [
        {
          "output_type": "stream",
          "name": "stdout",
          "text": [
            "set()\n",
            "<class 'set'>\n"
          ]
        }
      ]
    },
    {
      "cell_type": "code",
      "source": [
        "set_var = {1,2,3,2,1}\n",
        "set_var"
      ],
      "metadata": {
        "colab": {
          "base_uri": "https://localhost:8080/"
        },
        "id": "mVmX32De0Gno",
        "outputId": "0f37094a-f91c-4547-c9e5-cfe4e4206cf5"
      },
      "execution_count": 2,
      "outputs": [
        {
          "output_type": "execute_result",
          "data": {
            "text/plain": [
              "{1, 2, 3}"
            ]
          },
          "metadata": {},
          "execution_count": 2
        }
      ]
    },
    {
      "cell_type": "code",
      "source": [
        "set_var = {'IronMan' , 'SpiderMan' , 'SuperMan'}"
      ],
      "metadata": {
        "id": "9UJHm2fZ0RyI"
      },
      "execution_count": 3,
      "outputs": []
    },
    {
      "cell_type": "code",
      "source": [
        "set_var"
      ],
      "metadata": {
        "colab": {
          "base_uri": "https://localhost:8080/"
        },
        "id": "CKy5uVOX0YKI",
        "outputId": "d092f4c8-8bcd-4b4a-d5e7-7430f58e8943"
      },
      "execution_count": 4,
      "outputs": [
        {
          "output_type": "execute_result",
          "data": {
            "text/plain": [
              "{'IronMan', 'SpiderMan', 'SuperMan'}"
            ]
          },
          "metadata": {},
          "execution_count": 4
        }
      ]
    },
    {
      "cell_type": "code",
      "source": [
        "type(set_var)"
      ],
      "metadata": {
        "colab": {
          "base_uri": "https://localhost:8080/"
        },
        "id": "TrP-tean0ZNE",
        "outputId": "ab4bb753-69e0-4480-85a4-1a32a5ecc4df"
      },
      "execution_count": 5,
      "outputs": [
        {
          "output_type": "execute_result",
          "data": {
            "text/plain": [
              "set"
            ]
          },
          "metadata": {},
          "execution_count": 5
        }
      ]
    },
    {
      "cell_type": "code",
      "source": [
        "set_var.add('Hulk')"
      ],
      "metadata": {
        "id": "P1D9DenS0b7L"
      },
      "execution_count": 6,
      "outputs": []
    },
    {
      "cell_type": "code",
      "source": [
        "set_var"
      ],
      "metadata": {
        "colab": {
          "base_uri": "https://localhost:8080/"
        },
        "id": "WoNSy7b00hew",
        "outputId": "b13d7d2c-7985-4d82-9709-1b1bcd242809"
      },
      "execution_count": 8,
      "outputs": [
        {
          "output_type": "execute_result",
          "data": {
            "text/plain": [
              "{'Hulk', 'IronMan', 'SpiderMan', 'SuperMan'}"
            ]
          },
          "metadata": {},
          "execution_count": 8
        }
      ]
    },
    {
      "cell_type": "code",
      "source": [
        "set1 = {'IronMan' , 'SpiderMan' , 'SuperMan'}\n",
        "set2 = {'IronMan' , 'SpiderMan' , 'SuperMan' , 'Hulk'}"
      ],
      "metadata": {
        "id": "O_brELmC0iDC"
      },
      "execution_count": 9,
      "outputs": []
    },
    {
      "cell_type": "code",
      "source": [
        "set2.difference(set1)"
      ],
      "metadata": {
        "colab": {
          "base_uri": "https://localhost:8080/"
        },
        "id": "A1NWF-Iy1RwO",
        "outputId": "4b9b9bf4-3014-4083-95fc-a8ccb87c2eb6"
      },
      "execution_count": 10,
      "outputs": [
        {
          "output_type": "execute_result",
          "data": {
            "text/plain": [
              "{'Hulk'}"
            ]
          },
          "metadata": {},
          "execution_count": 10
        }
      ]
    },
    {
      "cell_type": "code",
      "source": [
        "set2"
      ],
      "metadata": {
        "colab": {
          "base_uri": "https://localhost:8080/"
        },
        "id": "gaCSX18e1Tpi",
        "outputId": "6e8e50c5-0535-48df-f7b8-838ccf0ed45f"
      },
      "execution_count": 11,
      "outputs": [
        {
          "output_type": "execute_result",
          "data": {
            "text/plain": [
              "{'Hulk', 'IronMan', 'SpiderMan', 'SuperMan'}"
            ]
          },
          "metadata": {},
          "execution_count": 11
        }
      ]
    },
    {
      "cell_type": "code",
      "source": [
        "set2.intersection(set1)"
      ],
      "metadata": {
        "colab": {
          "base_uri": "https://localhost:8080/"
        },
        "id": "rOty5iMv1U4R",
        "outputId": "fecd035f-0915-4c67-85e1-2354510c3889"
      },
      "execution_count": 12,
      "outputs": [
        {
          "output_type": "execute_result",
          "data": {
            "text/plain": [
              "{'IronMan', 'SpiderMan', 'SuperMan'}"
            ]
          },
          "metadata": {},
          "execution_count": 12
        }
      ]
    },
    {
      "cell_type": "code",
      "source": [
        ""
      ],
      "metadata": {
        "id": "00B2Kafk1eOb"
      },
      "execution_count": null,
      "outputs": []
    },
    {
      "cell_type": "markdown",
      "source": [
        "# Dictionaries\n"
      ],
      "metadata": {
        "id": "Z-nh-cXj14zN"
      }
    },
    {
      "cell_type": "code",
      "source": [
        "dic = {}"
      ],
      "metadata": {
        "id": "vn3Ef7an17P3"
      },
      "execution_count": 13,
      "outputs": []
    },
    {
      "cell_type": "code",
      "source": [
        "type(dic)"
      ],
      "metadata": {
        "colab": {
          "base_uri": "https://localhost:8080/"
        },
        "id": "xP29ljmj19Rg",
        "outputId": "53f08a9c-d7c5-47da-962b-75ae727f3bfe"
      },
      "execution_count": 14,
      "outputs": [
        {
          "output_type": "execute_result",
          "data": {
            "text/plain": [
              "dict"
            ]
          },
          "metadata": {},
          "execution_count": 14
        }
      ]
    },
    {
      "cell_type": "code",
      "source": [
        "dic = {'car1':'audi' , 'car2':'ferari' , 'car3':'nano'}"
      ],
      "metadata": {
        "id": "ro-_IB7e1-Za"
      },
      "execution_count": 15,
      "outputs": []
    },
    {
      "cell_type": "code",
      "source": [
        "type(dic)"
      ],
      "metadata": {
        "colab": {
          "base_uri": "https://localhost:8080/"
        },
        "id": "zD7u3dGe2I-0",
        "outputId": "e2219189-492c-4f5d-e9cb-279e38d379ca"
      },
      "execution_count": 16,
      "outputs": [
        {
          "output_type": "execute_result",
          "data": {
            "text/plain": [
              "dict"
            ]
          },
          "metadata": {},
          "execution_count": 16
        }
      ]
    },
    {
      "cell_type": "code",
      "source": [
        "dic"
      ],
      "metadata": {
        "colab": {
          "base_uri": "https://localhost:8080/"
        },
        "id": "0PLisqgL2Kxr",
        "outputId": "c520163a-a21c-44d5-a0d3-19d8d4a6fd52"
      },
      "execution_count": 17,
      "outputs": [
        {
          "output_type": "execute_result",
          "data": {
            "text/plain": [
              "{'car1': 'audi', 'car2': 'ferari', 'car3': 'nano'}"
            ]
          },
          "metadata": {},
          "execution_count": 17
        }
      ]
    },
    {
      "cell_type": "code",
      "source": [
        "dic['car1']"
      ],
      "metadata": {
        "colab": {
          "base_uri": "https://localhost:8080/",
          "height": 35
        },
        "id": "RbtpoJ0J2L4d",
        "outputId": "b61288b6-43ff-4425-c0a1-44e0b548bfb2"
      },
      "execution_count": 18,
      "outputs": [
        {
          "output_type": "execute_result",
          "data": {
            "text/plain": [
              "'audi'"
            ],
            "application/vnd.google.colaboratory.intrinsic+json": {
              "type": "string"
            }
          },
          "metadata": {},
          "execution_count": 18
        }
      ]
    },
    {
      "cell_type": "code",
      "source": [
        "for x in dic:\n",
        "  print(x)"
      ],
      "metadata": {
        "colab": {
          "base_uri": "https://localhost:8080/"
        },
        "id": "Z7knhxMe2PMj",
        "outputId": "0813031a-23c1-4c26-8d05-3c9a25877791"
      },
      "execution_count": 19,
      "outputs": [
        {
          "output_type": "stream",
          "name": "stdout",
          "text": [
            "car1\n",
            "car2\n",
            "car3\n"
          ]
        }
      ]
    },
    {
      "cell_type": "code",
      "source": [
        "for x in dic.values():\n",
        "  print(x)"
      ],
      "metadata": {
        "colab": {
          "base_uri": "https://localhost:8080/"
        },
        "id": "3MFG01ET2ZV-",
        "outputId": "88cc966b-1cf7-48d1-fe01-88e9329c8913"
      },
      "execution_count": 20,
      "outputs": [
        {
          "output_type": "stream",
          "name": "stdout",
          "text": [
            "audi\n",
            "ferari\n",
            "nano\n"
          ]
        }
      ]
    },
    {
      "cell_type": "code",
      "source": [
        "for x in dic.items():\n",
        "  print(x)"
      ],
      "metadata": {
        "colab": {
          "base_uri": "https://localhost:8080/"
        },
        "id": "pOB0Zam52hVU",
        "outputId": "14770eac-2697-4547-e46f-492f9e0b1e0d"
      },
      "execution_count": 21,
      "outputs": [
        {
          "output_type": "stream",
          "name": "stdout",
          "text": [
            "('car1', 'audi')\n",
            "('car2', 'ferari')\n",
            "('car3', 'nano')\n"
          ]
        }
      ]
    },
    {
      "cell_type": "code",
      "source": [
        "dic['car4'] = 'audi 2.0'"
      ],
      "metadata": {
        "id": "FPUqPfvE2kgT"
      },
      "execution_count": 22,
      "outputs": []
    },
    {
      "cell_type": "code",
      "source": [
        "dic"
      ],
      "metadata": {
        "colab": {
          "base_uri": "https://localhost:8080/"
        },
        "id": "-hGobLxT2u03",
        "outputId": "9c453400-0b40-49b9-92fe-59b6ac5c44b4"
      },
      "execution_count": 23,
      "outputs": [
        {
          "output_type": "execute_result",
          "data": {
            "text/plain": [
              "{'car1': 'audi', 'car2': 'ferari', 'car3': 'nano', 'car4': 'audi 2.0'}"
            ]
          },
          "metadata": {},
          "execution_count": 23
        }
      ]
    },
    {
      "cell_type": "markdown",
      "source": [
        "# Nested Dictionaries"
      ],
      "metadata": {
        "id": "4yAS5pru3EcT"
      }
    },
    {
      "cell_type": "code",
      "source": [
        "car1_model = {'marcedes':1960}\n",
        "car2_model = {'audi':2000}\n",
        "car3_model = {'maruti':1980}"
      ],
      "metadata": {
        "id": "ip4CZhP_3Igb"
      },
      "execution_count": 25,
      "outputs": []
    },
    {
      "cell_type": "code",
      "source": [
        "my_dict = {'car1':car1_model , 'car2':car2_model , 'car3':car3_model}"
      ],
      "metadata": {
        "id": "3GsVkPmV3TAr"
      },
      "execution_count": 27,
      "outputs": []
    },
    {
      "cell_type": "code",
      "source": [
        "my_dict"
      ],
      "metadata": {
        "colab": {
          "base_uri": "https://localhost:8080/"
        },
        "id": "6YjW_LRo3eNi",
        "outputId": "deeba49f-c985-4a7b-b4bc-27c654cb3904"
      },
      "execution_count": 28,
      "outputs": [
        {
          "output_type": "execute_result",
          "data": {
            "text/plain": [
              "{'car1': {'marcedes': 1960}, 'car2': {'audi': 2000}, 'car3': {'maruti': 1980}}"
            ]
          },
          "metadata": {},
          "execution_count": 28
        }
      ]
    },
    {
      "cell_type": "code",
      "source": [
        "my_dict['car1']"
      ],
      "metadata": {
        "colab": {
          "base_uri": "https://localhost:8080/"
        },
        "id": "7nxWSXyI3nWY",
        "outputId": "72bf3696-6361-4576-a30b-02727fda0c05"
      },
      "execution_count": 29,
      "outputs": [
        {
          "output_type": "execute_result",
          "data": {
            "text/plain": [
              "{'marcedes': 1960}"
            ]
          },
          "metadata": {},
          "execution_count": 29
        }
      ]
    },
    {
      "cell_type": "code",
      "source": [
        "print(my_dict['car1']['marcedes'])"
      ],
      "metadata": {
        "colab": {
          "base_uri": "https://localhost:8080/"
        },
        "id": "U3thJmmr3qBd",
        "outputId": "91d4558a-694d-42d9-a3e2-1473989db76e"
      },
      "execution_count": 33,
      "outputs": [
        {
          "output_type": "stream",
          "name": "stdout",
          "text": [
            "1960\n"
          ]
        }
      ]
    },
    {
      "cell_type": "code",
      "source": [
        ""
      ],
      "metadata": {
        "id": "2lgrFQxI3u8O"
      },
      "execution_count": null,
      "outputs": []
    },
    {
      "cell_type": "markdown",
      "source": [
        "# Tuple"
      ],
      "metadata": {
        "id": "XSLdVqMw4DQY"
      }
    },
    {
      "cell_type": "code",
      "source": [
        "my_tuple = ('Sparsh' , 1 , False)"
      ],
      "metadata": {
        "id": "4Xst6zjF4FpG"
      },
      "execution_count": 34,
      "outputs": []
    },
    {
      "cell_type": "code",
      "source": [
        "my_tuple"
      ],
      "metadata": {
        "colab": {
          "base_uri": "https://localhost:8080/"
        },
        "id": "mSKYwddR4QEO",
        "outputId": "51b61e24-4fdc-4a4d-fb0b-043eea222345"
      },
      "execution_count": 35,
      "outputs": [
        {
          "output_type": "execute_result",
          "data": {
            "text/plain": [
              "('Sparsh', 1, False)"
            ]
          },
          "metadata": {},
          "execution_count": 35
        }
      ]
    },
    {
      "cell_type": "code",
      "source": [
        "len(my_tuple)"
      ],
      "metadata": {
        "colab": {
          "base_uri": "https://localhost:8080/"
        },
        "id": "n7b2Gsm74Ref",
        "outputId": "dcad5e89-77f8-424c-b3f3-11cc64e57ef7"
      },
      "execution_count": 36,
      "outputs": [
        {
          "output_type": "execute_result",
          "data": {
            "text/plain": [
              "3"
            ]
          },
          "metadata": {},
          "execution_count": 36
        }
      ]
    },
    {
      "cell_type": "code",
      "source": [
        ""
      ],
      "metadata": {
        "id": "H6waukb_4Tz_"
      },
      "execution_count": null,
      "outputs": []
    }
  ]
}