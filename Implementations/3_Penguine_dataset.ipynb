{
  "nbformat": 4,
  "nbformat_minor": 0,
  "metadata": {
    "colab": {
      "name": "3_Penguine_dataset.ipynb",
      "provenance": [],
      "authorship_tag": "ABX9TyMf3DXmlQ/BGdV60xpA72j2",
      "include_colab_link": true
    },
    "kernelspec": {
      "name": "python3",
      "display_name": "Python 3"
    },
    "language_info": {
      "name": "python"
    }
  },
  "cells": [
    {
      "cell_type": "markdown",
      "metadata": {
        "id": "view-in-github",
        "colab_type": "text"
      },
      "source": [
        "<a href=\"https://colab.research.google.com/github/sparsh2002/Complete_Machine_Learning/blob/master/Implementations/3_Penguine_dataset.ipynb\" target=\"_parent\"><img src=\"https://colab.research.google.com/assets/colab-badge.svg\" alt=\"Open In Colab\"/></a>"
      ]
    },
    {
      "cell_type": "code",
      "execution_count": 2,
      "metadata": {
        "id": "In4xjsLNX1eN"
      },
      "outputs": [],
      "source": [
        "import numpy as np\n",
        "import pandas as pd\n",
        "import seaborn as sns\n",
        "import matplotlib.pyplot as plt\n",
        "%matplotlib inline"
      ]
    },
    {
      "cell_type": "code",
      "source": [
        "df = pd.read_csv('/content/penguins_lter.csv')"
      ],
      "metadata": {
        "id": "crI9LV_QYPcg"
      },
      "execution_count": 3,
      "outputs": []
    },
    {
      "cell_type": "code",
      "source": [
        "df.head()"
      ],
      "metadata": {
        "colab": {
          "base_uri": "https://localhost:8080/",
          "height": 565
        },
        "id": "kClj-qpHYsxD",
        "outputId": "071f6584-a714-4e19-a09b-8a55e5c4e29d"
      },
      "execution_count": 4,
      "outputs": [
        {
          "output_type": "execute_result",
          "data": {
            "text/plain": [
              "  studyName  Sample Number                              Species  Region  \\\n",
              "0   PAL0708              1  Adelie Penguin (Pygoscelis adeliae)  Anvers   \n",
              "1   PAL0708              2  Adelie Penguin (Pygoscelis adeliae)  Anvers   \n",
              "2   PAL0708              3  Adelie Penguin (Pygoscelis adeliae)  Anvers   \n",
              "3   PAL0708              4  Adelie Penguin (Pygoscelis adeliae)  Anvers   \n",
              "4   PAL0708              5  Adelie Penguin (Pygoscelis adeliae)  Anvers   \n",
              "\n",
              "      Island               Stage Individual ID Clutch Completion  Date Egg  \\\n",
              "0  Torgersen  Adult, 1 Egg Stage          N1A1               Yes  11/11/07   \n",
              "1  Torgersen  Adult, 1 Egg Stage          N1A2               Yes  11/11/07   \n",
              "2  Torgersen  Adult, 1 Egg Stage          N2A1               Yes  11/16/07   \n",
              "3  Torgersen  Adult, 1 Egg Stage          N2A2               Yes  11/16/07   \n",
              "4  Torgersen  Adult, 1 Egg Stage          N3A1               Yes  11/16/07   \n",
              "\n",
              "   Culmen Length (mm)  Culmen Depth (mm)  Flipper Length (mm)  Body Mass (g)  \\\n",
              "0                39.1               18.7                181.0         3750.0   \n",
              "1                39.5               17.4                186.0         3800.0   \n",
              "2                40.3               18.0                195.0         3250.0   \n",
              "3                 NaN                NaN                  NaN            NaN   \n",
              "4                36.7               19.3                193.0         3450.0   \n",
              "\n",
              "      Sex  Delta 15 N (o/oo)  Delta 13 C (o/oo)  \\\n",
              "0    MALE                NaN                NaN   \n",
              "1  FEMALE            8.94956          -24.69454   \n",
              "2  FEMALE            8.36821          -25.33302   \n",
              "3     NaN                NaN                NaN   \n",
              "4  FEMALE            8.76651          -25.32426   \n",
              "\n",
              "                         Comments  \n",
              "0  Not enough blood for isotopes.  \n",
              "1                             NaN  \n",
              "2                             NaN  \n",
              "3              Adult not sampled.  \n",
              "4                             NaN  "
            ],
            "text/html": [
              "\n",
              "  <div id=\"df-139878c8-4083-4ded-bdea-a0bcc1380793\">\n",
              "    <div class=\"colab-df-container\">\n",
              "      <div>\n",
              "<style scoped>\n",
              "    .dataframe tbody tr th:only-of-type {\n",
              "        vertical-align: middle;\n",
              "    }\n",
              "\n",
              "    .dataframe tbody tr th {\n",
              "        vertical-align: top;\n",
              "    }\n",
              "\n",
              "    .dataframe thead th {\n",
              "        text-align: right;\n",
              "    }\n",
              "</style>\n",
              "<table border=\"1\" class=\"dataframe\">\n",
              "  <thead>\n",
              "    <tr style=\"text-align: right;\">\n",
              "      <th></th>\n",
              "      <th>studyName</th>\n",
              "      <th>Sample Number</th>\n",
              "      <th>Species</th>\n",
              "      <th>Region</th>\n",
              "      <th>Island</th>\n",
              "      <th>Stage</th>\n",
              "      <th>Individual ID</th>\n",
              "      <th>Clutch Completion</th>\n",
              "      <th>Date Egg</th>\n",
              "      <th>Culmen Length (mm)</th>\n",
              "      <th>Culmen Depth (mm)</th>\n",
              "      <th>Flipper Length (mm)</th>\n",
              "      <th>Body Mass (g)</th>\n",
              "      <th>Sex</th>\n",
              "      <th>Delta 15 N (o/oo)</th>\n",
              "      <th>Delta 13 C (o/oo)</th>\n",
              "      <th>Comments</th>\n",
              "    </tr>\n",
              "  </thead>\n",
              "  <tbody>\n",
              "    <tr>\n",
              "      <th>0</th>\n",
              "      <td>PAL0708</td>\n",
              "      <td>1</td>\n",
              "      <td>Adelie Penguin (Pygoscelis adeliae)</td>\n",
              "      <td>Anvers</td>\n",
              "      <td>Torgersen</td>\n",
              "      <td>Adult, 1 Egg Stage</td>\n",
              "      <td>N1A1</td>\n",
              "      <td>Yes</td>\n",
              "      <td>11/11/07</td>\n",
              "      <td>39.1</td>\n",
              "      <td>18.7</td>\n",
              "      <td>181.0</td>\n",
              "      <td>3750.0</td>\n",
              "      <td>MALE</td>\n",
              "      <td>NaN</td>\n",
              "      <td>NaN</td>\n",
              "      <td>Not enough blood for isotopes.</td>\n",
              "    </tr>\n",
              "    <tr>\n",
              "      <th>1</th>\n",
              "      <td>PAL0708</td>\n",
              "      <td>2</td>\n",
              "      <td>Adelie Penguin (Pygoscelis adeliae)</td>\n",
              "      <td>Anvers</td>\n",
              "      <td>Torgersen</td>\n",
              "      <td>Adult, 1 Egg Stage</td>\n",
              "      <td>N1A2</td>\n",
              "      <td>Yes</td>\n",
              "      <td>11/11/07</td>\n",
              "      <td>39.5</td>\n",
              "      <td>17.4</td>\n",
              "      <td>186.0</td>\n",
              "      <td>3800.0</td>\n",
              "      <td>FEMALE</td>\n",
              "      <td>8.94956</td>\n",
              "      <td>-24.69454</td>\n",
              "      <td>NaN</td>\n",
              "    </tr>\n",
              "    <tr>\n",
              "      <th>2</th>\n",
              "      <td>PAL0708</td>\n",
              "      <td>3</td>\n",
              "      <td>Adelie Penguin (Pygoscelis adeliae)</td>\n",
              "      <td>Anvers</td>\n",
              "      <td>Torgersen</td>\n",
              "      <td>Adult, 1 Egg Stage</td>\n",
              "      <td>N2A1</td>\n",
              "      <td>Yes</td>\n",
              "      <td>11/16/07</td>\n",
              "      <td>40.3</td>\n",
              "      <td>18.0</td>\n",
              "      <td>195.0</td>\n",
              "      <td>3250.0</td>\n",
              "      <td>FEMALE</td>\n",
              "      <td>8.36821</td>\n",
              "      <td>-25.33302</td>\n",
              "      <td>NaN</td>\n",
              "    </tr>\n",
              "    <tr>\n",
              "      <th>3</th>\n",
              "      <td>PAL0708</td>\n",
              "      <td>4</td>\n",
              "      <td>Adelie Penguin (Pygoscelis adeliae)</td>\n",
              "      <td>Anvers</td>\n",
              "      <td>Torgersen</td>\n",
              "      <td>Adult, 1 Egg Stage</td>\n",
              "      <td>N2A2</td>\n",
              "      <td>Yes</td>\n",
              "      <td>11/16/07</td>\n",
              "      <td>NaN</td>\n",
              "      <td>NaN</td>\n",
              "      <td>NaN</td>\n",
              "      <td>NaN</td>\n",
              "      <td>NaN</td>\n",
              "      <td>NaN</td>\n",
              "      <td>NaN</td>\n",
              "      <td>Adult not sampled.</td>\n",
              "    </tr>\n",
              "    <tr>\n",
              "      <th>4</th>\n",
              "      <td>PAL0708</td>\n",
              "      <td>5</td>\n",
              "      <td>Adelie Penguin (Pygoscelis adeliae)</td>\n",
              "      <td>Anvers</td>\n",
              "      <td>Torgersen</td>\n",
              "      <td>Adult, 1 Egg Stage</td>\n",
              "      <td>N3A1</td>\n",
              "      <td>Yes</td>\n",
              "      <td>11/16/07</td>\n",
              "      <td>36.7</td>\n",
              "      <td>19.3</td>\n",
              "      <td>193.0</td>\n",
              "      <td>3450.0</td>\n",
              "      <td>FEMALE</td>\n",
              "      <td>8.76651</td>\n",
              "      <td>-25.32426</td>\n",
              "      <td>NaN</td>\n",
              "    </tr>\n",
              "  </tbody>\n",
              "</table>\n",
              "</div>\n",
              "      <button class=\"colab-df-convert\" onclick=\"convertToInteractive('df-139878c8-4083-4ded-bdea-a0bcc1380793')\"\n",
              "              title=\"Convert this dataframe to an interactive table.\"\n",
              "              style=\"display:none;\">\n",
              "        \n",
              "  <svg xmlns=\"http://www.w3.org/2000/svg\" height=\"24px\"viewBox=\"0 0 24 24\"\n",
              "       width=\"24px\">\n",
              "    <path d=\"M0 0h24v24H0V0z\" fill=\"none\"/>\n",
              "    <path d=\"M18.56 5.44l.94 2.06.94-2.06 2.06-.94-2.06-.94-.94-2.06-.94 2.06-2.06.94zm-11 1L8.5 8.5l.94-2.06 2.06-.94-2.06-.94L8.5 2.5l-.94 2.06-2.06.94zm10 10l.94 2.06.94-2.06 2.06-.94-2.06-.94-.94-2.06-.94 2.06-2.06.94z\"/><path d=\"M17.41 7.96l-1.37-1.37c-.4-.4-.92-.59-1.43-.59-.52 0-1.04.2-1.43.59L10.3 9.45l-7.72 7.72c-.78.78-.78 2.05 0 2.83L4 21.41c.39.39.9.59 1.41.59.51 0 1.02-.2 1.41-.59l7.78-7.78 2.81-2.81c.8-.78.8-2.07 0-2.86zM5.41 20L4 18.59l7.72-7.72 1.47 1.35L5.41 20z\"/>\n",
              "  </svg>\n",
              "      </button>\n",
              "      \n",
              "  <style>\n",
              "    .colab-df-container {\n",
              "      display:flex;\n",
              "      flex-wrap:wrap;\n",
              "      gap: 12px;\n",
              "    }\n",
              "\n",
              "    .colab-df-convert {\n",
              "      background-color: #E8F0FE;\n",
              "      border: none;\n",
              "      border-radius: 50%;\n",
              "      cursor: pointer;\n",
              "      display: none;\n",
              "      fill: #1967D2;\n",
              "      height: 32px;\n",
              "      padding: 0 0 0 0;\n",
              "      width: 32px;\n",
              "    }\n",
              "\n",
              "    .colab-df-convert:hover {\n",
              "      background-color: #E2EBFA;\n",
              "      box-shadow: 0px 1px 2px rgba(60, 64, 67, 0.3), 0px 1px 3px 1px rgba(60, 64, 67, 0.15);\n",
              "      fill: #174EA6;\n",
              "    }\n",
              "\n",
              "    [theme=dark] .colab-df-convert {\n",
              "      background-color: #3B4455;\n",
              "      fill: #D2E3FC;\n",
              "    }\n",
              "\n",
              "    [theme=dark] .colab-df-convert:hover {\n",
              "      background-color: #434B5C;\n",
              "      box-shadow: 0px 1px 3px 1px rgba(0, 0, 0, 0.15);\n",
              "      filter: drop-shadow(0px 1px 2px rgba(0, 0, 0, 0.3));\n",
              "      fill: #FFFFFF;\n",
              "    }\n",
              "  </style>\n",
              "\n",
              "      <script>\n",
              "        const buttonEl =\n",
              "          document.querySelector('#df-139878c8-4083-4ded-bdea-a0bcc1380793 button.colab-df-convert');\n",
              "        buttonEl.style.display =\n",
              "          google.colab.kernel.accessAllowed ? 'block' : 'none';\n",
              "\n",
              "        async function convertToInteractive(key) {\n",
              "          const element = document.querySelector('#df-139878c8-4083-4ded-bdea-a0bcc1380793');\n",
              "          const dataTable =\n",
              "            await google.colab.kernel.invokeFunction('convertToInteractive',\n",
              "                                                     [key], {});\n",
              "          if (!dataTable) return;\n",
              "\n",
              "          const docLinkHtml = 'Like what you see? Visit the ' +\n",
              "            '<a target=\"_blank\" href=https://colab.research.google.com/notebooks/data_table.ipynb>data table notebook</a>'\n",
              "            + ' to learn more about interactive tables.';\n",
              "          element.innerHTML = '';\n",
              "          dataTable['output_type'] = 'display_data';\n",
              "          await google.colab.output.renderOutput(dataTable, element);\n",
              "          const docLink = document.createElement('div');\n",
              "          docLink.innerHTML = docLinkHtml;\n",
              "          element.appendChild(docLink);\n",
              "        }\n",
              "      </script>\n",
              "    </div>\n",
              "  </div>\n",
              "  "
            ]
          },
          "metadata": {},
          "execution_count": 4
        }
      ]
    },
    {
      "cell_type": "code",
      "source": [
        "df['Species'].unique()"
      ],
      "metadata": {
        "colab": {
          "base_uri": "https://localhost:8080/"
        },
        "id": "rmnPKQZQYt8C",
        "outputId": "5e68cfe6-61a8-4700-90e4-eb65d5d5b72d"
      },
      "execution_count": 5,
      "outputs": [
        {
          "output_type": "execute_result",
          "data": {
            "text/plain": [
              "array(['Adelie Penguin (Pygoscelis adeliae)',\n",
              "       'Chinstrap penguin (Pygoscelis antarctica)',\n",
              "       'Gentoo penguin (Pygoscelis papua)'], dtype=object)"
            ]
          },
          "metadata": {},
          "execution_count": 5
        }
      ]
    },
    {
      "cell_type": "code",
      "source": [
        "df.describe()"
      ],
      "metadata": {
        "colab": {
          "base_uri": "https://localhost:8080/",
          "height": 300
        },
        "id": "CUyUp4BBY1z0",
        "outputId": "22ee0eef-76c0-42fa-91f6-9be7501d0f6b"
      },
      "execution_count": 6,
      "outputs": [
        {
          "output_type": "execute_result",
          "data": {
            "text/plain": [
              "       Sample Number  Culmen Length (mm)  Culmen Depth (mm)  \\\n",
              "count     344.000000          342.000000         342.000000   \n",
              "mean       63.151163           43.921930          17.151170   \n",
              "std        40.430199            5.459584           1.974793   \n",
              "min         1.000000           32.100000          13.100000   \n",
              "25%        29.000000           39.225000          15.600000   \n",
              "50%        58.000000           44.450000          17.300000   \n",
              "75%        95.250000           48.500000          18.700000   \n",
              "max       152.000000           59.600000          21.500000   \n",
              "\n",
              "       Flipper Length (mm)  Body Mass (g)  Delta 15 N (o/oo)  \\\n",
              "count           342.000000     342.000000         330.000000   \n",
              "mean            200.915205    4201.754386           8.733382   \n",
              "std              14.061714     801.954536           0.551770   \n",
              "min             172.000000    2700.000000           7.632200   \n",
              "25%             190.000000    3550.000000           8.299890   \n",
              "50%             197.000000    4050.000000           8.652405   \n",
              "75%             213.000000    4750.000000           9.172123   \n",
              "max             231.000000    6300.000000          10.025440   \n",
              "\n",
              "       Delta 13 C (o/oo)  \n",
              "count         331.000000  \n",
              "mean          -25.686292  \n",
              "std             0.793961  \n",
              "min           -27.018540  \n",
              "25%           -26.320305  \n",
              "50%           -25.833520  \n",
              "75%           -25.062050  \n",
              "max           -23.787670  "
            ],
            "text/html": [
              "\n",
              "  <div id=\"df-2fc07ad2-6ef4-4709-80f6-3c85b5d1f97a\">\n",
              "    <div class=\"colab-df-container\">\n",
              "      <div>\n",
              "<style scoped>\n",
              "    .dataframe tbody tr th:only-of-type {\n",
              "        vertical-align: middle;\n",
              "    }\n",
              "\n",
              "    .dataframe tbody tr th {\n",
              "        vertical-align: top;\n",
              "    }\n",
              "\n",
              "    .dataframe thead th {\n",
              "        text-align: right;\n",
              "    }\n",
              "</style>\n",
              "<table border=\"1\" class=\"dataframe\">\n",
              "  <thead>\n",
              "    <tr style=\"text-align: right;\">\n",
              "      <th></th>\n",
              "      <th>Sample Number</th>\n",
              "      <th>Culmen Length (mm)</th>\n",
              "      <th>Culmen Depth (mm)</th>\n",
              "      <th>Flipper Length (mm)</th>\n",
              "      <th>Body Mass (g)</th>\n",
              "      <th>Delta 15 N (o/oo)</th>\n",
              "      <th>Delta 13 C (o/oo)</th>\n",
              "    </tr>\n",
              "  </thead>\n",
              "  <tbody>\n",
              "    <tr>\n",
              "      <th>count</th>\n",
              "      <td>344.000000</td>\n",
              "      <td>342.000000</td>\n",
              "      <td>342.000000</td>\n",
              "      <td>342.000000</td>\n",
              "      <td>342.000000</td>\n",
              "      <td>330.000000</td>\n",
              "      <td>331.000000</td>\n",
              "    </tr>\n",
              "    <tr>\n",
              "      <th>mean</th>\n",
              "      <td>63.151163</td>\n",
              "      <td>43.921930</td>\n",
              "      <td>17.151170</td>\n",
              "      <td>200.915205</td>\n",
              "      <td>4201.754386</td>\n",
              "      <td>8.733382</td>\n",
              "      <td>-25.686292</td>\n",
              "    </tr>\n",
              "    <tr>\n",
              "      <th>std</th>\n",
              "      <td>40.430199</td>\n",
              "      <td>5.459584</td>\n",
              "      <td>1.974793</td>\n",
              "      <td>14.061714</td>\n",
              "      <td>801.954536</td>\n",
              "      <td>0.551770</td>\n",
              "      <td>0.793961</td>\n",
              "    </tr>\n",
              "    <tr>\n",
              "      <th>min</th>\n",
              "      <td>1.000000</td>\n",
              "      <td>32.100000</td>\n",
              "      <td>13.100000</td>\n",
              "      <td>172.000000</td>\n",
              "      <td>2700.000000</td>\n",
              "      <td>7.632200</td>\n",
              "      <td>-27.018540</td>\n",
              "    </tr>\n",
              "    <tr>\n",
              "      <th>25%</th>\n",
              "      <td>29.000000</td>\n",
              "      <td>39.225000</td>\n",
              "      <td>15.600000</td>\n",
              "      <td>190.000000</td>\n",
              "      <td>3550.000000</td>\n",
              "      <td>8.299890</td>\n",
              "      <td>-26.320305</td>\n",
              "    </tr>\n",
              "    <tr>\n",
              "      <th>50%</th>\n",
              "      <td>58.000000</td>\n",
              "      <td>44.450000</td>\n",
              "      <td>17.300000</td>\n",
              "      <td>197.000000</td>\n",
              "      <td>4050.000000</td>\n",
              "      <td>8.652405</td>\n",
              "      <td>-25.833520</td>\n",
              "    </tr>\n",
              "    <tr>\n",
              "      <th>75%</th>\n",
              "      <td>95.250000</td>\n",
              "      <td>48.500000</td>\n",
              "      <td>18.700000</td>\n",
              "      <td>213.000000</td>\n",
              "      <td>4750.000000</td>\n",
              "      <td>9.172123</td>\n",
              "      <td>-25.062050</td>\n",
              "    </tr>\n",
              "    <tr>\n",
              "      <th>max</th>\n",
              "      <td>152.000000</td>\n",
              "      <td>59.600000</td>\n",
              "      <td>21.500000</td>\n",
              "      <td>231.000000</td>\n",
              "      <td>6300.000000</td>\n",
              "      <td>10.025440</td>\n",
              "      <td>-23.787670</td>\n",
              "    </tr>\n",
              "  </tbody>\n",
              "</table>\n",
              "</div>\n",
              "      <button class=\"colab-df-convert\" onclick=\"convertToInteractive('df-2fc07ad2-6ef4-4709-80f6-3c85b5d1f97a')\"\n",
              "              title=\"Convert this dataframe to an interactive table.\"\n",
              "              style=\"display:none;\">\n",
              "        \n",
              "  <svg xmlns=\"http://www.w3.org/2000/svg\" height=\"24px\"viewBox=\"0 0 24 24\"\n",
              "       width=\"24px\">\n",
              "    <path d=\"M0 0h24v24H0V0z\" fill=\"none\"/>\n",
              "    <path d=\"M18.56 5.44l.94 2.06.94-2.06 2.06-.94-2.06-.94-.94-2.06-.94 2.06-2.06.94zm-11 1L8.5 8.5l.94-2.06 2.06-.94-2.06-.94L8.5 2.5l-.94 2.06-2.06.94zm10 10l.94 2.06.94-2.06 2.06-.94-2.06-.94-.94-2.06-.94 2.06-2.06.94z\"/><path d=\"M17.41 7.96l-1.37-1.37c-.4-.4-.92-.59-1.43-.59-.52 0-1.04.2-1.43.59L10.3 9.45l-7.72 7.72c-.78.78-.78 2.05 0 2.83L4 21.41c.39.39.9.59 1.41.59.51 0 1.02-.2 1.41-.59l7.78-7.78 2.81-2.81c.8-.78.8-2.07 0-2.86zM5.41 20L4 18.59l7.72-7.72 1.47 1.35L5.41 20z\"/>\n",
              "  </svg>\n",
              "      </button>\n",
              "      \n",
              "  <style>\n",
              "    .colab-df-container {\n",
              "      display:flex;\n",
              "      flex-wrap:wrap;\n",
              "      gap: 12px;\n",
              "    }\n",
              "\n",
              "    .colab-df-convert {\n",
              "      background-color: #E8F0FE;\n",
              "      border: none;\n",
              "      border-radius: 50%;\n",
              "      cursor: pointer;\n",
              "      display: none;\n",
              "      fill: #1967D2;\n",
              "      height: 32px;\n",
              "      padding: 0 0 0 0;\n",
              "      width: 32px;\n",
              "    }\n",
              "\n",
              "    .colab-df-convert:hover {\n",
              "      background-color: #E2EBFA;\n",
              "      box-shadow: 0px 1px 2px rgba(60, 64, 67, 0.3), 0px 1px 3px 1px rgba(60, 64, 67, 0.15);\n",
              "      fill: #174EA6;\n",
              "    }\n",
              "\n",
              "    [theme=dark] .colab-df-convert {\n",
              "      background-color: #3B4455;\n",
              "      fill: #D2E3FC;\n",
              "    }\n",
              "\n",
              "    [theme=dark] .colab-df-convert:hover {\n",
              "      background-color: #434B5C;\n",
              "      box-shadow: 0px 1px 3px 1px rgba(0, 0, 0, 0.15);\n",
              "      filter: drop-shadow(0px 1px 2px rgba(0, 0, 0, 0.3));\n",
              "      fill: #FFFFFF;\n",
              "    }\n",
              "  </style>\n",
              "\n",
              "      <script>\n",
              "        const buttonEl =\n",
              "          document.querySelector('#df-2fc07ad2-6ef4-4709-80f6-3c85b5d1f97a button.colab-df-convert');\n",
              "        buttonEl.style.display =\n",
              "          google.colab.kernel.accessAllowed ? 'block' : 'none';\n",
              "\n",
              "        async function convertToInteractive(key) {\n",
              "          const element = document.querySelector('#df-2fc07ad2-6ef4-4709-80f6-3c85b5d1f97a');\n",
              "          const dataTable =\n",
              "            await google.colab.kernel.invokeFunction('convertToInteractive',\n",
              "                                                     [key], {});\n",
              "          if (!dataTable) return;\n",
              "\n",
              "          const docLinkHtml = 'Like what you see? Visit the ' +\n",
              "            '<a target=\"_blank\" href=https://colab.research.google.com/notebooks/data_table.ipynb>data table notebook</a>'\n",
              "            + ' to learn more about interactive tables.';\n",
              "          element.innerHTML = '';\n",
              "          dataTable['output_type'] = 'display_data';\n",
              "          await google.colab.output.renderOutput(dataTable, element);\n",
              "          const docLink = document.createElement('div');\n",
              "          docLink.innerHTML = docLinkHtml;\n",
              "          element.appendChild(docLink);\n",
              "        }\n",
              "      </script>\n",
              "    </div>\n",
              "  </div>\n",
              "  "
            ]
          },
          "metadata": {},
          "execution_count": 6
        }
      ]
    },
    {
      "cell_type": "code",
      "source": [
        "df.info()"
      ],
      "metadata": {
        "colab": {
          "base_uri": "https://localhost:8080/"
        },
        "id": "kTgp71uiY-l7",
        "outputId": "1b41fbf5-fa17-4d74-ad41-eb9d10fa681c"
      },
      "execution_count": 7,
      "outputs": [
        {
          "output_type": "stream",
          "name": "stdout",
          "text": [
            "<class 'pandas.core.frame.DataFrame'>\n",
            "RangeIndex: 344 entries, 0 to 343\n",
            "Data columns (total 17 columns):\n",
            " #   Column               Non-Null Count  Dtype  \n",
            "---  ------               --------------  -----  \n",
            " 0   studyName            344 non-null    object \n",
            " 1   Sample Number        344 non-null    int64  \n",
            " 2   Species              344 non-null    object \n",
            " 3   Region               344 non-null    object \n",
            " 4   Island               344 non-null    object \n",
            " 5   Stage                344 non-null    object \n",
            " 6   Individual ID        344 non-null    object \n",
            " 7   Clutch Completion    344 non-null    object \n",
            " 8   Date Egg             344 non-null    object \n",
            " 9   Culmen Length (mm)   342 non-null    float64\n",
            " 10  Culmen Depth (mm)    342 non-null    float64\n",
            " 11  Flipper Length (mm)  342 non-null    float64\n",
            " 12  Body Mass (g)        342 non-null    float64\n",
            " 13  Sex                  334 non-null    object \n",
            " 14  Delta 15 N (o/oo)    330 non-null    float64\n",
            " 15  Delta 13 C (o/oo)    331 non-null    float64\n",
            " 16  Comments             26 non-null     object \n",
            "dtypes: float64(6), int64(1), object(10)\n",
            "memory usage: 45.8+ KB\n"
          ]
        }
      ]
    },
    {
      "cell_type": "code",
      "source": [
        "df.shape"
      ],
      "metadata": {
        "colab": {
          "base_uri": "https://localhost:8080/"
        },
        "id": "2cE0Z8PqZA8r",
        "outputId": "49d7b3d2-f731-477d-ea9a-5176a274b2e0"
      },
      "execution_count": 8,
      "outputs": [
        {
          "output_type": "execute_result",
          "data": {
            "text/plain": [
              "(344, 17)"
            ]
          },
          "metadata": {},
          "execution_count": 8
        }
      ]
    },
    {
      "cell_type": "code",
      "source": [
        "df.isnull().sum()"
      ],
      "metadata": {
        "colab": {
          "base_uri": "https://localhost:8080/"
        },
        "id": "h8ukMKyjZFB6",
        "outputId": "639f00db-9e8d-43df-d5b2-bddb18773c6d"
      },
      "execution_count": 9,
      "outputs": [
        {
          "output_type": "execute_result",
          "data": {
            "text/plain": [
              "studyName                0\n",
              "Sample Number            0\n",
              "Species                  0\n",
              "Region                   0\n",
              "Island                   0\n",
              "Stage                    0\n",
              "Individual ID            0\n",
              "Clutch Completion        0\n",
              "Date Egg                 0\n",
              "Culmen Length (mm)       2\n",
              "Culmen Depth (mm)        2\n",
              "Flipper Length (mm)      2\n",
              "Body Mass (g)            2\n",
              "Sex                     10\n",
              "Delta 15 N (o/oo)       14\n",
              "Delta 13 C (o/oo)       13\n",
              "Comments               318\n",
              "dtype: int64"
            ]
          },
          "metadata": {},
          "execution_count": 9
        }
      ]
    },
    {
      "cell_type": "code",
      "source": [
        "sns.heatmap(df.isnull(),yticklabels=False,cbar=False,cmap='viridis')"
      ],
      "metadata": {
        "colab": {
          "base_uri": "https://localhost:8080/",
          "height": 379
        },
        "id": "nCf1bO2oZHQV",
        "outputId": "47d13a35-c2c0-4902-b683-271c7750b71a"
      },
      "execution_count": 10,
      "outputs": [
        {
          "output_type": "execute_result",
          "data": {
            "text/plain": [
              "<matplotlib.axes._subplots.AxesSubplot at 0x7fe8e0ca8310>"
            ]
          },
          "metadata": {},
          "execution_count": 10
        },
        {
          "output_type": "display_data",
          "data": {
            "text/plain": [
              "<Figure size 432x288 with 1 Axes>"
            ],
            "image/png": "[encoded data removed]"
          },
          "metadata": {
            "needs_background": "light"
          }
        }
      ]
    },
    {
      "cell_type": "code",
      "source": [
        "df = df.drop(['Comments'], axis = 1)"
      ],
      "metadata": {
        "id": "yW8I_QeoZMOK"
      },
      "execution_count": 15,
      "outputs": []
    },
    {
      "cell_type": "code",
      "source": [
        "df.head()"
      ],
      "metadata": {
        "colab": {
          "base_uri": "https://localhost:8080/",
          "height": 565
        },
        "id": "zHXlbWI0Zshx",
        "outputId": "5d574611-431e-4f45-c10b-66bdd446dbcd"
      },
      "execution_count": 16,
      "outputs": [
        {
          "output_type": "execute_result",
          "data": {
            "text/plain": [
              "  studyName  Sample Number                              Species  Region  \\\n",
              "0   PAL0708              1  Adelie Penguin (Pygoscelis adeliae)  Anvers   \n",
              "1   PAL0708              2  Adelie Penguin (Pygoscelis adeliae)  Anvers   \n",
              "2   PAL0708              3  Adelie Penguin (Pygoscelis adeliae)  Anvers   \n",
              "3   PAL0708              4  Adelie Penguin (Pygoscelis adeliae)  Anvers   \n",
              "4   PAL0708              5  Adelie Penguin (Pygoscelis adeliae)  Anvers   \n",
              "\n",
              "      Island               Stage Individual ID Clutch Completion  Date Egg  \\\n",
              "0  Torgersen  Adult, 1 Egg Stage          N1A1               Yes  11/11/07   \n",
              "1  Torgersen  Adult, 1 Egg Stage          N1A2               Yes  11/11/07   \n",
              "2  Torgersen  Adult, 1 Egg Stage          N2A1               Yes  11/16/07   \n",
              "3  Torgersen  Adult, 1 Egg Stage          N2A2               Yes  11/16/07   \n",
              "4  Torgersen  Adult, 1 Egg Stage          N3A1               Yes  11/16/07   \n",
              "\n",
              "   Culmen Length (mm)  Culmen Depth (mm)  Flipper Length (mm)  Body Mass (g)  \\\n",
              "0                39.1               18.7                181.0         3750.0   \n",
              "1                39.5               17.4                186.0         3800.0   \n",
              "2                40.3               18.0                195.0         3250.0   \n",
              "3                 NaN                NaN                  NaN            NaN   \n",
              "4                36.7               19.3                193.0         3450.0   \n",
              "\n",
              "      Sex  Delta 15 N (o/oo)  Delta 13 C (o/oo)  \n",
              "0    MALE                NaN                NaN  \n",
              "1  FEMALE            8.94956          -24.69454  \n",
              "2  FEMALE            8.36821          -25.33302  \n",
              "3     NaN                NaN                NaN  \n",
              "4  FEMALE            8.76651          -25.32426  "
            ],
            "text/html": [
              "\n",
              "  <div id=\"df-db7b9ae6-c283-45cf-8c21-4f23e7c4244e\">\n",
              "    <div class=\"colab-df-container\">\n",
              "      <div>\n",
              "<style scoped>\n",
              "    .dataframe tbody tr th:only-of-type {\n",
              "        vertical-align: middle;\n",
              "    }\n",
              "\n",
              "    .dataframe tbody tr th {\n",
              "        vertical-align: top;\n",
              "    }\n",
              "\n",
              "    .dataframe thead th {\n",
              "        text-align: right;\n",
              "    }\n",
              "</style>\n",
              "<table border=\"1\" class=\"dataframe\">\n",
              "  <thead>\n",
              "    <tr style=\"text-align: right;\">\n",
              "      <th></th>\n",
              "      <th>studyName</th>\n",
              "      <th>Sample Number</th>\n",
              "      <th>Species</th>\n",
              "      <th>Region</th>\n",
              "      <th>Island</th>\n",
              "      <th>Stage</th>\n",
              "      <th>Individual ID</th>\n",
              "      <th>Clutch Completion</th>\n",
              "      <th>Date Egg</th>\n",
              "      <th>Culmen Length (mm)</th>\n",
              "      <th>Culmen Depth (mm)</th>\n",
              "      <th>Flipper Length (mm)</th>\n",
              "      <th>Body Mass (g)</th>\n",
              "      <th>Sex</th>\n",
              "      <th>Delta 15 N (o/oo)</th>\n",
              "      <th>Delta 13 C (o/oo)</th>\n",
              "    </tr>\n",
              "  </thead>\n",
              "  <tbody>\n",
              "    <tr>\n",
              "      <th>0</th>\n",
              "      <td>PAL0708</td>\n",
              "      <td>1</td>\n",
              "      <td>Adelie Penguin (Pygoscelis adeliae)</td>\n",
              "      <td>Anvers</td>\n",
              "      <td>Torgersen</td>\n",
              "      <td>Adult, 1 Egg Stage</td>\n",
              "      <td>N1A1</td>\n",
              "      <td>Yes</td>\n",
              "      <td>11/11/07</td>\n",
              "      <td>39.1</td>\n",
              "      <td>18.7</td>\n",
              "      <td>181.0</td>\n",
              "      <td>3750.0</td>\n",
              "      <td>MALE</td>\n",
              "      <td>NaN</td>\n",
              "      <td>NaN</td>\n",
              "    </tr>\n",
              "    <tr>\n",
              "      <th>1</th>\n",
              "      <td>PAL0708</td>\n",
              "      <td>2</td>\n",
              "      <td>Adelie Penguin (Pygoscelis adeliae)</td>\n",
              "      <td>Anvers</td>\n",
              "      <td>Torgersen</td>\n",
              "      <td>Adult, 1 Egg Stage</td>\n",
              "      <td>N1A2</td>\n",
              "      <td>Yes</td>\n",
              "      <td>11/11/07</td>\n",
              "      <td>39.5</td>\n",
              "      <td>17.4</td>\n",
              "      <td>186.0</td>\n",
              "      <td>3800.0</td>\n",
              "      <td>FEMALE</td>\n",
              "      <td>8.94956</td>\n",
              "      <td>-24.69454</td>\n",
              "    </tr>\n",
              "    <tr>\n",
              "      <th>2</th>\n",
              "      <td>PAL0708</td>\n",
              "      <td>3</td>\n",
              "      <td>Adelie Penguin (Pygoscelis adeliae)</td>\n",
              "      <td>Anvers</td>\n",
              "      <td>Torgersen</td>\n",
              "      <td>Adult, 1 Egg Stage</td>\n",
              "      <td>N2A1</td>\n",
              "      <td>Yes</td>\n",
              "      <td>11/16/07</td>\n",
              "      <td>40.3</td>\n",
              "      <td>18.0</td>\n",
              "      <td>195.0</td>\n",
              "      <td>3250.0</td>\n",
              "      <td>FEMALE</td>\n",
              "      <td>8.36821</td>\n",
              "      <td>-25.33302</td>\n",
              "    </tr>\n",
              "    <tr>\n",
              "      <th>3</th>\n",
              "      <td>PAL0708</td>\n",
              "      <td>4</td>\n",
              "      <td>Adelie Penguin (Pygoscelis adeliae)</td>\n",
              "      <td>Anvers</td>\n",
              "      <td>Torgersen</td>\n",
              "      <td>Adult, 1 Egg Stage</td>\n",
              "      <td>N2A2</td>\n",
              "      <td>Yes</td>\n",
              "      <td>11/16/07</td>\n",
              "      <td>NaN</td>\n",
              "      <td>NaN</td>\n",
              "      <td>NaN</td>\n",
              "      <td>NaN</td>\n",
              "      <td>NaN</td>\n",
              "      <td>NaN</td>\n",
              "      <td>NaN</td>\n",
              "    </tr>\n",
              "    <tr>\n",
              "      <th>4</th>\n",
              "      <td>PAL0708</td>\n",
              "      <td>5</td>\n",
              "      <td>Adelie Penguin (Pygoscelis adeliae)</td>\n",
              "      <td>Anvers</td>\n",
              "      <td>Torgersen</td>\n",
              "      <td>Adult, 1 Egg Stage</td>\n",
              "      <td>N3A1</td>\n",
              "      <td>Yes</td>\n",
              "      <td>11/16/07</td>\n",
              "      <td>36.7</td>\n",
              "      <td>19.3</td>\n",
              "      <td>193.0</td>\n",
              "      <td>3450.0</td>\n",
              "      <td>FEMALE</td>\n",
              "      <td>8.76651</td>\n",
              "      <td>-25.32426</td>\n",
              "    </tr>\n",
              "  </tbody>\n",
              "</table>\n",
              "</div>\n",
              "      <button class=\"colab-df-convert\" onclick=\"convertToInteractive('df-db7b9ae6-c283-45cf-8c21-4f23e7c4244e')\"\n",
              "              title=\"Convert this dataframe to an interactive table.\"\n",
              "              style=\"display:none;\">\n",
              "        \n",
              "  <svg xmlns=\"http://www.w3.org/2000/svg\" height=\"24px\"viewBox=\"0 0 24 24\"\n",
              "       width=\"24px\">\n",
              "    <path d=\"M0 0h24v24H0V0z\" fill=\"none\"/>\n",
              "    <path d=\"M18.56 5.44l.94 2.06.94-2.06 2.06-.94-2.06-.94-.94-2.06-.94 2.06-2.06.94zm-11 1L8.5 8.5l.94-2.06 2.06-.94-2.06-.94L8.5 2.5l-.94 2.06-2.06.94zm10 10l.94 2.06.94-2.06 2.06-.94-2.06-.94-.94-2.06-.94 2.06-2.06.94z\"/><path d=\"M17.41 7.96l-1.37-1.37c-.4-.4-.92-.59-1.43-.59-.52 0-1.04.2-1.43.59L10.3 9.45l-7.72 7.72c-.78.78-.78 2.05 0 2.83L4 21.41c.39.39.9.59 1.41.59.51 0 1.02-.2 1.41-.59l7.78-7.78 2.81-2.81c.8-.78.8-2.07 0-2.86zM5.41 20L4 18.59l7.72-7.72 1.47 1.35L5.41 20z\"/>\n",
              "  </svg>\n",
              "      </button>\n",
              "      \n",
              "  <style>\n",
              "    .colab-df-container {\n",
              "      display:flex;\n",
              "      flex-wrap:wrap;\n",
              "      gap: 12px;\n",
              "    }\n",
              "\n",
              "    .colab-df-convert {\n",
              "      background-color: #E8F0FE;\n",
              "      border: none;\n",
              "      border-radius: 50%;\n",
              "      cursor: pointer;\n",
              "      display: none;\n",
              "      fill: #1967D2;\n",
              "      height: 32px;\n",
              "      padding: 0 0 0 0;\n",
              "      width: 32px;\n",
              "    }\n",
              "\n",
              "    .colab-df-convert:hover {\n",
              "      background-color: #E2EBFA;\n",
              "      box-shadow: 0px 1px 2px rgba(60, 64, 67, 0.3), 0px 1px 3px 1px rgba(60, 64, 67, 0.15);\n",
              "      fill: #174EA6;\n",
              "    }\n",
              "\n",
              "    [theme=dark] .colab-df-convert {\n",
              "      background-color: #3B4455;\n",
              "      fill: #D2E3FC;\n",
              "    }\n",
              "\n",
              "    [theme=dark] .colab-df-convert:hover {\n",
              "      background-color: #434B5C;\n",
              "      box-shadow: 0px 1px 3px 1px rgba(0, 0, 0, 0.15);\n",
              "      filter: drop-shadow(0px 1px 2px rgba(0, 0, 0, 0.3));\n",
              "      fill: #FFFFFF;\n",
              "    }\n",
              "  </style>\n",
              "\n",
              "      <script>\n",
              "        const buttonEl =\n",
              "          document.querySelector('#df-db7b9ae6-c283-45cf-8c21-4f23e7c4244e button.colab-df-convert');\n",
              "        buttonEl.style.display =\n",
              "          google.colab.kernel.accessAllowed ? 'block' : 'none';\n",
              "\n",
              "        async function convertToInteractive(key) {\n",
              "          const element = document.querySelector('#df-db7b9ae6-c283-45cf-8c21-4f23e7c4244e');\n",
              "          const dataTable =\n",
              "            await google.colab.kernel.invokeFunction('convertToInteractive',\n",
              "                                                     [key], {});\n",
              "          if (!dataTable) return;\n",
              "\n",
              "          const docLinkHtml = 'Like what you see? Visit the ' +\n",
              "            '<a target=\"_blank\" href=https://colab.research.google.com/notebooks/data_table.ipynb>data table notebook</a>'\n",
              "            + ' to learn more about interactive tables.';\n",
              "          element.innerHTML = '';\n",
              "          dataTable['output_type'] = 'display_data';\n",
              "          await google.colab.output.renderOutput(dataTable, element);\n",
              "          const docLink = document.createElement('div');\n",
              "          docLink.innerHTML = docLinkHtml;\n",
              "          element.appendChild(docLink);\n",
              "        }\n",
              "      </script>\n",
              "    </div>\n",
              "  </div>\n",
              "  "
            ]
          },
          "metadata": {},
          "execution_count": 16
        }
      ]
    },
    {
      "cell_type": "code",
      "source": [
        "matrix = df.corr()"
      ],
      "metadata": {
        "id": "g38IINVJaDX4"
      },
      "execution_count": 17,
      "outputs": []
    },
    {
      "cell_type": "code",
      "source": [
        "# Create a mask\n",
        "plt.figure(figsize=(8,6))\n",
        "\n",
        "mask = np.triu(np.ones_like(matrix, dtype=bool))\n",
        "\n",
        "# Create a custom diverging palette\n",
        "cmap = sns.diverging_palette(250, 15, s=75, l=40,\n",
        "                             n=9, center=\"light\", as_cmap=True)\n",
        "sns.heatmap(matrix, mask=mask, center=0, annot=True,\n",
        "             fmt='.2f', square=True, cmap=cmap)"
      ],
      "metadata": {
        "colab": {
          "base_uri": "https://localhost:8080/",
          "height": 488
        },
        "id": "3H3f1Ku5aOvF",
        "outputId": "75a4fd52-fd68-4fcb-ee45-c9b558cfd0a0"
      },
      "execution_count": 18,
      "outputs": [
        {
          "output_type": "execute_result",
          "data": {
            "text/plain": [
              "<matplotlib.axes._subplots.AxesSubplot at 0x7fe8de0daf90>"
            ]
          },
          "metadata": {},
          "execution_count": 18
        },
        {
          "output_type": "display_data",
          "data": {
            "text/plain": [
              "<Figure size 576x432 with 2 Axes>"
            ],
            "image/png": "[encoded data removed]"
          },
          "metadata": {
            "needs_background": "light"
          }
        }
      ]
    },
    {
      "cell_type": "code",
      "source": [
        "df.isnull().sum()"
      ],
      "metadata": {
        "colab": {
          "base_uri": "https://localhost:8080/"
        },
        "id": "JIo67KrxaRiD",
        "outputId": "c0040f35-f3dc-49ce-adf1-2744b94b5cd6"
      },
      "execution_count": 19,
      "outputs": [
        {
          "output_type": "execute_result",
          "data": {
            "text/plain": [
              "studyName               0\n",
              "Sample Number           0\n",
              "Species                 0\n",
              "Region                  0\n",
              "Island                  0\n",
              "Stage                   0\n",
              "Individual ID           0\n",
              "Clutch Completion       0\n",
              "Date Egg                0\n",
              "Culmen Length (mm)      2\n",
              "Culmen Depth (mm)       2\n",
              "Flipper Length (mm)     2\n",
              "Body Mass (g)           2\n",
              "Sex                    10\n",
              "Delta 15 N (o/oo)      14\n",
              "Delta 13 C (o/oo)      13\n",
              "dtype: int64"
            ]
          },
          "metadata": {},
          "execution_count": 19
        }
      ]
    },
    {
      "cell_type": "code",
      "source": [
        "df.info()"
      ],
      "metadata": {
        "colab": {
          "base_uri": "https://localhost:8080/"
        },
        "id": "tF2tsd6NaeIM",
        "outputId": "2a4f98e8-7fc8-4b93-8a3b-a3f9860c503c"
      },
      "execution_count": 20,
      "outputs": [
        {
          "output_type": "stream",
          "name": "stdout",
          "text": [
            "<class 'pandas.core.frame.DataFrame'>\n",
            "RangeIndex: 344 entries, 0 to 343\n",
            "Data columns (total 16 columns):\n",
            " #   Column               Non-Null Count  Dtype  \n",
            "---  ------               --------------  -----  \n",
            " 0   studyName            344 non-null    object \n",
            " 1   Sample Number        344 non-null    int64  \n",
            " 2   Species              344 non-null    object \n",
            " 3   Region               344 non-null    object \n",
            " 4   Island               344 non-null    object \n",
            " 5   Stage                344 non-null    object \n",
            " 6   Individual ID        344 non-null    object \n",
            " 7   Clutch Completion    344 non-null    object \n",
            " 8   Date Egg             344 non-null    object \n",
            " 9   Culmen Length (mm)   342 non-null    float64\n",
            " 10  Culmen Depth (mm)    342 non-null    float64\n",
            " 11  Flipper Length (mm)  342 non-null    float64\n",
            " 12  Body Mass (g)        342 non-null    float64\n",
            " 13  Sex                  334 non-null    object \n",
            " 14  Delta 15 N (o/oo)    330 non-null    float64\n",
            " 15  Delta 13 C (o/oo)    331 non-null    float64\n",
            "dtypes: float64(6), int64(1), object(9)\n",
            "memory usage: 43.1+ KB\n"
          ]
        }
      ]
    },
    {
      "cell_type": "code",
      "source": [
        "df['Delta 15 N (o/oo)'].fillna(value=df['Delta 15 N (o/oo)'].mean(), inplace=True)"
      ],
      "metadata": {
        "id": "sI6eow4Nazh3"
      },
      "execution_count": 21,
      "outputs": []
    },
    {
      "cell_type": "code",
      "source": [
        "df.isnull().sum()"
      ],
      "metadata": {
        "colab": {
          "base_uri": "https://localhost:8080/"
        },
        "id": "4J5Z28PDbRDP",
        "outputId": "49eeeb93-10a5-4cad-8b97-efb99dc5ebb2"
      },
      "execution_count": 22,
      "outputs": [
        {
          "output_type": "execute_result",
          "data": {
            "text/plain": [
              "studyName               0\n",
              "Sample Number           0\n",
              "Species                 0\n",
              "Region                  0\n",
              "Island                  0\n",
              "Stage                   0\n",
              "Individual ID           0\n",
              "Clutch Completion       0\n",
              "Date Egg                0\n",
              "Culmen Length (mm)      2\n",
              "Culmen Depth (mm)       2\n",
              "Flipper Length (mm)     2\n",
              "Body Mass (g)           2\n",
              "Sex                    10\n",
              "Delta 15 N (o/oo)       0\n",
              "Delta 13 C (o/oo)      13\n",
              "dtype: int64"
            ]
          },
          "metadata": {},
          "execution_count": 22
        }
      ]
    },
    {
      "cell_type": "code",
      "source": [
        "df['Delta 13 C (o/oo)'].fillna(value=df['Delta 13 C (o/oo)'].mean(), inplace=True)\n",
        "df['Culmen Length (mm)'].fillna(value=df['Culmen Length (mm)'].mean(), inplace=True)\n",
        "df['Culmen Depth (mm)'].fillna(value=df['Culmen Depth (mm)'].mean(), inplace=True)\n",
        "df['Flipper Length (mm)'].fillna(value=df['Flipper Length (mm)'].mean(), inplace=True)\n",
        "df['Body Mass (g)'].fillna(value=df['Body Mass (g)'].mean(), inplace=True)"
      ],
      "metadata": {
        "id": "HJLPEDU7bUKN"
      },
      "execution_count": 23,
      "outputs": []
    },
    {
      "cell_type": "code",
      "source": [
        "df.isnull().sum()"
      ],
      "metadata": {
        "colab": {
          "base_uri": "https://localhost:8080/"
        },
        "id": "UasAAyIGbzqu",
        "outputId": "24b61a61-1d0d-4258-8edf-87d87eed071c"
      },
      "execution_count": 24,
      "outputs": [
        {
          "output_type": "execute_result",
          "data": {
            "text/plain": [
              "studyName               0\n",
              "Sample Number           0\n",
              "Species                 0\n",
              "Region                  0\n",
              "Island                  0\n",
              "Stage                   0\n",
              "Individual ID           0\n",
              "Clutch Completion       0\n",
              "Date Egg                0\n",
              "Culmen Length (mm)      0\n",
              "Culmen Depth (mm)       0\n",
              "Flipper Length (mm)     0\n",
              "Body Mass (g)           0\n",
              "Sex                    10\n",
              "Delta 15 N (o/oo)       0\n",
              "Delta 13 C (o/oo)       0\n",
              "dtype: int64"
            ]
          },
          "metadata": {},
          "execution_count": 24
        }
      ]
    },
    {
      "cell_type": "code",
      "source": [
        "sns.set_style('whitegrid')\n",
        "sns.countplot(x='Sex',data=df)"
      ],
      "metadata": {
        "colab": {
          "base_uri": "https://localhost:8080/",
          "height": 297
        },
        "id": "LAyYu60BcAZA",
        "outputId": "2417d7bb-2df7-4356-f8eb-87bb0dc5bb16"
      },
      "execution_count": 25,
      "outputs": [
        {
          "output_type": "execute_result",
          "data": {
            "text/plain": [
              "<matplotlib.axes._subplots.AxesSubplot at 0x7fe8ddaa6610>"
            ]
          },
          "metadata": {},
          "execution_count": 25
        },
        {
          "output_type": "display_data",
          "data": {
            "text/plain": [
              "<Figure size 432x288 with 1 Axes>"
            ],
            "image/png": "[encoded data removed]"
          },
          "metadata": {}
        }
      ]
    },
    {
      "cell_type": "code",
      "source": [
        "df['Sex'].fillna(value='FEMALE', inplace=True)"
      ],
      "metadata": {
        "id": "d73HMT5Cb19C"
      },
      "execution_count": 26,
      "outputs": []
    },
    {
      "cell_type": "code",
      "source": [
        "df.isnull().sum()"
      ],
      "metadata": {
        "colab": {
          "base_uri": "https://localhost:8080/"
        },
        "id": "QKuF8mBXcKTA",
        "outputId": "68dc043f-33d1-4378-f96b-cf8b779d8b4f"
      },
      "execution_count": 27,
      "outputs": [
        {
          "output_type": "execute_result",
          "data": {
            "text/plain": [
              "studyName              0\n",
              "Sample Number          0\n",
              "Species                0\n",
              "Region                 0\n",
              "Island                 0\n",
              "Stage                  0\n",
              "Individual ID          0\n",
              "Clutch Completion      0\n",
              "Date Egg               0\n",
              "Culmen Length (mm)     0\n",
              "Culmen Depth (mm)      0\n",
              "Flipper Length (mm)    0\n",
              "Body Mass (g)          0\n",
              "Sex                    0\n",
              "Delta 15 N (o/oo)      0\n",
              "Delta 13 C (o/oo)      0\n",
              "dtype: int64"
            ]
          },
          "metadata": {},
          "execution_count": 27
        }
      ]
    },
    {
      "cell_type": "code",
      "source": [
        "df.info()"
      ],
      "metadata": {
        "colab": {
          "base_uri": "https://localhost:8080/"
        },
        "id": "zWdwKsTQcNam",
        "outputId": "54cdf3b1-6c35-407e-f9af-350a36aca63d"
      },
      "execution_count": 28,
      "outputs": [
        {
          "output_type": "stream",
          "name": "stdout",
          "text": [
            "<class 'pandas.core.frame.DataFrame'>\n",
            "RangeIndex: 344 entries, 0 to 343\n",
            "Data columns (total 16 columns):\n",
            " #   Column               Non-Null Count  Dtype  \n",
            "---  ------               --------------  -----  \n",
            " 0   studyName            344 non-null    object \n",
            " 1   Sample Number        344 non-null    int64  \n",
            " 2   Species              344 non-null    object \n",
            " 3   Region               344 non-null    object \n",
            " 4   Island               344 non-null    object \n",
            " 5   Stage                344 non-null    object \n",
            " 6   Individual ID        344 non-null    object \n",
            " 7   Clutch Completion    344 non-null    object \n",
            " 8   Date Egg             344 non-null    object \n",
            " 9   Culmen Length (mm)   344 non-null    float64\n",
            " 10  Culmen Depth (mm)    344 non-null    float64\n",
            " 11  Flipper Length (mm)  344 non-null    float64\n",
            " 12  Body Mass (g)        344 non-null    float64\n",
            " 13  Sex                  344 non-null    object \n",
            " 14  Delta 15 N (o/oo)    344 non-null    float64\n",
            " 15  Delta 13 C (o/oo)    344 non-null    float64\n",
            "dtypes: float64(6), int64(1), object(9)\n",
            "memory usage: 43.1+ KB\n"
          ]
        }
      ]
    },
    {
      "cell_type": "code",
      "source": [
        "df['studyName'].unique()"
      ],
      "metadata": {
        "colab": {
          "base_uri": "https://localhost:8080/"
        },
        "id": "JBYxS3VXdDsL",
        "outputId": "5eb70e2c-c54e-4ca3-e27c-ffbd336c69e9"
      },
      "execution_count": 29,
      "outputs": [
        {
          "output_type": "execute_result",
          "data": {
            "text/plain": [
              "array(['PAL0708', 'PAL0809', 'PAL0910'], dtype=object)"
            ]
          },
          "metadata": {},
          "execution_count": 29
        }
      ]
    },
    {
      "cell_type": "code",
      "source": [
        "df['Sex'].unique()"
      ],
      "metadata": {
        "colab": {
          "base_uri": "https://localhost:8080/"
        },
        "id": "NUJdieyCdJM3",
        "outputId": "e4ae6ff6-b85b-4cb2-9e92-1f5b8e499e91"
      },
      "execution_count": 30,
      "outputs": [
        {
          "output_type": "execute_result",
          "data": {
            "text/plain": [
              "array(['MALE', 'FEMALE', '.'], dtype=object)"
            ]
          },
          "metadata": {},
          "execution_count": 30
        }
      ]
    },
    {
      "cell_type": "code",
      "source": [
        "df['Species'].unique()"
      ],
      "metadata": {
        "colab": {
          "base_uri": "https://localhost:8080/"
        },
        "id": "-EQrIy4fdNZJ",
        "outputId": "25909a3b-1d29-41ab-9e6b-adc7a09e2d2e"
      },
      "execution_count": 31,
      "outputs": [
        {
          "output_type": "execute_result",
          "data": {
            "text/plain": [
              "array(['Adelie Penguin (Pygoscelis adeliae)',\n",
              "       'Chinstrap penguin (Pygoscelis antarctica)',\n",
              "       'Gentoo penguin (Pygoscelis papua)'], dtype=object)"
            ]
          },
          "metadata": {},
          "execution_count": 31
        }
      ]
    },
    {
      "cell_type": "code",
      "source": [
        "df['Region'].unique()"
      ],
      "metadata": {
        "colab": {
          "base_uri": "https://localhost:8080/"
        },
        "id": "3EMOY2RRdTJ2",
        "outputId": "20cd2a3d-399c-4548-beb6-edde1c51f9cd"
      },
      "execution_count": 32,
      "outputs": [
        {
          "output_type": "execute_result",
          "data": {
            "text/plain": [
              "array(['Anvers'], dtype=object)"
            ]
          },
          "metadata": {},
          "execution_count": 32
        }
      ]
    },
    {
      "cell_type": "code",
      "source": [
        "df.drop(['Region'] , axis = 1 , inplace = True)"
      ],
      "metadata": {
        "id": "MNU9T-m7dX_x"
      },
      "execution_count": 33,
      "outputs": []
    },
    {
      "cell_type": "code",
      "source": [
        "df.info()"
      ],
      "metadata": {
        "colab": {
          "base_uri": "https://localhost:8080/"
        },
        "id": "PcR331R6dgtq",
        "outputId": "0456c395-d9b7-48e0-a074-c7e96563ff5b"
      },
      "execution_count": 34,
      "outputs": [
        {
          "output_type": "stream",
          "name": "stdout",
          "text": [
            "<class 'pandas.core.frame.DataFrame'>\n",
            "RangeIndex: 344 entries, 0 to 343\n",
            "Data columns (total 15 columns):\n",
            " #   Column               Non-Null Count  Dtype  \n",
            "---  ------               --------------  -----  \n",
            " 0   studyName            344 non-null    object \n",
            " 1   Sample Number        344 non-null    int64  \n",
            " 2   Species              344 non-null    object \n",
            " 3   Island               344 non-null    object \n",
            " 4   Stage                344 non-null    object \n",
            " 5   Individual ID        344 non-null    object \n",
            " 6   Clutch Completion    344 non-null    object \n",
            " 7   Date Egg             344 non-null    object \n",
            " 8   Culmen Length (mm)   344 non-null    float64\n",
            " 9   Culmen Depth (mm)    344 non-null    float64\n",
            " 10  Flipper Length (mm)  344 non-null    float64\n",
            " 11  Body Mass (g)        344 non-null    float64\n",
            " 12  Sex                  344 non-null    object \n",
            " 13  Delta 15 N (o/oo)    344 non-null    float64\n",
            " 14  Delta 13 C (o/oo)    344 non-null    float64\n",
            "dtypes: float64(6), int64(1), object(8)\n",
            "memory usage: 40.4+ KB\n"
          ]
        }
      ]
    },
    {
      "cell_type": "code",
      "source": [
        "df['Island'].unique()"
      ],
      "metadata": {
        "colab": {
          "base_uri": "https://localhost:8080/"
        },
        "id": "IE6Fu32IdiHT",
        "outputId": "bfa75d45-61fc-4805-bc87-d9bfc74b9b92"
      },
      "execution_count": 36,
      "outputs": [
        {
          "output_type": "execute_result",
          "data": {
            "text/plain": [
              "array(['Torgersen', 'Biscoe', 'Dream'], dtype=object)"
            ]
          },
          "metadata": {},
          "execution_count": 36
        }
      ]
    },
    {
      "cell_type": "code",
      "source": [
        "Species = df['Species']"
      ],
      "metadata": {
        "id": "101BoCgLdneR"
      },
      "execution_count": 37,
      "outputs": []
    },
    {
      "cell_type": "code",
      "source": [
        "Species"
      ],
      "metadata": {
        "colab": {
          "base_uri": "https://localhost:8080/"
        },
        "id": "unnTRqykdzoD",
        "outputId": "2ee09ed1-fd54-431f-dc91-d4e93bdbc443"
      },
      "execution_count": 38,
      "outputs": [
        {
          "output_type": "execute_result",
          "data": {
            "text/plain": [
              "0      Adelie Penguin (Pygoscelis adeliae)\n",
              "1      Adelie Penguin (Pygoscelis adeliae)\n",
              "2      Adelie Penguin (Pygoscelis adeliae)\n",
              "3      Adelie Penguin (Pygoscelis adeliae)\n",
              "4      Adelie Penguin (Pygoscelis adeliae)\n",
              "                      ...                 \n",
              "339      Gentoo penguin (Pygoscelis papua)\n",
              "340      Gentoo penguin (Pygoscelis papua)\n",
              "341      Gentoo penguin (Pygoscelis papua)\n",
              "342      Gentoo penguin (Pygoscelis papua)\n",
              "343      Gentoo penguin (Pygoscelis papua)\n",
              "Name: Species, Length: 344, dtype: object"
            ]
          },
          "metadata": {},
          "execution_count": 38
        }
      ]
    },
    {
      "cell_type": "code",
      "source": [
        "df.drop(['Species'] , axis = 1 , inplace=True)"
      ],
      "metadata": {
        "id": "GNWjNivsd1GS"
      },
      "execution_count": 39,
      "outputs": []
    },
    {
      "cell_type": "code",
      "source": [
        "df['Species'] = Species"
      ],
      "metadata": {
        "id": "b4Lud4gQd5ac"
      },
      "execution_count": 40,
      "outputs": []
    },
    {
      "cell_type": "code",
      "source": [
        "df.head()"
      ],
      "metadata": {
        "colab": {
          "base_uri": "https://localhost:8080/",
          "height": 565
        },
        "id": "TEXqecQdd83Y",
        "outputId": "14277e32-add9-4826-8f1d-3e86070b5ec5"
      },
      "execution_count": 41,
      "outputs": [
        {
          "output_type": "execute_result",
          "data": {
            "text/plain": [
              "  studyName  Sample Number     Island               Stage Individual ID  \\\n",
              "0   PAL0708              1  Torgersen  Adult, 1 Egg Stage          N1A1   \n",
              "1   PAL0708              2  Torgersen  Adult, 1 Egg Stage          N1A2   \n",
              "2   PAL0708              3  Torgersen  Adult, 1 Egg Stage          N2A1   \n",
              "3   PAL0708              4  Torgersen  Adult, 1 Egg Stage          N2A2   \n",
              "4   PAL0708              5  Torgersen  Adult, 1 Egg Stage          N3A1   \n",
              "\n",
              "  Clutch Completion  Date Egg  Culmen Length (mm)  Culmen Depth (mm)  \\\n",
              "0               Yes  11/11/07            39.10000           18.70000   \n",
              "1               Yes  11/11/07            39.50000           17.40000   \n",
              "2               Yes  11/16/07            40.30000           18.00000   \n",
              "3               Yes  11/16/07            43.92193           17.15117   \n",
              "4               Yes  11/16/07            36.70000           19.30000   \n",
              "\n",
              "   Flipper Length (mm)  Body Mass (g)     Sex  Delta 15 N (o/oo)  \\\n",
              "0           181.000000    3750.000000    MALE           8.733382   \n",
              "1           186.000000    3800.000000  FEMALE           8.949560   \n",
              "2           195.000000    3250.000000  FEMALE           8.368210   \n",
              "3           200.915205    4201.754386  FEMALE           8.733382   \n",
              "4           193.000000    3450.000000  FEMALE           8.766510   \n",
              "\n",
              "   Delta 13 C (o/oo)                              Species  \n",
              "0         -25.686292  Adelie Penguin (Pygoscelis adeliae)  \n",
              "1         -24.694540  Adelie Penguin (Pygoscelis adeliae)  \n",
              "2         -25.333020  Adelie Penguin (Pygoscelis adeliae)  \n",
              "3         -25.686292  Adelie Penguin (Pygoscelis adeliae)  \n",
              "4         -25.324260  Adelie Penguin (Pygoscelis adeliae)  "
            ],
            "text/html": [
              "\n",
              "  <div id=\"df-fdc88439-ec19-495f-bc65-a1c13e5f6f5d\">\n",
              "    <div class=\"colab-df-container\">\n",
              "      <div>\n",
              "<style scoped>\n",
              "    .dataframe tbody tr th:only-of-type {\n",
              "        vertical-align: middle;\n",
              "    }\n",
              "\n",
              "    .dataframe tbody tr th {\n",
              "        vertical-align: top;\n",
              "    }\n",
              "\n",
              "    .dataframe thead th {\n",
              "        text-align: right;\n",
              "    }\n",
              "</style>\n",
              "<table border=\"1\" class=\"dataframe\">\n",
              "  <thead>\n",
              "    <tr style=\"text-align: right;\">\n",
              "      <th></th>\n",
              "      <th>studyName</th>\n",
              "      <th>Sample Number</th>\n",
              "      <th>Island</th>\n",
              "      <th>Stage</th>\n",
              "      <th>Individual ID</th>\n",
              "      <th>Clutch Completion</th>\n",
              "      <th>Date Egg</th>\n",
              "      <th>Culmen Length (mm)</th>\n",
              "      <th>Culmen Depth (mm)</th>\n",
              "      <th>Flipper Length (mm)</th>\n",
              "      <th>Body Mass (g)</th>\n",
              "      <th>Sex</th>\n",
              "      <th>Delta 15 N (o/oo)</th>\n",
              "      <th>Delta 13 C (o/oo)</th>\n",
              "      <th>Species</th>\n",
              "    </tr>\n",
              "  </thead>\n",
              "  <tbody>\n",
              "    <tr>\n",
              "      <th>0</th>\n",
              "      <td>PAL0708</td>\n",
              "      <td>1</td>\n",
              "      <td>Torgersen</td>\n",
              "      <td>Adult, 1 Egg Stage</td>\n",
              "      <td>N1A1</td>\n",
              "      <td>Yes</td>\n",
              "      <td>11/11/07</td>\n",
              "      <td>39.10000</td>\n",
              "      <td>18.70000</td>\n",
              "      <td>181.000000</td>\n",
              "      <td>3750.000000</td>\n",
              "      <td>MALE</td>\n",
              "      <td>8.733382</td>\n",
              "      <td>-25.686292</td>\n",
              "      <td>Adelie Penguin (Pygoscelis adeliae)</td>\n",
              "    </tr>\n",
              "    <tr>\n",
              "      <th>1</th>\n",
              "      <td>PAL0708</td>\n",
              "      <td>2</td>\n",
              "      <td>Torgersen</td>\n",
              "      <td>Adult, 1 Egg Stage</td>\n",
              "      <td>N1A2</td>\n",
              "      <td>Yes</td>\n",
              "      <td>11/11/07</td>\n",
              "      <td>39.50000</td>\n",
              "      <td>17.40000</td>\n",
              "      <td>186.000000</td>\n",
              "      <td>3800.000000</td>\n",
              "      <td>FEMALE</td>\n",
              "      <td>8.949560</td>\n",
              "      <td>-24.694540</td>\n",
              "      <td>Adelie Penguin (Pygoscelis adeliae)</td>\n",
              "    </tr>\n",
              "    <tr>\n",
              "      <th>2</th>\n",
              "      <td>PAL0708</td>\n",
              "      <td>3</td>\n",
              "      <td>Torgersen</td>\n",
              "      <td>Adult, 1 Egg Stage</td>\n",
              "      <td>N2A1</td>\n",
              "      <td>Yes</td>\n",
              "      <td>11/16/07</td>\n",
              "      <td>40.30000</td>\n",
              "      <td>18.00000</td>\n",
              "      <td>195.000000</td>\n",
              "      <td>3250.000000</td>\n",
              "      <td>FEMALE</td>\n",
              "      <td>8.368210</td>\n",
              "      <td>-25.333020</td>\n",
              "      <td>Adelie Penguin (Pygoscelis adeliae)</td>\n",
              "    </tr>\n",
              "    <tr>\n",
              "      <th>3</th>\n",
              "      <td>PAL0708</td>\n",
              "      <td>4</td>\n",
              "      <td>Torgersen</td>\n",
              "      <td>Adult, 1 Egg Stage</td>\n",
              "      <td>N2A2</td>\n",
              "      <td>Yes</td>\n",
              "      <td>11/16/07</td>\n",
              "      <td>43.92193</td>\n",
              "      <td>17.15117</td>\n",
              "      <td>200.915205</td>\n",
              "      <td>4201.754386</td>\n",
              "      <td>FEMALE</td>\n",
              "      <td>8.733382</td>\n",
              "      <td>-25.686292</td>\n",
              "      <td>Adelie Penguin (Pygoscelis adeliae)</td>\n",
              "    </tr>\n",
              "    <tr>\n",
              "      <th>4</th>\n",
              "      <td>PAL0708</td>\n",
              "      <td>5</td>\n",
              "      <td>Torgersen</td>\n",
              "      <td>Adult, 1 Egg Stage</td>\n",
              "      <td>N3A1</td>\n",
              "      <td>Yes</td>\n",
              "      <td>11/16/07</td>\n",
              "      <td>36.70000</td>\n",
              "      <td>19.30000</td>\n",
              "      <td>193.000000</td>\n",
              "      <td>3450.000000</td>\n",
              "      <td>FEMALE</td>\n",
              "      <td>8.766510</td>\n",
              "      <td>-25.324260</td>\n",
              "      <td>Adelie Penguin (Pygoscelis adeliae)</td>\n",
              "    </tr>\n",
              "  </tbody>\n",
              "</table>\n",
              "</div>\n",
              "      <button class=\"colab-df-convert\" onclick=\"convertToInteractive('df-fdc88439-ec19-495f-bc65-a1c13e5f6f5d')\"\n",
              "              title=\"Convert this dataframe to an interactive table.\"\n",
              "              style=\"display:none;\">\n",
              "        \n",
              "  <svg xmlns=\"http://www.w3.org/2000/svg\" height=\"24px\"viewBox=\"0 0 24 24\"\n",
              "       width=\"24px\">\n",
              "    <path d=\"M0 0h24v24H0V0z\" fill=\"none\"/>\n",
              "    <path d=\"M18.56 5.44l.94 2.06.94-2.06 2.06-.94-2.06-.94-.94-2.06-.94 2.06-2.06.94zm-11 1L8.5 8.5l.94-2.06 2.06-.94-2.06-.94L8.5 2.5l-.94 2.06-2.06.94zm10 10l.94 2.06.94-2.06 2.06-.94-2.06-.94-.94-2.06-.94 2.06-2.06.94z\"/><path d=\"M17.41 7.96l-1.37-1.37c-.4-.4-.92-.59-1.43-.59-.52 0-1.04.2-1.43.59L10.3 9.45l-7.72 7.72c-.78.78-.78 2.05 0 2.83L4 21.41c.39.39.9.59 1.41.59.51 0 1.02-.2 1.41-.59l7.78-7.78 2.81-2.81c.8-.78.8-2.07 0-2.86zM5.41 20L4 18.59l7.72-7.72 1.47 1.35L5.41 20z\"/>\n",
              "  </svg>\n",
              "      </button>\n",
              "      \n",
              "  <style>\n",
              "    .colab-df-container {\n",
              "      display:flex;\n",
              "      flex-wrap:wrap;\n",
              "      gap: 12px;\n",
              "    }\n",
              "\n",
              "    .colab-df-convert {\n",
              "      background-color: #E8F0FE;\n",
              "      border: none;\n",
              "      border-radius: 50%;\n",
              "      cursor: pointer;\n",
              "      display: none;\n",
              "      fill: #1967D2;\n",
              "      height: 32px;\n",
              "      padding: 0 0 0 0;\n",
              "      width: 32px;\n",
              "    }\n",
              "\n",
              "    .colab-df-convert:hover {\n",
              "      background-color: #E2EBFA;\n",
              "      box-shadow: 0px 1px 2px rgba(60, 64, 67, 0.3), 0px 1px 3px 1px rgba(60, 64, 67, 0.15);\n",
              "      fill: #174EA6;\n",
              "    }\n",
              "\n",
              "    [theme=dark] .colab-df-convert {\n",
              "      background-color: #3B4455;\n",
              "      fill: #D2E3FC;\n",
              "    }\n",
              "\n",
              "    [theme=dark] .colab-df-convert:hover {\n",
              "      background-color: #434B5C;\n",
              "      box-shadow: 0px 1px 3px 1px rgba(0, 0, 0, 0.15);\n",
              "      filter: drop-shadow(0px 1px 2px rgba(0, 0, 0, 0.3));\n",
              "      fill: #FFFFFF;\n",
              "    }\n",
              "  </style>\n",
              "\n",
              "      <script>\n",
              "        const buttonEl =\n",
              "          document.querySelector('#df-fdc88439-ec19-495f-bc65-a1c13e5f6f5d button.colab-df-convert');\n",
              "        buttonEl.style.display =\n",
              "          google.colab.kernel.accessAllowed ? 'block' : 'none';\n",
              "\n",
              "        async function convertToInteractive(key) {\n",
              "          const element = document.querySelector('#df-fdc88439-ec19-495f-bc65-a1c13e5f6f5d');\n",
              "          const dataTable =\n",
              "            await google.colab.kernel.invokeFunction('convertToInteractive',\n",
              "                                                     [key], {});\n",
              "          if (!dataTable) return;\n",
              "\n",
              "          const docLinkHtml = 'Like what you see? Visit the ' +\n",
              "            '<a target=\"_blank\" href=https://colab.research.google.com/notebooks/data_table.ipynb>data table notebook</a>'\n",
              "            + ' to learn more about interactive tables.';\n",
              "          element.innerHTML = '';\n",
              "          dataTable['output_type'] = 'display_data';\n",
              "          await google.colab.output.renderOutput(dataTable, element);\n",
              "          const docLink = document.createElement('div');\n",
              "          docLink.innerHTML = docLinkHtml;\n",
              "          element.appendChild(docLink);\n",
              "        }\n",
              "      </script>\n",
              "    </div>\n",
              "  </div>\n",
              "  "
            ]
          },
          "metadata": {},
          "execution_count": 41
        }
      ]
    },
    {
      "cell_type": "code",
      "source": [
        "df.info()"
      ],
      "metadata": {
        "colab": {
          "base_uri": "https://localhost:8080/"
        },
        "id": "NxkbB7SKd99M",
        "outputId": "3cc28cf2-a0aa-439b-8134-3266b996bc8c"
      },
      "execution_count": 42,
      "outputs": [
        {
          "output_type": "stream",
          "name": "stdout",
          "text": [
            "<class 'pandas.core.frame.DataFrame'>\n",
            "RangeIndex: 344 entries, 0 to 343\n",
            "Data columns (total 15 columns):\n",
            " #   Column               Non-Null Count  Dtype  \n",
            "---  ------               --------------  -----  \n",
            " 0   studyName            344 non-null    object \n",
            " 1   Sample Number        344 non-null    int64  \n",
            " 2   Island               344 non-null    object \n",
            " 3   Stage                344 non-null    object \n",
            " 4   Individual ID        344 non-null    object \n",
            " 5   Clutch Completion    344 non-null    object \n",
            " 6   Date Egg             344 non-null    object \n",
            " 7   Culmen Length (mm)   344 non-null    float64\n",
            " 8   Culmen Depth (mm)    344 non-null    float64\n",
            " 9   Flipper Length (mm)  344 non-null    float64\n",
            " 10  Body Mass (g)        344 non-null    float64\n",
            " 11  Sex                  344 non-null    object \n",
            " 12  Delta 15 N (o/oo)    344 non-null    float64\n",
            " 13  Delta 13 C (o/oo)    344 non-null    float64\n",
            " 14  Species              344 non-null    object \n",
            "dtypes: float64(6), int64(1), object(8)\n",
            "memory usage: 40.4+ KB\n"
          ]
        }
      ]
    },
    {
      "cell_type": "code",
      "source": [
        "df['Individual ID'].unique()"
      ],
      "metadata": {
        "colab": {
          "base_uri": "https://localhost:8080/"
        },
        "id": "AGuyXdB2eAvD",
        "outputId": "6d54c584-dfd3-48a5-b26a-038ecdf0395c"
      },
      "execution_count": 43,
      "outputs": [
        {
          "output_type": "execute_result",
          "data": {
            "text/plain": [
              "array(['N1A1', 'N1A2', 'N2A1', 'N2A2', 'N3A1', 'N3A2', 'N4A1', 'N4A2',\n",
              "       'N5A1', 'N5A2', 'N6A1', 'N6A2', 'N7A1', 'N7A2', 'N8A1', 'N8A2',\n",
              "       'N9A1', 'N9A2', 'N10A1', 'N10A2', 'N11A1', 'N11A2', 'N12A1',\n",
              "       'N12A2', 'N13A1', 'N13A2', 'N17A1', 'N17A2', 'N18A1', 'N18A2',\n",
              "       'N21A1', 'N21A2', 'N22A1', 'N22A2', 'N23A1', 'N23A2', 'N24A1',\n",
              "       'N24A2', 'N25A1', 'N25A2', 'N26A1', 'N26A2', 'N27A1', 'N27A2',\n",
              "       'N28A1', 'N28A2', 'N29A1', 'N29A2', 'N30A1', 'N30A2', 'N32A1',\n",
              "       'N32A2', 'N34A1', 'N34A2', 'N35A1', 'N35A2', 'N36A1', 'N36A2',\n",
              "       'N37A1', 'N37A2', 'N38A1', 'N38A2', 'N39A1', 'N39A2', 'N40A1',\n",
              "       'N40A2', 'N41A1', 'N41A2', 'N42A1', 'N42A2', 'N44A1', 'N44A2',\n",
              "       'N45A1', 'N45A2', 'N46A1', 'N46A2', 'N48A1', 'N48A2', 'N49A1',\n",
              "       'N49A2', 'N50A1', 'N50A2', 'N47A1', 'N47A2', 'N51A1', 'N51A2',\n",
              "       'N53A1', 'N53A2', 'N55A1', 'N55A2', 'N58A1', 'N58A2', 'N60A1',\n",
              "       'N60A2', 'N61A1', 'N61A2', 'N63A1', 'N63A2', 'N64A1', 'N64A2',\n",
              "       'N66A1', 'N66A2', 'N67A1', 'N67A2', 'N69A1', 'N69A2', 'N71A1',\n",
              "       'N71A2', 'N72A1', 'N72A2', 'N73A1', 'N73A2', 'N76A1', 'N76A2',\n",
              "       'N77A1', 'N77A2', 'N78A1', 'N78A2', 'N79A1', 'N79A2', 'N80A1',\n",
              "       'N80A2', 'N81A1', 'N81A2', 'N82A1', 'N82A2', 'N83A1', 'N83A2',\n",
              "       'N84A1', 'N84A2', 'N85A1', 'N85A2', 'N62A1', 'N62A2', 'N68A1',\n",
              "       'N68A2', 'N70A1', 'N70A2', 'N89A1', 'N89A2', 'N65A1', 'N65A2',\n",
              "       'N74A1', 'N74A2', 'N75A1', 'N75A2', 'N86A1', 'N86A2', 'N87A1',\n",
              "       'N87A2', 'N88A1', 'N88A2', 'N90A1', 'N90A2', 'N92A1', 'N92A2',\n",
              "       'N93A1', 'N93A2', 'N94A1', 'N94A2', 'N95A1', 'N95A2', 'N96A1',\n",
              "       'N96A2', 'N98A1', 'N98A2', 'N99A1', 'N99A2', 'N100A1', 'N100A2',\n",
              "       'N31A1', 'N31A2', 'N33A1', 'N33A2', 'N56A1', 'N56A2', 'N14A1',\n",
              "       'N14A2', 'N15A1', 'N15A2', 'N16A1', 'N16A2', 'N19A1', 'N19A2',\n",
              "       'N20A1', 'N20A2', 'N54A1', 'N54A2', 'N43A1', 'N43A2'], dtype=object)"
            ]
          },
          "metadata": {},
          "execution_count": 43
        }
      ]
    },
    {
      "cell_type": "code",
      "source": [
        "df['Clutch Completion'].unique()"
      ],
      "metadata": {
        "colab": {
          "base_uri": "https://localhost:8080/"
        },
        "id": "eQDmzhxdeGXJ",
        "outputId": "81180b3b-b581-4fa5-b1c3-ff4aeac3d2d2"
      },
      "execution_count": 44,
      "outputs": [
        {
          "output_type": "execute_result",
          "data": {
            "text/plain": [
              "array(['Yes', 'No'], dtype=object)"
            ]
          },
          "metadata": {},
          "execution_count": 44
        }
      ]
    },
    {
      "cell_type": "code",
      "source": [
        "df['Date Egg'].unique()"
      ],
      "metadata": {
        "colab": {
          "base_uri": "https://localhost:8080/"
        },
        "id": "QhtrqwoeePYq",
        "outputId": "5f0a1ea5-920d-44e9-87ec-ee598b3d6542"
      },
      "execution_count": 45,
      "outputs": [
        {
          "output_type": "execute_result",
          "data": {
            "text/plain": [
              "array(['11/11/07', '11/16/07', '11/15/07', '11/9/07', '11/12/07',\n",
              "       '11/10/07', '11/13/07', '11/19/07', '11/6/08', '11/9/08',\n",
              "       '11/15/08', '11/13/08', '11/11/08', '11/14/08', '11/8/08',\n",
              "       '11/2/08', '11/7/08', '11/17/08', '11/5/08', '11/10/08', '11/9/09',\n",
              "       '11/15/09', '11/20/09', '11/12/09', '11/17/09', '11/18/09',\n",
              "       '11/22/09', '11/16/09', '11/21/09', '11/23/09', '11/10/09',\n",
              "       '11/13/09', '11/14/09', '11/26/07', '11/21/07', '11/28/07',\n",
              "       '11/22/07', '11/30/07', '12/3/07', '11/25/08', '11/24/08',\n",
              "       '11/27/09', '11/19/09', '11/27/07', '11/18/07', '11/29/07',\n",
              "       '11/4/08', '11/3/08', '11/25/09', '12/1/09'], dtype=object)"
            ]
          },
          "metadata": {},
          "execution_count": 45
        }
      ]
    },
    {
      "cell_type": "code",
      "source": [
        "df.info()"
      ],
      "metadata": {
        "colab": {
          "base_uri": "https://localhost:8080/"
        },
        "id": "Sb-e9ZdkeXVp",
        "outputId": "f3852ad2-fb76-4246-ceee-21b68d185416"
      },
      "execution_count": 46,
      "outputs": [
        {
          "output_type": "stream",
          "name": "stdout",
          "text": [
            "<class 'pandas.core.frame.DataFrame'>\n",
            "RangeIndex: 344 entries, 0 to 343\n",
            "Data columns (total 15 columns):\n",
            " #   Column               Non-Null Count  Dtype  \n",
            "---  ------               --------------  -----  \n",
            " 0   studyName            344 non-null    object \n",
            " 1   Sample Number        344 non-null    int64  \n",
            " 2   Island               344 non-null    object \n",
            " 3   Stage                344 non-null    object \n",
            " 4   Individual ID        344 non-null    object \n",
            " 5   Clutch Completion    344 non-null    object \n",
            " 6   Date Egg             344 non-null    object \n",
            " 7   Culmen Length (mm)   344 non-null    float64\n",
            " 8   Culmen Depth (mm)    344 non-null    float64\n",
            " 9   Flipper Length (mm)  344 non-null    float64\n",
            " 10  Body Mass (g)        344 non-null    float64\n",
            " 11  Sex                  344 non-null    object \n",
            " 12  Delta 15 N (o/oo)    344 non-null    float64\n",
            " 13  Delta 13 C (o/oo)    344 non-null    float64\n",
            " 14  Species              344 non-null    object \n",
            "dtypes: float64(6), int64(1), object(8)\n",
            "memory usage: 40.4+ KB\n"
          ]
        }
      ]
    },
    {
      "cell_type": "code",
      "source": [
        "print(df['studyName'].unique())\n",
        "print(df['Island'].unique())\n",
        "print(df['Stage'].unique())\n",
        "print(df['Clutch Completion'].unique())\n",
        "print(df['Species'].unique())\n"
      ],
      "metadata": {
        "colab": {
          "base_uri": "https://localhost:8080/"
        },
        "id": "Mf05lyxueZ_p",
        "outputId": "aac92385-00e4-4005-8ccd-778b0e9ed67f"
      },
      "execution_count": 47,
      "outputs": [
        {
          "output_type": "stream",
          "name": "stdout",
          "text": [
            "['PAL0708' 'PAL0809' 'PAL0910']\n",
            "['Torgersen' 'Biscoe' 'Dream']\n",
            "['Adult, 1 Egg Stage']\n",
            "['Yes' 'No']\n",
            "['Adelie Penguin (Pygoscelis adeliae)'\n",
            " 'Chinstrap penguin (Pygoscelis antarctica)'\n",
            " 'Gentoo penguin (Pygoscelis papua)']\n"
          ]
        }
      ]
    },
    {
      "cell_type": "code",
      "source": [
        "Sex = pd.get_dummies(df['Sex'],drop_first=True)\n",
        "Island = pd.get_dummies(df['Island'],drop_first=True)\n",
        "Stage = pd.get_dummies(df['Stage'],drop_first=True)"
      ],
      "metadata": {
        "id": "aiKRqgVue6Y_"
      },
      "execution_count": 48,
      "outputs": []
    },
    {
      "cell_type": "code",
      "source": [
        "df.drop(['Sex','Island','Stage','Stage'],axis=1,inplace=True)"
      ],
      "metadata": {
        "id": "Yj0vqQcMgovM"
      },
      "execution_count": 49,
      "outputs": []
    },
    {
      "cell_type": "code",
      "source": [
        "df.head()"
      ],
      "metadata": {
        "colab": {
          "base_uri": "https://localhost:8080/",
          "height": 458
        },
        "id": "Edr1Isovg1Rz",
        "outputId": "c538173d-c115-4bf5-a04b-bc1f44622b6d"
      },
      "execution_count": 50,
      "outputs": [
        {
          "output_type": "execute_result",
          "data": {
            "text/plain": [
              "  studyName  Sample Number Individual ID Clutch Completion  Date Egg  \\\n",
              "0   PAL0708              1          N1A1               Yes  11/11/07   \n",
              "1   PAL0708              2          N1A2               Yes  11/11/07   \n",
              "2   PAL0708              3          N2A1               Yes  11/16/07   \n",
              "3   PAL0708              4          N2A2               Yes  11/16/07   \n",
              "4   PAL0708              5          N3A1               Yes  11/16/07   \n",
              "\n",
              "   Culmen Length (mm)  Culmen Depth (mm)  Flipper Length (mm)  Body Mass (g)  \\\n",
              "0            39.10000           18.70000           181.000000    3750.000000   \n",
              "1            39.50000           17.40000           186.000000    3800.000000   \n",
              "2            40.30000           18.00000           195.000000    3250.000000   \n",
              "3            43.92193           17.15117           200.915205    4201.754386   \n",
              "4            36.70000           19.30000           193.000000    3450.000000   \n",
              "\n",
              "   Delta 15 N (o/oo)  Delta 13 C (o/oo)                              Species  \n",
              "0           8.733382         -25.686292  Adelie Penguin (Pygoscelis adeliae)  \n",
              "1           8.949560         -24.694540  Adelie Penguin (Pygoscelis adeliae)  \n",
              "2           8.368210         -25.333020  Adelie Penguin (Pygoscelis adeliae)  \n",
              "3           8.733382         -25.686292  Adelie Penguin (Pygoscelis adeliae)  \n",
              "4           8.766510         -25.324260  Adelie Penguin (Pygoscelis adeliae)  "
            ],
            "text/html": [
              "\n",
              "  <div id=\"df-89485e0b-44c0-4624-9411-eea924c5a127\">\n",
              "    <div class=\"colab-df-container\">\n",
              "      <div>\n",
              "<style scoped>\n",
              "    .dataframe tbody tr th:only-of-type {\n",
              "        vertical-align: middle;\n",
              "    }\n",
              "\n",
              "    .dataframe tbody tr th {\n",
              "        vertical-align: top;\n",
              "    }\n",
              "\n",
              "    .dataframe thead th {\n",
              "        text-align: right;\n",
              "    }\n",
              "</style>\n",
              "<table border=\"1\" class=\"dataframe\">\n",
              "  <thead>\n",
              "    <tr style=\"text-align: right;\">\n",
              "      <th></th>\n",
              "      <th>studyName</th>\n",
              "      <th>Sample Number</th>\n",
              "      <th>Individual ID</th>\n",
              "      <th>Clutch Completion</th>\n",
              "      <th>Date Egg</th>\n",
              "      <th>Culmen Length (mm)</th>\n",
              "      <th>Culmen Depth (mm)</th>\n",
              "      <th>Flipper Length (mm)</th>\n",
              "      <th>Body Mass (g)</th>\n",
              "      <th>Delta 15 N (o/oo)</th>\n",
              "      <th>Delta 13 C (o/oo)</th>\n",
              "      <th>Species</th>\n",
              "    </tr>\n",
              "  </thead>\n",
              "  <tbody>\n",
              "    <tr>\n",
              "      <th>0</th>\n",
              "      <td>PAL0708</td>\n",
              "      <td>1</td>\n",
              "      <td>N1A1</td>\n",
              "      <td>Yes</td>\n",
              "      <td>11/11/07</td>\n",
              "      <td>39.10000</td>\n",
              "      <td>18.70000</td>\n",
              "      <td>181.000000</td>\n",
              "      <td>3750.000000</td>\n",
              "      <td>8.733382</td>\n",
              "      <td>-25.686292</td>\n",
              "      <td>Adelie Penguin (Pygoscelis adeliae)</td>\n",
              "    </tr>\n",
              "    <tr>\n",
              "      <th>1</th>\n",
              "      <td>PAL0708</td>\n",
              "      <td>2</td>\n",
              "      <td>N1A2</td>\n",
              "      <td>Yes</td>\n",
              "      <td>11/11/07</td>\n",
              "      <td>39.50000</td>\n",
              "      <td>17.40000</td>\n",
              "      <td>186.000000</td>\n",
              "      <td>3800.000000</td>\n",
              "      <td>8.949560</td>\n",
              "      <td>-24.694540</td>\n",
              "      <td>Adelie Penguin (Pygoscelis adeliae)</td>\n",
              "    </tr>\n",
              "    <tr>\n",
              "      <th>2</th>\n",
              "      <td>PAL0708</td>\n",
              "      <td>3</td>\n",
              "      <td>N2A1</td>\n",
              "      <td>Yes</td>\n",
              "      <td>11/16/07</td>\n",
              "      <td>40.30000</td>\n",
              "      <td>18.00000</td>\n",
              "      <td>195.000000</td>\n",
              "      <td>3250.000000</td>\n",
              "      <td>8.368210</td>\n",
              "      <td>-25.333020</td>\n",
              "      <td>Adelie Penguin (Pygoscelis adeliae)</td>\n",
              "    </tr>\n",
              "    <tr>\n",
              "      <th>3</th>\n",
              "      <td>PAL0708</td>\n",
              "      <td>4</td>\n",
              "      <td>N2A2</td>\n",
              "      <td>Yes</td>\n",
              "      <td>11/16/07</td>\n",
              "      <td>43.92193</td>\n",
              "      <td>17.15117</td>\n",
              "      <td>200.915205</td>\n",
              "      <td>4201.754386</td>\n",
              "      <td>8.733382</td>\n",
              "      <td>-25.686292</td>\n",
              "      <td>Adelie Penguin (Pygoscelis adeliae)</td>\n",
              "    </tr>\n",
              "    <tr>\n",
              "      <th>4</th>\n",
              "      <td>PAL0708</td>\n",
              "      <td>5</td>\n",
              "      <td>N3A1</td>\n",
              "      <td>Yes</td>\n",
              "      <td>11/16/07</td>\n",
              "      <td>36.70000</td>\n",
              "      <td>19.30000</td>\n",
              "      <td>193.000000</td>\n",
              "      <td>3450.000000</td>\n",
              "      <td>8.766510</td>\n",
              "      <td>-25.324260</td>\n",
              "      <td>Adelie Penguin (Pygoscelis adeliae)</td>\n",
              "    </tr>\n",
              "  </tbody>\n",
              "</table>\n",
              "</div>\n",
              "      <button class=\"colab-df-convert\" onclick=\"convertToInteractive('df-89485e0b-44c0-4624-9411-eea924c5a127')\"\n",
              "              title=\"Convert this dataframe to an interactive table.\"\n",
              "              style=\"display:none;\">\n",
              "        \n",
              "  <svg xmlns=\"http://www.w3.org/2000/svg\" height=\"24px\"viewBox=\"0 0 24 24\"\n",
              "       width=\"24px\">\n",
              "    <path d=\"M0 0h24v24H0V0z\" fill=\"none\"/>\n",
              "    <path d=\"M18.56 5.44l.94 2.06.94-2.06 2.06-.94-2.06-.94-.94-2.06-.94 2.06-2.06.94zm-11 1L8.5 8.5l.94-2.06 2.06-.94-2.06-.94L8.5 2.5l-.94 2.06-2.06.94zm10 10l.94 2.06.94-2.06 2.06-.94-2.06-.94-.94-2.06-.94 2.06-2.06.94z\"/><path d=\"M17.41 7.96l-1.37-1.37c-.4-.4-.92-.59-1.43-.59-.52 0-1.04.2-1.43.59L10.3 9.45l-7.72 7.72c-.78.78-.78 2.05 0 2.83L4 21.41c.39.39.9.59 1.41.59.51 0 1.02-.2 1.41-.59l7.78-7.78 2.81-2.81c.8-.78.8-2.07 0-2.86zM5.41 20L4 18.59l7.72-7.72 1.47 1.35L5.41 20z\"/>\n",
              "  </svg>\n",
              "      </button>\n",
              "      \n",
              "  <style>\n",
              "    .colab-df-container {\n",
              "      display:flex;\n",
              "      flex-wrap:wrap;\n",
              "      gap: 12px;\n",
              "    }\n",
              "\n",
              "    .colab-df-convert {\n",
              "      background-color: #E8F0FE;\n",
              "      border: none;\n",
              "      border-radius: 50%;\n",
              "      cursor: pointer;\n",
              "      display: none;\n",
              "      fill: #1967D2;\n",
              "      height: 32px;\n",
              "      padding: 0 0 0 0;\n",
              "      width: 32px;\n",
              "    }\n",
              "\n",
              "    .colab-df-convert:hover {\n",
              "      background-color: #E2EBFA;\n",
              "      box-shadow: 0px 1px 2px rgba(60, 64, 67, 0.3), 0px 1px 3px 1px rgba(60, 64, 67, 0.15);\n",
              "      fill: #174EA6;\n",
              "    }\n",
              "\n",
              "    [theme=dark] .colab-df-convert {\n",
              "      background-color: #3B4455;\n",
              "      fill: #D2E3FC;\n",
              "    }\n",
              "\n",
              "    [theme=dark] .colab-df-convert:hover {\n",
              "      background-color: #434B5C;\n",
              "      box-shadow: 0px 1px 3px 1px rgba(0, 0, 0, 0.15);\n",
              "      filter: drop-shadow(0px 1px 2px rgba(0, 0, 0, 0.3));\n",
              "      fill: #FFFFFF;\n",
              "    }\n",
              "  </style>\n",
              "\n",
              "      <script>\n",
              "        const buttonEl =\n",
              "          document.querySelector('#df-89485e0b-44c0-4624-9411-eea924c5a127 button.colab-df-convert');\n",
              "        buttonEl.style.display =\n",
              "          google.colab.kernel.accessAllowed ? 'block' : 'none';\n",
              "\n",
              "        async function convertToInteractive(key) {\n",
              "          const element = document.querySelector('#df-89485e0b-44c0-4624-9411-eea924c5a127');\n",
              "          const dataTable =\n",
              "            await google.colab.kernel.invokeFunction('convertToInteractive',\n",
              "                                                     [key], {});\n",
              "          if (!dataTable) return;\n",
              "\n",
              "          const docLinkHtml = 'Like what you see? Visit the ' +\n",
              "            '<a target=\"_blank\" href=https://colab.research.google.com/notebooks/data_table.ipynb>data table notebook</a>'\n",
              "            + ' to learn more about interactive tables.';\n",
              "          element.innerHTML = '';\n",
              "          dataTable['output_type'] = 'display_data';\n",
              "          await google.colab.output.renderOutput(dataTable, element);\n",
              "          const docLink = document.createElement('div');\n",
              "          docLink.innerHTML = docLinkHtml;\n",
              "          element.appendChild(docLink);\n",
              "        }\n",
              "      </script>\n",
              "    </div>\n",
              "  </div>\n",
              "  "
            ]
          },
          "metadata": {},
          "execution_count": 50
        }
      ]
    },
    {
      "cell_type": "code",
      "source": [
        "df['Sample Number'].unique()"
      ],
      "metadata": {
        "colab": {
          "base_uri": "https://localhost:8080/"
        },
        "id": "PI9qsKHOg2bJ",
        "outputId": "fa26d334-a72f-4c9d-b19d-111214d8f327"
      },
      "execution_count": 52,
      "outputs": [
        {
          "output_type": "execute_result",
          "data": {
            "text/plain": [
              "array([  1,   2,   3,   4,   5,   6,   7,   8,   9,  10,  11,  12,  13,\n",
              "        14,  15,  16,  17,  18,  19,  20,  21,  22,  23,  24,  25,  26,\n",
              "        27,  28,  29,  30,  31,  32,  33,  34,  35,  36,  37,  38,  39,\n",
              "        40,  41,  42,  43,  44,  45,  46,  47,  48,  49,  50,  51,  52,\n",
              "        53,  54,  55,  56,  57,  58,  59,  60,  61,  62,  63,  64,  65,\n",
              "        66,  67,  68,  69,  70,  71,  72,  73,  74,  75,  76,  77,  78,\n",
              "        79,  80,  81,  82,  83,  84,  85,  86,  87,  88,  89,  90,  91,\n",
              "        92,  93,  94,  95,  96,  97,  98,  99, 100, 101, 102, 103, 104,\n",
              "       105, 106, 107, 108, 109, 110, 111, 112, 113, 114, 115, 116, 117,\n",
              "       118, 119, 120, 121, 122, 123, 124, 125, 126, 127, 128, 129, 130,\n",
              "       131, 132, 133, 134, 135, 136, 137, 138, 139, 140, 141, 142, 143,\n",
              "       144, 145, 146, 147, 148, 149, 150, 151, 152])"
            ]
          },
          "metadata": {},
          "execution_count": 52
        }
      ]
    },
    {
      "cell_type": "code",
      "source": [
        "df.info()"
      ],
      "metadata": {
        "colab": {
          "base_uri": "https://localhost:8080/"
        },
        "id": "EiKuLJcSg_Oc",
        "outputId": "0a81dcb6-b1d1-40f9-9097-a4c851cd9df6"
      },
      "execution_count": 53,
      "outputs": [
        {
          "output_type": "stream",
          "name": "stdout",
          "text": [
            "<class 'pandas.core.frame.DataFrame'>\n",
            "RangeIndex: 344 entries, 0 to 343\n",
            "Data columns (total 12 columns):\n",
            " #   Column               Non-Null Count  Dtype  \n",
            "---  ------               --------------  -----  \n",
            " 0   studyName            344 non-null    object \n",
            " 1   Sample Number        344 non-null    int64  \n",
            " 2   Individual ID        344 non-null    object \n",
            " 3   Clutch Completion    344 non-null    object \n",
            " 4   Date Egg             344 non-null    object \n",
            " 5   Culmen Length (mm)   344 non-null    float64\n",
            " 6   Culmen Depth (mm)    344 non-null    float64\n",
            " 7   Flipper Length (mm)  344 non-null    float64\n",
            " 8   Body Mass (g)        344 non-null    float64\n",
            " 9   Delta 15 N (o/oo)    344 non-null    float64\n",
            " 10  Delta 13 C (o/oo)    344 non-null    float64\n",
            " 11  Species              344 non-null    object \n",
            "dtypes: float64(6), int64(1), object(5)\n",
            "memory usage: 32.4+ KB\n"
          ]
        }
      ]
    },
    {
      "cell_type": "code",
      "source": [
        "StudyName = pd.get_dummies(df['studyName'],drop_first=True)"
      ],
      "metadata": {
        "id": "DOMi3IO6hEDz"
      },
      "execution_count": 54,
      "outputs": []
    },
    {
      "cell_type": "code",
      "source": [
        "df.drop(['studyName'] , axis = 1 , inplace=True)"
      ],
      "metadata": {
        "id": "mPelEk6xhQSx"
      },
      "execution_count": 55,
      "outputs": []
    },
    {
      "cell_type": "code",
      "source": [
        "df.info()"
      ],
      "metadata": {
        "colab": {
          "base_uri": "https://localhost:8080/"
        },
        "id": "6LghYHdthW9p",
        "outputId": "97ce643e-36f4-48a8-de38-784b2c4aa9ea"
      },
      "execution_count": 56,
      "outputs": [
        {
          "output_type": "stream",
          "name": "stdout",
          "text": [
            "<class 'pandas.core.frame.DataFrame'>\n",
            "RangeIndex: 344 entries, 0 to 343\n",
            "Data columns (total 11 columns):\n",
            " #   Column               Non-Null Count  Dtype  \n",
            "---  ------               --------------  -----  \n",
            " 0   Sample Number        344 non-null    int64  \n",
            " 1   Individual ID        344 non-null    object \n",
            " 2   Clutch Completion    344 non-null    object \n",
            " 3   Date Egg             344 non-null    object \n",
            " 4   Culmen Length (mm)   344 non-null    float64\n",
            " 5   Culmen Depth (mm)    344 non-null    float64\n",
            " 6   Flipper Length (mm)  344 non-null    float64\n",
            " 7   Body Mass (g)        344 non-null    float64\n",
            " 8   Delta 15 N (o/oo)    344 non-null    float64\n",
            " 9   Delta 13 C (o/oo)    344 non-null    float64\n",
            " 10  Species              344 non-null    object \n",
            "dtypes: float64(6), int64(1), object(4)\n",
            "memory usage: 29.7+ KB\n"
          ]
        }
      ]
    },
    {
      "cell_type": "code",
      "source": [
        "ClutchCompletion = pd.get_dummies(df['Clutch Completion'],drop_first=True)"
      ],
      "metadata": {
        "id": "TyoSwbCnhlfQ"
      },
      "execution_count": 57,
      "outputs": []
    },
    {
      "cell_type": "code",
      "source": [
        "df.drop(['Individual ID' , 'Sample Number' ,'Date Egg'], axis = 1 , inplace = True)"
      ],
      "metadata": {
        "id": "wD7D3HwLhYBx"
      },
      "execution_count": 58,
      "outputs": []
    },
    {
      "cell_type": "code",
      "source": [
        "df.info()"
      ],
      "metadata": {
        "colab": {
          "base_uri": "https://localhost:8080/"
        },
        "id": "QHo6BAPyhzUD",
        "outputId": "7ec86a2d-1eae-48bc-e6a3-c794eca94033"
      },
      "execution_count": 59,
      "outputs": [
        {
          "output_type": "stream",
          "name": "stdout",
          "text": [
            "<class 'pandas.core.frame.DataFrame'>\n",
            "RangeIndex: 344 entries, 0 to 343\n",
            "Data columns (total 8 columns):\n",
            " #   Column               Non-Null Count  Dtype  \n",
            "---  ------               --------------  -----  \n",
            " 0   Clutch Completion    344 non-null    object \n",
            " 1   Culmen Length (mm)   344 non-null    float64\n",
            " 2   Culmen Depth (mm)    344 non-null    float64\n",
            " 3   Flipper Length (mm)  344 non-null    float64\n",
            " 4   Body Mass (g)        344 non-null    float64\n",
            " 5   Delta 15 N (o/oo)    344 non-null    float64\n",
            " 6   Delta 13 C (o/oo)    344 non-null    float64\n",
            " 7   Species              344 non-null    object \n",
            "dtypes: float64(6), object(2)\n",
            "memory usage: 21.6+ KB\n"
          ]
        }
      ]
    },
    {
      "cell_type": "code",
      "source": [
        "df = pd.concat([df,Sex,Island , ClutchCompletion , StudyName],axis=1)"
      ],
      "metadata": {
        "id": "BCcd7VHkh0Yi"
      },
      "execution_count": 60,
      "outputs": []
    },
    {
      "cell_type": "code",
      "source": [
        "df.head()"
      ],
      "metadata": {
        "colab": {
          "base_uri": "https://localhost:8080/",
          "height": 545
        },
        "id": "HNDtZi_XiRez",
        "outputId": "a2284cfd-3ec9-4998-8f53-7c3bfbdc734b"
      },
      "execution_count": 61,
      "outputs": [
        {
          "output_type": "execute_result",
          "data": {
            "text/plain": [
              "  Clutch Completion  Culmen Length (mm)  Culmen Depth (mm)  \\\n",
              "0               Yes            39.10000           18.70000   \n",
              "1               Yes            39.50000           17.40000   \n",
              "2               Yes            40.30000           18.00000   \n",
              "3               Yes            43.92193           17.15117   \n",
              "4               Yes            36.70000           19.30000   \n",
              "\n",
              "   Flipper Length (mm)  Body Mass (g)  Delta 15 N (o/oo)  Delta 13 C (o/oo)  \\\n",
              "0           181.000000    3750.000000           8.733382         -25.686292   \n",
              "1           186.000000    3800.000000           8.949560         -24.694540   \n",
              "2           195.000000    3250.000000           8.368210         -25.333020   \n",
              "3           200.915205    4201.754386           8.733382         -25.686292   \n",
              "4           193.000000    3450.000000           8.766510         -25.324260   \n",
              "\n",
              "                               Species  FEMALE  MALE  Dream  Torgersen  Yes  \\\n",
              "0  Adelie Penguin (Pygoscelis adeliae)       0     1      0          1    1   \n",
              "1  Adelie Penguin (Pygoscelis adeliae)       1     0      0          1    1   \n",
              "2  Adelie Penguin (Pygoscelis adeliae)       1     0      0          1    1   \n",
              "3  Adelie Penguin (Pygoscelis adeliae)       1     0      0          1    1   \n",
              "4  Adelie Penguin (Pygoscelis adeliae)       1     0      0          1    1   \n",
              "\n",
              "   PAL0809  PAL0910  \n",
              "0        0        0  \n",
              "1        0        0  \n",
              "2        0        0  \n",
              "3        0        0  \n",
              "4        0        0  "
            ],
            "text/html": [
              "\n",
              "  <div id=\"df-1002fabf-1ce8-4716-a6a0-79c25117b041\">\n",
              "    <div class=\"colab-df-container\">\n",
              "      <div>\n",
              "<style scoped>\n",
              "    .dataframe tbody tr th:only-of-type {\n",
              "        vertical-align: middle;\n",
              "    }\n",
              "\n",
              "    .dataframe tbody tr th {\n",
              "        vertical-align: top;\n",
              "    }\n",
              "\n",
              "    .dataframe thead th {\n",
              "        text-align: right;\n",
              "    }\n",
              "</style>\n",
              "<table border=\"1\" class=\"dataframe\">\n",
              "  <thead>\n",
              "    <tr style=\"text-align: right;\">\n",
              "      <th></th>\n",
              "      <th>Clutch Completion</th>\n",
              "      <th>Culmen Length (mm)</th>\n",
              "      <th>Culmen Depth (mm)</th>\n",
              "      <th>Flipper Length (mm)</th>\n",
              "      <th>Body Mass (g)</th>\n",
              "      <th>Delta 15 N (o/oo)</th>\n",
              "      <th>Delta 13 C (o/oo)</th>\n",
              "      <th>Species</th>\n",
              "      <th>FEMALE</th>\n",
              "      <th>MALE</th>\n",
              "      <th>Dream</th>\n",
              "      <th>Torgersen</th>\n",
              "      <th>Yes</th>\n",
              "      <th>PAL0809</th>\n",
              "      <th>PAL0910</th>\n",
              "    </tr>\n",
              "  </thead>\n",
              "  <tbody>\n",
              "    <tr>\n",
              "      <th>0</th>\n",
              "      <td>Yes</td>\n",
              "      <td>39.10000</td>\n",
              "      <td>18.70000</td>\n",
              "      <td>181.000000</td>\n",
              "      <td>3750.000000</td>\n",
              "      <td>8.733382</td>\n",
              "      <td>-25.686292</td>\n",
              "      <td>Adelie Penguin (Pygoscelis adeliae)</td>\n",
              "      <td>0</td>\n",
              "      <td>1</td>\n",
              "      <td>0</td>\n",
              "      <td>1</td>\n",
              "      <td>1</td>\n",
              "      <td>0</td>\n",
              "      <td>0</td>\n",
              "    </tr>\n",
              "    <tr>\n",
              "      <th>1</th>\n",
              "      <td>Yes</td>\n",
              "      <td>39.50000</td>\n",
              "      <td>17.40000</td>\n",
              "      <td>186.000000</td>\n",
              "      <td>3800.000000</td>\n",
              "      <td>8.949560</td>\n",
              "      <td>-24.694540</td>\n",
              "      <td>Adelie Penguin (Pygoscelis adeliae)</td>\n",
              "      <td>1</td>\n",
              "      <td>0</td>\n",
              "      <td>0</td>\n",
              "      <td>1</td>\n",
              "      <td>1</td>\n",
              "      <td>0</td>\n",
              "      <td>0</td>\n",
              "    </tr>\n",
              "    <tr>\n",
              "      <th>2</th>\n",
              "      <td>Yes</td>\n",
              "      <td>40.30000</td>\n",
              "      <td>18.00000</td>\n",
              "      <td>195.000000</td>\n",
              "      <td>3250.000000</td>\n",
              "      <td>8.368210</td>\n",
              "      <td>-25.333020</td>\n",
              "      <td>Adelie Penguin (Pygoscelis adeliae)</td>\n",
              "      <td>1</td>\n",
              "      <td>0</td>\n",
              "      <td>0</td>\n",
              "      <td>1</td>\n",
              "      <td>1</td>\n",
              "      <td>0</td>\n",
              "      <td>0</td>\n",
              "    </tr>\n",
              "    <tr>\n",
              "      <th>3</th>\n",
              "      <td>Yes</td>\n",
              "      <td>43.92193</td>\n",
              "      <td>17.15117</td>\n",
              "      <td>200.915205</td>\n",
              "      <td>4201.754386</td>\n",
              "      <td>8.733382</td>\n",
              "      <td>-25.686292</td>\n",
              "      <td>Adelie Penguin (Pygoscelis adeliae)</td>\n",
              "      <td>1</td>\n",
              "      <td>0</td>\n",
              "      <td>0</td>\n",
              "      <td>1</td>\n",
              "      <td>1</td>\n",
              "      <td>0</td>\n",
              "      <td>0</td>\n",
              "    </tr>\n",
              "    <tr>\n",
              "      <th>4</th>\n",
              "      <td>Yes</td>\n",
              "      <td>36.70000</td>\n",
              "      <td>19.30000</td>\n",
              "      <td>193.000000</td>\n",
              "      <td>3450.000000</td>\n",
              "      <td>8.766510</td>\n",
              "      <td>-25.324260</td>\n",
              "      <td>Adelie Penguin (Pygoscelis adeliae)</td>\n",
              "      <td>1</td>\n",
              "      <td>0</td>\n",
              "      <td>0</td>\n",
              "      <td>1</td>\n",
              "      <td>1</td>\n",
              "      <td>0</td>\n",
              "      <td>0</td>\n",
              "    </tr>\n",
              "  </tbody>\n",
              "</table>\n",
              "</div>\n",
              "      <button class=\"colab-df-convert\" onclick=\"convertToInteractive('df-1002fabf-1ce8-4716-a6a0-79c25117b041')\"\n",
              "              title=\"Convert this dataframe to an interactive table.\"\n",
              "              style=\"display:none;\">\n",
              "        \n",
              "  <svg xmlns=\"http://www.w3.org/2000/svg\" height=\"24px\"viewBox=\"0 0 24 24\"\n",
              "       width=\"24px\">\n",
              "    <path d=\"M0 0h24v24H0V0z\" fill=\"none\"/>\n",
              "    <path d=\"M18.56 5.44l.94 2.06.94-2.06 2.06-.94-2.06-.94-.94-2.06-.94 2.06-2.06.94zm-11 1L8.5 8.5l.94-2.06 2.06-.94-2.06-.94L8.5 2.5l-.94 2.06-2.06.94zm10 10l.94 2.06.94-2.06 2.06-.94-2.06-.94-.94-2.06-.94 2.06-2.06.94z\"/><path d=\"M17.41 7.96l-1.37-1.37c-.4-.4-.92-.59-1.43-.59-.52 0-1.04.2-1.43.59L10.3 9.45l-7.72 7.72c-.78.78-.78 2.05 0 2.83L4 21.41c.39.39.9.59 1.41.59.51 0 1.02-.2 1.41-.59l7.78-7.78 2.81-2.81c.8-.78.8-2.07 0-2.86zM5.41 20L4 18.59l7.72-7.72 1.47 1.35L5.41 20z\"/>\n",
              "  </svg>\n",
              "      </button>\n",
              "      \n",
              "  <style>\n",
              "    .colab-df-container {\n",
              "      display:flex;\n",
              "      flex-wrap:wrap;\n",
              "      gap: 12px;\n",
              "    }\n",
              "\n",
              "    .colab-df-convert {\n",
              "      background-color: #E8F0FE;\n",
              "      border: none;\n",
              "      border-radius: 50%;\n",
              "      cursor: pointer;\n",
              "      display: none;\n",
              "      fill: #1967D2;\n",
              "      height: 32px;\n",
              "      padding: 0 0 0 0;\n",
              "      width: 32px;\n",
              "    }\n",
              "\n",
              "    .colab-df-convert:hover {\n",
              "      background-color: #E2EBFA;\n",
              "      box-shadow: 0px 1px 2px rgba(60, 64, 67, 0.3), 0px 1px 3px 1px rgba(60, 64, 67, 0.15);\n",
              "      fill: #174EA6;\n",
              "    }\n",
              "\n",
              "    [theme=dark] .colab-df-convert {\n",
              "      background-color: #3B4455;\n",
              "      fill: #D2E3FC;\n",
              "    }\n",
              "\n",
              "    [theme=dark] .colab-df-convert:hover {\n",
              "      background-color: #434B5C;\n",
              "      box-shadow: 0px 1px 3px 1px rgba(0, 0, 0, 0.15);\n",
              "      filter: drop-shadow(0px 1px 2px rgba(0, 0, 0, 0.3));\n",
              "      fill: #FFFFFF;\n",
              "    }\n",
              "  </style>\n",
              "\n",
              "      <script>\n",
              "        const buttonEl =\n",
              "          document.querySelector('#df-1002fabf-1ce8-4716-a6a0-79c25117b041 button.colab-df-convert');\n",
              "        buttonEl.style.display =\n",
              "          google.colab.kernel.accessAllowed ? 'block' : 'none';\n",
              "\n",
              "        async function convertToInteractive(key) {\n",
              "          const element = document.querySelector('#df-1002fabf-1ce8-4716-a6a0-79c25117b041');\n",
              "          const dataTable =\n",
              "            await google.colab.kernel.invokeFunction('convertToInteractive',\n",
              "                                                     [key], {});\n",
              "          if (!dataTable) return;\n",
              "\n",
              "          const docLinkHtml = 'Like what you see? Visit the ' +\n",
              "            '<a target=\"_blank\" href=https://colab.research.google.com/notebooks/data_table.ipynb>data table notebook</a>'\n",
              "            + ' to learn more about interactive tables.';\n",
              "          element.innerHTML = '';\n",
              "          dataTable['output_type'] = 'display_data';\n",
              "          await google.colab.output.renderOutput(dataTable, element);\n",
              "          const docLink = document.createElement('div');\n",
              "          docLink.innerHTML = docLinkHtml;\n",
              "          element.appendChild(docLink);\n",
              "        }\n",
              "      </script>\n",
              "    </div>\n",
              "  </div>\n",
              "  "
            ]
          },
          "metadata": {},
          "execution_count": 61
        }
      ]
    },
    {
      "cell_type": "code",
      "source": [
        "Species = df['Species']"
      ],
      "metadata": {
        "id": "VUkhXskCiScz"
      },
      "execution_count": 62,
      "outputs": []
    },
    {
      "cell_type": "code",
      "source": [
        "df.drop(['Species'] , axis = 1 , inplace = True)"
      ],
      "metadata": {
        "id": "31zR5IRijhU3"
      },
      "execution_count": 63,
      "outputs": []
    },
    {
      "cell_type": "code",
      "source": [
        "df.info()"
      ],
      "metadata": {
        "colab": {
          "base_uri": "https://localhost:8080/"
        },
        "id": "Kpw9IEUyjmUg",
        "outputId": "1a824a02-d35d-4b4c-9c29-593b9446aa3c"
      },
      "execution_count": 64,
      "outputs": [
        {
          "output_type": "stream",
          "name": "stdout",
          "text": [
            "<class 'pandas.core.frame.DataFrame'>\n",
            "RangeIndex: 344 entries, 0 to 343\n",
            "Data columns (total 14 columns):\n",
            " #   Column               Non-Null Count  Dtype  \n",
            "---  ------               --------------  -----  \n",
            " 0   Clutch Completion    344 non-null    object \n",
            " 1   Culmen Length (mm)   344 non-null    float64\n",
            " 2   Culmen Depth (mm)    344 non-null    float64\n",
            " 3   Flipper Length (mm)  344 non-null    float64\n",
            " 4   Body Mass (g)        344 non-null    float64\n",
            " 5   Delta 15 N (o/oo)    344 non-null    float64\n",
            " 6   Delta 13 C (o/oo)    344 non-null    float64\n",
            " 7   FEMALE               344 non-null    uint8  \n",
            " 8   MALE                 344 non-null    uint8  \n",
            " 9   Dream                344 non-null    uint8  \n",
            " 10  Torgersen            344 non-null    uint8  \n",
            " 11  Yes                  344 non-null    uint8  \n",
            " 12  PAL0809              344 non-null    uint8  \n",
            " 13  PAL0910              344 non-null    uint8  \n",
            "dtypes: float64(6), object(1), uint8(7)\n",
            "memory usage: 21.3+ KB\n"
          ]
        }
      ]
    },
    {
      "cell_type": "code",
      "source": [
        "df.drop(['MALE'] , axis = 1 , inplace = True)"
      ],
      "metadata": {
        "id": "9qiVWgZUjoN7"
      },
      "execution_count": 65,
      "outputs": []
    },
    {
      "cell_type": "code",
      "source": [
        "df['Species'] = Species"
      ],
      "metadata": {
        "id": "5xLBk7rtjwoN"
      },
      "execution_count": 66,
      "outputs": []
    },
    {
      "cell_type": "code",
      "source": [
        "df.head()"
      ],
      "metadata": {
        "colab": {
          "base_uri": "https://localhost:8080/",
          "height": 545
        },
        "id": "24gFRukxjzu8",
        "outputId": "94e8e223-138d-43a5-e854-b2f2fa7a8efd"
      },
      "execution_count": 67,
      "outputs": [
        {
          "output_type": "execute_result",
          "data": {
            "text/plain": [
              "  Clutch Completion  Culmen Length (mm)  Culmen Depth (mm)  \\\n",
              "0               Yes            39.10000           18.70000   \n",
              "1               Yes            39.50000           17.40000   \n",
              "2               Yes            40.30000           18.00000   \n",
              "3               Yes            43.92193           17.15117   \n",
              "4               Yes            36.70000           19.30000   \n",
              "\n",
              "   Flipper Length (mm)  Body Mass (g)  Delta 15 N (o/oo)  Delta 13 C (o/oo)  \\\n",
              "0           181.000000    3750.000000           8.733382         -25.686292   \n",
              "1           186.000000    3800.000000           8.949560         -24.694540   \n",
              "2           195.000000    3250.000000           8.368210         -25.333020   \n",
              "3           200.915205    4201.754386           8.733382         -25.686292   \n",
              "4           193.000000    3450.000000           8.766510         -25.324260   \n",
              "\n",
              "   FEMALE  Dream  Torgersen  Yes  PAL0809  PAL0910  \\\n",
              "0       0      0          1    1        0        0   \n",
              "1       1      0          1    1        0        0   \n",
              "2       1      0          1    1        0        0   \n",
              "3       1      0          1    1        0        0   \n",
              "4       1      0          1    1        0        0   \n",
              "\n",
              "                               Species  \n",
              "0  Adelie Penguin (Pygoscelis adeliae)  \n",
              "1  Adelie Penguin (Pygoscelis adeliae)  \n",
              "2  Adelie Penguin (Pygoscelis adeliae)  \n",
              "3  Adelie Penguin (Pygoscelis adeliae)  \n",
              "4  Adelie Penguin (Pygoscelis adeliae)  "
            ],
            "text/html": [
              "\n",
              "  <div id=\"df-4dc3548b-20e1-42b6-9b93-02f1406ccb79\">\n",
              "    <div class=\"colab-df-container\">\n",
              "      <div>\n",
              "<style scoped>\n",
              "    .dataframe tbody tr th:only-of-type {\n",
              "        vertical-align: middle;\n",
              "    }\n",
              "\n",
              "    .dataframe tbody tr th {\n",
              "        vertical-align: top;\n",
              "    }\n",
              "\n",
              "    .dataframe thead th {\n",
              "        text-align: right;\n",
              "    }\n",
              "</style>\n",
              "<table border=\"1\" class=\"dataframe\">\n",
              "  <thead>\n",
              "    <tr style=\"text-align: right;\">\n",
              "      <th></th>\n",
              "      <th>Clutch Completion</th>\n",
              "      <th>Culmen Length (mm)</th>\n",
              "      <th>Culmen Depth (mm)</th>\n",
              "      <th>Flipper Length (mm)</th>\n",
              "      <th>Body Mass (g)</th>\n",
              "      <th>Delta 15 N (o/oo)</th>\n",
              "      <th>Delta 13 C (o/oo)</th>\n",
              "      <th>FEMALE</th>\n",
              "      <th>Dream</th>\n",
              "      <th>Torgersen</th>\n",
              "      <th>Yes</th>\n",
              "      <th>PAL0809</th>\n",
              "      <th>PAL0910</th>\n",
              "      <th>Species</th>\n",
              "    </tr>\n",
              "  </thead>\n",
              "  <tbody>\n",
              "    <tr>\n",
              "      <th>0</th>\n",
              "      <td>Yes</td>\n",
              "      <td>39.10000</td>\n",
              "      <td>18.70000</td>\n",
              "      <td>181.000000</td>\n",
              "      <td>3750.000000</td>\n",
              "      <td>8.733382</td>\n",
              "      <td>-25.686292</td>\n",
              "      <td>0</td>\n",
              "      <td>0</td>\n",
              "      <td>1</td>\n",
              "      <td>1</td>\n",
              "      <td>0</td>\n",
              "      <td>0</td>\n",
              "      <td>Adelie Penguin (Pygoscelis adeliae)</td>\n",
              "    </tr>\n",
              "    <tr>\n",
              "      <th>1</th>\n",
              "      <td>Yes</td>\n",
              "      <td>39.50000</td>\n",
              "      <td>17.40000</td>\n",
              "      <td>186.000000</td>\n",
              "      <td>3800.000000</td>\n",
              "      <td>8.949560</td>\n",
              "      <td>-24.694540</td>\n",
              "      <td>1</td>\n",
              "      <td>0</td>\n",
              "      <td>1</td>\n",
              "      <td>1</td>\n",
              "      <td>0</td>\n",
              "      <td>0</td>\n",
              "      <td>Adelie Penguin (Pygoscelis adeliae)</td>\n",
              "    </tr>\n",
              "    <tr>\n",
              "      <th>2</th>\n",
              "      <td>Yes</td>\n",
              "      <td>40.30000</td>\n",
              "      <td>18.00000</td>\n",
              "      <td>195.000000</td>\n",
              "      <td>3250.000000</td>\n",
              "      <td>8.368210</td>\n",
              "      <td>-25.333020</td>\n",
              "      <td>1</td>\n",
              "      <td>0</td>\n",
              "      <td>1</td>\n",
              "      <td>1</td>\n",
              "      <td>0</td>\n",
              "      <td>0</td>\n",
              "      <td>Adelie Penguin (Pygoscelis adeliae)</td>\n",
              "    </tr>\n",
              "    <tr>\n",
              "      <th>3</th>\n",
              "      <td>Yes</td>\n",
              "      <td>43.92193</td>\n",
              "      <td>17.15117</td>\n",
              "      <td>200.915205</td>\n",
              "      <td>4201.754386</td>\n",
              "      <td>8.733382</td>\n",
              "      <td>-25.686292</td>\n",
              "      <td>1</td>\n",
              "      <td>0</td>\n",
              "      <td>1</td>\n",
              "      <td>1</td>\n",
              "      <td>0</td>\n",
              "      <td>0</td>\n",
              "      <td>Adelie Penguin (Pygoscelis adeliae)</td>\n",
              "    </tr>\n",
              "    <tr>\n",
              "      <th>4</th>\n",
              "      <td>Yes</td>\n",
              "      <td>36.70000</td>\n",
              "      <td>19.30000</td>\n",
              "      <td>193.000000</td>\n",
              "      <td>3450.000000</td>\n",
              "      <td>8.766510</td>\n",
              "      <td>-25.324260</td>\n",
              "      <td>1</td>\n",
              "      <td>0</td>\n",
              "      <td>1</td>\n",
              "      <td>1</td>\n",
              "      <td>0</td>\n",
              "      <td>0</td>\n",
              "      <td>Adelie Penguin (Pygoscelis adeliae)</td>\n",
              "    </tr>\n",
              "  </tbody>\n",
              "</table>\n",
              "</div>\n",
              "      <button class=\"colab-df-convert\" onclick=\"convertToInteractive('df-4dc3548b-20e1-42b6-9b93-02f1406ccb79')\"\n",
              "              title=\"Convert this dataframe to an interactive table.\"\n",
              "              style=\"display:none;\">\n",
              "        \n",
              "  <svg xmlns=\"http://www.w3.org/2000/svg\" height=\"24px\"viewBox=\"0 0 24 24\"\n",
              "       width=\"24px\">\n",
              "    <path d=\"M0 0h24v24H0V0z\" fill=\"none\"/>\n",
              "    <path d=\"M18.56 5.44l.94 2.06.94-2.06 2.06-.94-2.06-.94-.94-2.06-.94 2.06-2.06.94zm-11 1L8.5 8.5l.94-2.06 2.06-.94-2.06-.94L8.5 2.5l-.94 2.06-2.06.94zm10 10l.94 2.06.94-2.06 2.06-.94-2.06-.94-.94-2.06-.94 2.06-2.06.94z\"/><path d=\"M17.41 7.96l-1.37-1.37c-.4-.4-.92-.59-1.43-.59-.52 0-1.04.2-1.43.59L10.3 9.45l-7.72 7.72c-.78.78-.78 2.05 0 2.83L4 21.41c.39.39.9.59 1.41.59.51 0 1.02-.2 1.41-.59l7.78-7.78 2.81-2.81c.8-.78.8-2.07 0-2.86zM5.41 20L4 18.59l7.72-7.72 1.47 1.35L5.41 20z\"/>\n",
              "  </svg>\n",
              "      </button>\n",
              "      \n",
              "  <style>\n",
              "    .colab-df-container {\n",
              "      display:flex;\n",
              "      flex-wrap:wrap;\n",
              "      gap: 12px;\n",
              "    }\n",
              "\n",
              "    .colab-df-convert {\n",
              "      background-color: #E8F0FE;\n",
              "      border: none;\n",
              "      border-radius: 50%;\n",
              "      cursor: pointer;\n",
              "      display: none;\n",
              "      fill: #1967D2;\n",
              "      height: 32px;\n",
              "      padding: 0 0 0 0;\n",
              "      width: 32px;\n",
              "    }\n",
              "\n",
              "    .colab-df-convert:hover {\n",
              "      background-color: #E2EBFA;\n",
              "      box-shadow: 0px 1px 2px rgba(60, 64, 67, 0.3), 0px 1px 3px 1px rgba(60, 64, 67, 0.15);\n",
              "      fill: #174EA6;\n",
              "    }\n",
              "\n",
              "    [theme=dark] .colab-df-convert {\n",
              "      background-color: #3B4455;\n",
              "      fill: #D2E3FC;\n",
              "    }\n",
              "\n",
              "    [theme=dark] .colab-df-convert:hover {\n",
              "      background-color: #434B5C;\n",
              "      box-shadow: 0px 1px 3px 1px rgba(0, 0, 0, 0.15);\n",
              "      filter: drop-shadow(0px 1px 2px rgba(0, 0, 0, 0.3));\n",
              "      fill: #FFFFFF;\n",
              "    }\n",
              "  </style>\n",
              "\n",
              "      <script>\n",
              "        const buttonEl =\n",
              "          document.querySelector('#df-4dc3548b-20e1-42b6-9b93-02f1406ccb79 button.colab-df-convert');\n",
              "        buttonEl.style.display =\n",
              "          google.colab.kernel.accessAllowed ? 'block' : 'none';\n",
              "\n",
              "        async function convertToInteractive(key) {\n",
              "          const element = document.querySelector('#df-4dc3548b-20e1-42b6-9b93-02f1406ccb79');\n",
              "          const dataTable =\n",
              "            await google.colab.kernel.invokeFunction('convertToInteractive',\n",
              "                                                     [key], {});\n",
              "          if (!dataTable) return;\n",
              "\n",
              "          const docLinkHtml = 'Like what you see? Visit the ' +\n",
              "            '<a target=\"_blank\" href=https://colab.research.google.com/notebooks/data_table.ipynb>data table notebook</a>'\n",
              "            + ' to learn more about interactive tables.';\n",
              "          element.innerHTML = '';\n",
              "          dataTable['output_type'] = 'display_data';\n",
              "          await google.colab.output.renderOutput(dataTable, element);\n",
              "          const docLink = document.createElement('div');\n",
              "          docLink.innerHTML = docLinkHtml;\n",
              "          element.appendChild(docLink);\n",
              "        }\n",
              "      </script>\n",
              "    </div>\n",
              "  </div>\n",
              "  "
            ]
          },
          "metadata": {},
          "execution_count": 67
        }
      ]
    },
    {
      "cell_type": "code",
      "source": [
        "df.drop(['Clutch Completion'] , axis = 1 ,inplace = True)"
      ],
      "metadata": {
        "id": "RDnB13BLj1HK"
      },
      "execution_count": 68,
      "outputs": []
    },
    {
      "cell_type": "code",
      "source": [
        "df.head()"
      ],
      "metadata": {
        "colab": {
          "base_uri": "https://localhost:8080/",
          "height": 458
        },
        "id": "HJtGpKl_kDaK",
        "outputId": "ef8bc493-7abf-48de-a2cb-1a1152bf7e87"
      },
      "execution_count": 69,
      "outputs": [
        {
          "output_type": "execute_result",
          "data": {
            "text/plain": [
              "   Culmen Length (mm)  Culmen Depth (mm)  Flipper Length (mm)  Body Mass (g)  \\\n",
              "0            39.10000           18.70000           181.000000    3750.000000   \n",
              "1            39.50000           17.40000           186.000000    3800.000000   \n",
              "2            40.30000           18.00000           195.000000    3250.000000   \n",
              "3            43.92193           17.15117           200.915205    4201.754386   \n",
              "4            36.70000           19.30000           193.000000    3450.000000   \n",
              "\n",
              "   Delta 15 N (o/oo)  Delta 13 C (o/oo)  FEMALE  Dream  Torgersen  Yes  \\\n",
              "0           8.733382         -25.686292       0      0          1    1   \n",
              "1           8.949560         -24.694540       1      0          1    1   \n",
              "2           8.368210         -25.333020       1      0          1    1   \n",
              "3           8.733382         -25.686292       1      0          1    1   \n",
              "4           8.766510         -25.324260       1      0          1    1   \n",
              "\n",
              "   PAL0809  PAL0910                              Species  \n",
              "0        0        0  Adelie Penguin (Pygoscelis adeliae)  \n",
              "1        0        0  Adelie Penguin (Pygoscelis adeliae)  \n",
              "2        0        0  Adelie Penguin (Pygoscelis adeliae)  \n",
              "3        0        0  Adelie Penguin (Pygoscelis adeliae)  \n",
              "4        0        0  Adelie Penguin (Pygoscelis adeliae)  "
            ],
            "text/html": [
              "\n",
              "  <div id=\"df-59d21bc2-5406-48de-a9eb-a0254ea747f8\">\n",
              "    <div class=\"colab-df-container\">\n",
              "      <div>\n",
              "<style scoped>\n",
              "    .dataframe tbody tr th:only-of-type {\n",
              "        vertical-align: middle;\n",
              "    }\n",
              "\n",
              "    .dataframe tbody tr th {\n",
              "        vertical-align: top;\n",
              "    }\n",
              "\n",
              "    .dataframe thead th {\n",
              "        text-align: right;\n",
              "    }\n",
              "</style>\n",
              "<table border=\"1\" class=\"dataframe\">\n",
              "  <thead>\n",
              "    <tr style=\"text-align: right;\">\n",
              "      <th></th>\n",
              "      <th>Culmen Length (mm)</th>\n",
              "      <th>Culmen Depth (mm)</th>\n",
              "      <th>Flipper Length (mm)</th>\n",
              "      <th>Body Mass (g)</th>\n",
              "      <th>Delta 15 N (o/oo)</th>\n",
              "      <th>Delta 13 C (o/oo)</th>\n",
              "      <th>FEMALE</th>\n",
              "      <th>Dream</th>\n",
              "      <th>Torgersen</th>\n",
              "      <th>Yes</th>\n",
              "      <th>PAL0809</th>\n",
              "      <th>PAL0910</th>\n",
              "      <th>Species</th>\n",
              "    </tr>\n",
              "  </thead>\n",
              "  <tbody>\n",
              "    <tr>\n",
              "      <th>0</th>\n",
              "      <td>39.10000</td>\n",
              "      <td>18.70000</td>\n",
              "      <td>181.000000</td>\n",
              "      <td>3750.000000</td>\n",
              "      <td>8.733382</td>\n",
              "      <td>-25.686292</td>\n",
              "      <td>0</td>\n",
              "      <td>0</td>\n",
              "      <td>1</td>\n",
              "      <td>1</td>\n",
              "      <td>0</td>\n",
              "      <td>0</td>\n",
              "      <td>Adelie Penguin (Pygoscelis adeliae)</td>\n",
              "    </tr>\n",
              "    <tr>\n",
              "      <th>1</th>\n",
              "      <td>39.50000</td>\n",
              "      <td>17.40000</td>\n",
              "      <td>186.000000</td>\n",
              "      <td>3800.000000</td>\n",
              "      <td>8.949560</td>\n",
              "      <td>-24.694540</td>\n",
              "      <td>1</td>\n",
              "      <td>0</td>\n",
              "      <td>1</td>\n",
              "      <td>1</td>\n",
              "      <td>0</td>\n",
              "      <td>0</td>\n",
              "      <td>Adelie Penguin (Pygoscelis adeliae)</td>\n",
              "    </tr>\n",
              "    <tr>\n",
              "      <th>2</th>\n",
              "      <td>40.30000</td>\n",
              "      <td>18.00000</td>\n",
              "      <td>195.000000</td>\n",
              "      <td>3250.000000</td>\n",
              "      <td>8.368210</td>\n",
              "      <td>-25.333020</td>\n",
              "      <td>1</td>\n",
              "      <td>0</td>\n",
              "      <td>1</td>\n",
              "      <td>1</td>\n",
              "      <td>0</td>\n",
              "      <td>0</td>\n",
              "      <td>Adelie Penguin (Pygoscelis adeliae)</td>\n",
              "    </tr>\n",
              "    <tr>\n",
              "      <th>3</th>\n",
              "      <td>43.92193</td>\n",
              "      <td>17.15117</td>\n",
              "      <td>200.915205</td>\n",
              "      <td>4201.754386</td>\n",
              "      <td>8.733382</td>\n",
              "      <td>-25.686292</td>\n",
              "      <td>1</td>\n",
              "      <td>0</td>\n",
              "      <td>1</td>\n",
              "      <td>1</td>\n",
              "      <td>0</td>\n",
              "      <td>0</td>\n",
              "      <td>Adelie Penguin (Pygoscelis adeliae)</td>\n",
              "    </tr>\n",
              "    <tr>\n",
              "      <th>4</th>\n",
              "      <td>36.70000</td>\n",
              "      <td>19.30000</td>\n",
              "      <td>193.000000</td>\n",
              "      <td>3450.000000</td>\n",
              "      <td>8.766510</td>\n",
              "      <td>-25.324260</td>\n",
              "      <td>1</td>\n",
              "      <td>0</td>\n",
              "      <td>1</td>\n",
              "      <td>1</td>\n",
              "      <td>0</td>\n",
              "      <td>0</td>\n",
              "      <td>Adelie Penguin (Pygoscelis adeliae)</td>\n",
              "    </tr>\n",
              "  </tbody>\n",
              "</table>\n",
              "</div>\n",
              "      <button class=\"colab-df-convert\" onclick=\"convertToInteractive('df-59d21bc2-5406-48de-a9eb-a0254ea747f8')\"\n",
              "              title=\"Convert this dataframe to an interactive table.\"\n",
              "              style=\"display:none;\">\n",
              "        \n",
              "  <svg xmlns=\"http://www.w3.org/2000/svg\" height=\"24px\"viewBox=\"0 0 24 24\"\n",
              "       width=\"24px\">\n",
              "    <path d=\"M0 0h24v24H0V0z\" fill=\"none\"/>\n",
              "    <path d=\"M18.56 5.44l.94 2.06.94-2.06 2.06-.94-2.06-.94-.94-2.06-.94 2.06-2.06.94zm-11 1L8.5 8.5l.94-2.06 2.06-.94-2.06-.94L8.5 2.5l-.94 2.06-2.06.94zm10 10l.94 2.06.94-2.06 2.06-.94-2.06-.94-.94-2.06-.94 2.06-2.06.94z\"/><path d=\"M17.41 7.96l-1.37-1.37c-.4-.4-.92-.59-1.43-.59-.52 0-1.04.2-1.43.59L10.3 9.45l-7.72 7.72c-.78.78-.78 2.05 0 2.83L4 21.41c.39.39.9.59 1.41.59.51 0 1.02-.2 1.41-.59l7.78-7.78 2.81-2.81c.8-.78.8-2.07 0-2.86zM5.41 20L4 18.59l7.72-7.72 1.47 1.35L5.41 20z\"/>\n",
              "  </svg>\n",
              "      </button>\n",
              "      \n",
              "  <style>\n",
              "    .colab-df-container {\n",
              "      display:flex;\n",
              "      flex-wrap:wrap;\n",
              "      gap: 12px;\n",
              "    }\n",
              "\n",
              "    .colab-df-convert {\n",
              "      background-color: #E8F0FE;\n",
              "      border: none;\n",
              "      border-radius: 50%;\n",
              "      cursor: pointer;\n",
              "      display: none;\n",
              "      fill: #1967D2;\n",
              "      height: 32px;\n",
              "      padding: 0 0 0 0;\n",
              "      width: 32px;\n",
              "    }\n",
              "\n",
              "    .colab-df-convert:hover {\n",
              "      background-color: #E2EBFA;\n",
              "      box-shadow: 0px 1px 2px rgba(60, 64, 67, 0.3), 0px 1px 3px 1px rgba(60, 64, 67, 0.15);\n",
              "      fill: #174EA6;\n",
              "    }\n",
              "\n",
              "    [theme=dark] .colab-df-convert {\n",
              "      background-color: #3B4455;\n",
              "      fill: #D2E3FC;\n",
              "    }\n",
              "\n",
              "    [theme=dark] .colab-df-convert:hover {\n",
              "      background-color: #434B5C;\n",
              "      box-shadow: 0px 1px 3px 1px rgba(0, 0, 0, 0.15);\n",
              "      filter: drop-shadow(0px 1px 2px rgba(0, 0, 0, 0.3));\n",
              "      fill: #FFFFFF;\n",
              "    }\n",
              "  </style>\n",
              "\n",
              "      <script>\n",
              "        const buttonEl =\n",
              "          document.querySelector('#df-59d21bc2-5406-48de-a9eb-a0254ea747f8 button.colab-df-convert');\n",
              "        buttonEl.style.display =\n",
              "          google.colab.kernel.accessAllowed ? 'block' : 'none';\n",
              "\n",
              "        async function convertToInteractive(key) {\n",
              "          const element = document.querySelector('#df-59d21bc2-5406-48de-a9eb-a0254ea747f8');\n",
              "          const dataTable =\n",
              "            await google.colab.kernel.invokeFunction('convertToInteractive',\n",
              "                                                     [key], {});\n",
              "          if (!dataTable) return;\n",
              "\n",
              "          const docLinkHtml = 'Like what you see? Visit the ' +\n",
              "            '<a target=\"_blank\" href=https://colab.research.google.com/notebooks/data_table.ipynb>data table notebook</a>'\n",
              "            + ' to learn more about interactive tables.';\n",
              "          element.innerHTML = '';\n",
              "          dataTable['output_type'] = 'display_data';\n",
              "          await google.colab.output.renderOutput(dataTable, element);\n",
              "          const docLink = document.createElement('div');\n",
              "          docLink.innerHTML = docLinkHtml;\n",
              "          element.appendChild(docLink);\n",
              "        }\n",
              "      </script>\n",
              "    </div>\n",
              "  </div>\n",
              "  "
            ]
          },
          "metadata": {},
          "execution_count": 69
        }
      ]
    },
    {
      "cell_type": "code",
      "source": [
        "X=df.iloc[:,:-1] ## independent features\n",
        "y=df.iloc[:,-1] ## dependent features"
      ],
      "metadata": {
        "id": "fcU26VZHkEZe"
      },
      "execution_count": 74,
      "outputs": []
    },
    {
      "cell_type": "code",
      "source": [
        "X"
      ],
      "metadata": {
        "colab": {
          "base_uri": "https://localhost:8080/",
          "height": 485
        },
        "id": "ynguJ-bYkp6b",
        "outputId": "edc127a3-e4bd-41c5-cf08-a66473ed5e88"
      },
      "execution_count": 75,
      "outputs": [
        {
          "output_type": "execute_result",
          "data": {
            "text/plain": [
              "     Culmen Length (mm)  Culmen Depth (mm)  Flipper Length (mm)  \\\n",
              "0              39.10000           18.70000           181.000000   \n",
              "1              39.50000           17.40000           186.000000   \n",
              "2              40.30000           18.00000           195.000000   \n",
              "3              43.92193           17.15117           200.915205   \n",
              "4              36.70000           19.30000           193.000000   \n",
              "..                  ...                ...                  ...   \n",
              "339            43.92193           17.15117           200.915205   \n",
              "340            46.80000           14.30000           215.000000   \n",
              "341            50.40000           15.70000           222.000000   \n",
              "342            45.20000           14.80000           212.000000   \n",
              "343            49.90000           16.10000           213.000000   \n",
              "\n",
              "     Body Mass (g)  Delta 15 N (o/oo)  Delta 13 C (o/oo)  FEMALE  Dream  \\\n",
              "0      3750.000000           8.733382         -25.686292       0      0   \n",
              "1      3800.000000           8.949560         -24.694540       1      0   \n",
              "2      3250.000000           8.368210         -25.333020       1      0   \n",
              "3      4201.754386           8.733382         -25.686292       1      0   \n",
              "4      3450.000000           8.766510         -25.324260       1      0   \n",
              "..             ...                ...                ...     ...    ...   \n",
              "339    4201.754386           8.733382         -25.686292       1      0   \n",
              "340    4850.000000           8.411510         -26.138320       1      0   \n",
              "341    5750.000000           8.301660         -26.041170       0      0   \n",
              "342    5200.000000           8.242460         -26.119690       1      0   \n",
              "343    5400.000000           8.363900         -26.155310       0      0   \n",
              "\n",
              "     Torgersen  Yes  PAL0809  PAL0910  \n",
              "0            1    1        0        0  \n",
              "1            1    1        0        0  \n",
              "2            1    1        0        0  \n",
              "3            1    1        0        0  \n",
              "4            1    1        0        0  \n",
              "..         ...  ...      ...      ...  \n",
              "339          0    0        0        1  \n",
              "340          0    1        0        1  \n",
              "341          0    1        0        1  \n",
              "342          0    1        0        1  \n",
              "343          0    1        0        1  \n",
              "\n",
              "[344 rows x 12 columns]"
            ],
            "text/html": [
              "\n",
              "  <div id=\"df-c1223880-c442-477a-b732-7694ca1f41e5\">\n",
              "    <div class=\"colab-df-container\">\n",
              "      <div>\n",
              "<style scoped>\n",
              "    .dataframe tbody tr th:only-of-type {\n",
              "        vertical-align: middle;\n",
              "    }\n",
              "\n",
              "    .dataframe tbody tr th {\n",
              "        vertical-align: top;\n",
              "    }\n",
              "\n",
              "    .dataframe thead th {\n",
              "        text-align: right;\n",
              "    }\n",
              "</style>\n",
              "<table border=\"1\" class=\"dataframe\">\n",
              "  <thead>\n",
              "    <tr style=\"text-align: right;\">\n",
              "      <th></th>\n",
              "      <th>Culmen Length (mm)</th>\n",
              "      <th>Culmen Depth (mm)</th>\n",
              "      <th>Flipper Length (mm)</th>\n",
              "      <th>Body Mass (g)</th>\n",
              "      <th>Delta 15 N (o/oo)</th>\n",
              "      <th>Delta 13 C (o/oo)</th>\n",
              "      <th>FEMALE</th>\n",
              "      <th>Dream</th>\n",
              "      <th>Torgersen</th>\n",
              "      <th>Yes</th>\n",
              "      <th>PAL0809</th>\n",
              "      <th>PAL0910</th>\n",
              "    </tr>\n",
              "  </thead>\n",
              "  <tbody>\n",
              "    <tr>\n",
              "      <th>0</th>\n",
              "      <td>39.10000</td>\n",
              "      <td>18.70000</td>\n",
              "      <td>181.000000</td>\n",
              "      <td>3750.000000</td>\n",
              "      <td>8.733382</td>\n",
              "      <td>-25.686292</td>\n",
              "      <td>0</td>\n",
              "      <td>0</td>\n",
              "      <td>1</td>\n",
              "      <td>1</td>\n",
              "      <td>0</td>\n",
              "      <td>0</td>\n",
              "    </tr>\n",
              "    <tr>\n",
              "      <th>1</th>\n",
              "      <td>39.50000</td>\n",
              "      <td>17.40000</td>\n",
              "      <td>186.000000</td>\n",
              "      <td>3800.000000</td>\n",
              "      <td>8.949560</td>\n",
              "      <td>-24.694540</td>\n",
              "      <td>1</td>\n",
              "      <td>0</td>\n",
              "      <td>1</td>\n",
              "      <td>1</td>\n",
              "      <td>0</td>\n",
              "      <td>0</td>\n",
              "    </tr>\n",
              "    <tr>\n",
              "      <th>2</th>\n",
              "      <td>40.30000</td>\n",
              "      <td>18.00000</td>\n",
              "      <td>195.000000</td>\n",
              "      <td>3250.000000</td>\n",
              "      <td>8.368210</td>\n",
              "      <td>-25.333020</td>\n",
              "      <td>1</td>\n",
              "      <td>0</td>\n",
              "      <td>1</td>\n",
              "      <td>1</td>\n",
              "      <td>0</td>\n",
              "      <td>0</td>\n",
              "    </tr>\n",
              "    <tr>\n",
              "      <th>3</th>\n",
              "      <td>43.92193</td>\n",
              "      <td>17.15117</td>\n",
              "      <td>200.915205</td>\n",
              "      <td>4201.754386</td>\n",
              "      <td>8.733382</td>\n",
              "      <td>-25.686292</td>\n",
              "      <td>1</td>\n",
              "      <td>0</td>\n",
              "      <td>1</td>\n",
              "      <td>1</td>\n",
              "      <td>0</td>\n",
              "      <td>0</td>\n",
              "    </tr>\n",
              "    <tr>\n",
              "      <th>4</th>\n",
              "      <td>36.70000</td>\n",
              "      <td>19.30000</td>\n",
              "      <td>193.000000</td>\n",
              "      <td>3450.000000</td>\n",
              "      <td>8.766510</td>\n",
              "      <td>-25.324260</td>\n",
              "      <td>1</td>\n",
              "      <td>0</td>\n",
              "      <td>1</td>\n",
              "      <td>1</td>\n",
              "      <td>0</td>\n",
              "      <td>0</td>\n",
              "    </tr>\n",
              "    <tr>\n",
              "      <th>...</th>\n",
              "      <td>...</td>\n",
              "      <td>...</td>\n",
              "      <td>...</td>\n",
              "      <td>...</td>\n",
              "      <td>...</td>\n",
              "      <td>...</td>\n",
              "      <td>...</td>\n",
              "      <td>...</td>\n",
              "      <td>...</td>\n",
              "      <td>...</td>\n",
              "      <td>...</td>\n",
              "      <td>...</td>\n",
              "    </tr>\n",
              "    <tr>\n",
              "      <th>339</th>\n",
              "      <td>43.92193</td>\n",
              "      <td>17.15117</td>\n",
              "      <td>200.915205</td>\n",
              "      <td>4201.754386</td>\n",
              "      <td>8.733382</td>\n",
              "      <td>-25.686292</td>\n",
              "      <td>1</td>\n",
              "      <td>0</td>\n",
              "      <td>0</td>\n",
              "      <td>0</td>\n",
              "      <td>0</td>\n",
              "      <td>1</td>\n",
              "    </tr>\n",
              "    <tr>\n",
              "      <th>340</th>\n",
              "      <td>46.80000</td>\n",
              "      <td>14.30000</td>\n",
              "      <td>215.000000</td>\n",
              "      <td>4850.000000</td>\n",
              "      <td>8.411510</td>\n",
              "      <td>-26.138320</td>\n",
              "      <td>1</td>\n",
              "      <td>0</td>\n",
              "      <td>0</td>\n",
              "      <td>1</td>\n",
              "      <td>0</td>\n",
              "      <td>1</td>\n",
              "    </tr>\n",
              "    <tr>\n",
              "      <th>341</th>\n",
              "      <td>50.40000</td>\n",
              "      <td>15.70000</td>\n",
              "      <td>222.000000</td>\n",
              "      <td>5750.000000</td>\n",
              "      <td>8.301660</td>\n",
              "      <td>-26.041170</td>\n",
              "      <td>0</td>\n",
              "      <td>0</td>\n",
              "      <td>0</td>\n",
              "      <td>1</td>\n",
              "      <td>0</td>\n",
              "      <td>1</td>\n",
              "    </tr>\n",
              "    <tr>\n",
              "      <th>342</th>\n",
              "      <td>45.20000</td>\n",
              "      <td>14.80000</td>\n",
              "      <td>212.000000</td>\n",
              "      <td>5200.000000</td>\n",
              "      <td>8.242460</td>\n",
              "      <td>-26.119690</td>\n",
              "      <td>1</td>\n",
              "      <td>0</td>\n",
              "      <td>0</td>\n",
              "      <td>1</td>\n",
              "      <td>0</td>\n",
              "      <td>1</td>\n",
              "    </tr>\n",
              "    <tr>\n",
              "      <th>343</th>\n",
              "      <td>49.90000</td>\n",
              "      <td>16.10000</td>\n",
              "      <td>213.000000</td>\n",
              "      <td>5400.000000</td>\n",
              "      <td>8.363900</td>\n",
              "      <td>-26.155310</td>\n",
              "      <td>0</td>\n",
              "      <td>0</td>\n",
              "      <td>0</td>\n",
              "      <td>1</td>\n",
              "      <td>0</td>\n",
              "      <td>1</td>\n",
              "    </tr>\n",
              "  </tbody>\n",
              "</table>\n",
              "<p>344 rows × 12 columns</p>\n",
              "</div>\n",
              "      <button class=\"colab-df-convert\" onclick=\"convertToInteractive('df-c1223880-c442-477a-b732-7694ca1f41e5')\"\n",
              "              title=\"Convert this dataframe to an interactive table.\"\n",
              "              style=\"display:none;\">\n",
              "        \n",
              "  <svg xmlns=\"http://www.w3.org/2000/svg\" height=\"24px\"viewBox=\"0 0 24 24\"\n",
              "       width=\"24px\">\n",
              "    <path d=\"M0 0h24v24H0V0z\" fill=\"none\"/>\n",
              "    <path d=\"M18.56 5.44l.94 2.06.94-2.06 2.06-.94-2.06-.94-.94-2.06-.94 2.06-2.06.94zm-11 1L8.5 8.5l.94-2.06 2.06-.94-2.06-.94L8.5 2.5l-.94 2.06-2.06.94zm10 10l.94 2.06.94-2.06 2.06-.94-2.06-.94-.94-2.06-.94 2.06-2.06.94z\"/><path d=\"M17.41 7.96l-1.37-1.37c-.4-.4-.92-.59-1.43-.59-.52 0-1.04.2-1.43.59L10.3 9.45l-7.72 7.72c-.78.78-.78 2.05 0 2.83L4 21.41c.39.39.9.59 1.41.59.51 0 1.02-.2 1.41-.59l7.78-7.78 2.81-2.81c.8-.78.8-2.07 0-2.86zM5.41 20L4 18.59l7.72-7.72 1.47 1.35L5.41 20z\"/>\n",
              "  </svg>\n",
              "      </button>\n",
              "      \n",
              "  <style>\n",
              "    .colab-df-container {\n",
              "      display:flex;\n",
              "      flex-wrap:wrap;\n",
              "      gap: 12px;\n",
              "    }\n",
              "\n",
              "    .colab-df-convert {\n",
              "      background-color: #E8F0FE;\n",
              "      border: none;\n",
              "      border-radius: 50%;\n",
              "      cursor: pointer;\n",
              "      display: none;\n",
              "      fill: #1967D2;\n",
              "      height: 32px;\n",
              "      padding: 0 0 0 0;\n",
              "      width: 32px;\n",
              "    }\n",
              "\n",
              "    .colab-df-convert:hover {\n",
              "      background-color: #E2EBFA;\n",
              "      box-shadow: 0px 1px 2px rgba(60, 64, 67, 0.3), 0px 1px 3px 1px rgba(60, 64, 67, 0.15);\n",
              "      fill: #174EA6;\n",
              "    }\n",
              "\n",
              "    [theme=dark] .colab-df-convert {\n",
              "      background-color: #3B4455;\n",
              "      fill: #D2E3FC;\n",
              "    }\n",
              "\n",
              "    [theme=dark] .colab-df-convert:hover {\n",
              "      background-color: #434B5C;\n",
              "      box-shadow: 0px 1px 3px 1px rgba(0, 0, 0, 0.15);\n",
              "      filter: drop-shadow(0px 1px 2px rgba(0, 0, 0, 0.3));\n",
              "      fill: #FFFFFF;\n",
              "    }\n",
              "  </style>\n",
              "\n",
              "      <script>\n",
              "        const buttonEl =\n",
              "          document.querySelector('#df-c1223880-c442-477a-b732-7694ca1f41e5 button.colab-df-convert');\n",
              "        buttonEl.style.display =\n",
              "          google.colab.kernel.accessAllowed ? 'block' : 'none';\n",
              "\n",
              "        async function convertToInteractive(key) {\n",
              "          const element = document.querySelector('#df-c1223880-c442-477a-b732-7694ca1f41e5');\n",
              "          const dataTable =\n",
              "            await google.colab.kernel.invokeFunction('convertToInteractive',\n",
              "                                                     [key], {});\n",
              "          if (!dataTable) return;\n",
              "\n",
              "          const docLinkHtml = 'Like what you see? Visit the ' +\n",
              "            '<a target=\"_blank\" href=https://colab.research.google.com/notebooks/data_table.ipynb>data table notebook</a>'\n",
              "            + ' to learn more about interactive tables.';\n",
              "          element.innerHTML = '';\n",
              "          dataTable['output_type'] = 'display_data';\n",
              "          await google.colab.output.renderOutput(dataTable, element);\n",
              "          const docLink = document.createElement('div');\n",
              "          docLink.innerHTML = docLinkHtml;\n",
              "          element.appendChild(docLink);\n",
              "        }\n",
              "      </script>\n",
              "    </div>\n",
              "  </div>\n",
              "  "
            ]
          },
          "metadata": {},
          "execution_count": 75
        }
      ]
    },
    {
      "cell_type": "code",
      "source": [
        "y"
      ],
      "metadata": {
        "colab": {
          "base_uri": "https://localhost:8080/"
        },
        "id": "OGXOC-TilAa6",
        "outputId": "2215f7aa-356c-4934-a0af-23c7695f9b77"
      },
      "execution_count": 77,
      "outputs": [
        {
          "output_type": "execute_result",
          "data": {
            "text/plain": [
              "0      Adelie Penguin (Pygoscelis adeliae)\n",
              "1      Adelie Penguin (Pygoscelis adeliae)\n",
              "2      Adelie Penguin (Pygoscelis adeliae)\n",
              "3      Adelie Penguin (Pygoscelis adeliae)\n",
              "4      Adelie Penguin (Pygoscelis adeliae)\n",
              "                      ...                 \n",
              "339      Gentoo penguin (Pygoscelis papua)\n",
              "340      Gentoo penguin (Pygoscelis papua)\n",
              "341      Gentoo penguin (Pygoscelis papua)\n",
              "342      Gentoo penguin (Pygoscelis papua)\n",
              "343      Gentoo penguin (Pygoscelis papua)\n",
              "Name: Species, Length: 344, dtype: object"
            ]
          },
          "metadata": {},
          "execution_count": 77
        }
      ]
    },
    {
      "cell_type": "code",
      "source": [
        "from sklearn.model_selection import train_test_split\n",
        "from sklearn.ensemble import RandomForestClassifier\n",
        "from sklearn.metrics import f1_score,confusion_matrix\n",
        "from sklearn.metrics import accuracy_score\n",
        "from sklearn.feature_selection import RFECV"
      ],
      "metadata": {
        "id": "-jSwZJFxlB02"
      },
      "execution_count": 78,
      "outputs": []
    },
    {
      "cell_type": "code",
      "source": [
        "x_train, x_test, y_train, y_test = train_test_split(X, y, test_size=0.3, random_state=42)"
      ],
      "metadata": {
        "id": "xYCMaMwCoRfo"
      },
      "execution_count": 79,
      "outputs": []
    },
    {
      "cell_type": "code",
      "source": [
        "clf_rf = RandomForestClassifier(random_state=43)      \n",
        "clr_rf = clf_rf.fit(x_train,y_train)"
      ],
      "metadata": {
        "id": "5FO_17O9oVJP"
      },
      "execution_count": 80,
      "outputs": []
    },
    {
      "cell_type": "code",
      "source": [
        "ac = accuracy_score(y_test,clf_rf.predict(x_test))\n",
        "print('Accuracy is: ',ac)\n",
        "cm = confusion_matrix(y_test,clf_rf.predict(x_test))\n",
        "sns.heatmap(cm,annot=True,fmt=\"d\")"
      ],
      "metadata": {
        "colab": {
          "base_uri": "https://localhost:8080/",
          "height": 301
        },
        "id": "YSMdhdwloX7Y",
        "outputId": "48b40a48-9984-466a-c3b5-0ae29f14407b"
      },
      "execution_count": 81,
      "outputs": [
        {
          "output_type": "stream",
          "name": "stdout",
          "text": [
            "Accuracy is:  0.9903846153846154\n"
          ]
        },
        {
          "output_type": "execute_result",
          "data": {
            "text/plain": [
              "<matplotlib.axes._subplots.AxesSubplot at 0x7fe8dc165710>"
            ]
          },
          "metadata": {},
          "execution_count": 81
        },
        {
          "output_type": "display_data",
          "data": {
            "text/plain": [
              "<Figure size 432x288 with 2 Axes>"
            ],
            "image/png": "[encoded data removed]"
          },
          "metadata": {}
        }
      ]
    },
    {
      "cell_type": "code",
      "source": [
        "clf_rf_2 = RandomForestClassifier() \n",
        "rfecv = RFECV(estimator=clf_rf_2, step=1, cv=4,scoring='accuracy')   #5-fold cross-validation\n",
        "rfecv = rfecv.fit(x_train, y_train)\n",
        "\n",
        "print('Optimal number of features :', rfecv.n_features_)\n",
        "print('Best features :', x_train.columns[rfecv.support_])"
      ],
      "metadata": {
        "colab": {
          "base_uri": "https://localhost:8080/"
        },
        "id": "f88OT8GYoaev",
        "outputId": "71f5125e-9e8c-4ae6-cc9c-4f9d9cffa2c2"
      },
      "execution_count": 82,
      "outputs": [
        {
          "output_type": "stream",
          "name": "stdout",
          "text": [
            "Optimal number of features : 8\n",
            "Best features : Index(['Culmen Length (mm)', 'Culmen Depth (mm)', 'Flipper Length (mm)',\n",
            "       'Body Mass (g)', 'Delta 15 N (o/oo)', 'Delta 13 C (o/oo)', 'Dream',\n",
            "       'Torgersen'],\n",
            "      dtype='object')\n"
          ]
        }
      ]
    },
    {
      "cell_type": "code",
      "source": [
        "import matplotlib.pyplot as plt\n",
        "plt.figure()\n",
        "plt.xlabel(\"Number of features selected\")\n",
        "plt.ylabel(\"Cross validation score of number of selected features\")\n",
        "plt.plot(range(1, len(rfecv.grid_scores_) + 1), rfecv.grid_scores_)\n",
        "plt.show()"
      ],
      "metadata": {
        "colab": {
          "base_uri": "https://localhost:8080/",
          "height": 360
        },
        "id": "-5Rm7sxhogVB",
        "outputId": "86a65ea6-0fba-4610-82a2-e82f0b25d7d2"
      },
      "execution_count": 83,
      "outputs": [
        {
          "output_type": "stream",
          "name": "stderr",
          "text": [
            "/usr/local/lib/python3.7/dist-packages/sklearn/utils/deprecation.py:103: FutureWarning: The `grid_scores_` attribute is deprecated in version 1.0 in favor of `cv_results_` and will be removed in version 1.2.\n",
            "  warnings.warn(msg, category=FutureWarning)\n"
          ]
        },
        {
          "output_type": "display_data",
          "data": {
            "text/plain": [
              "<Figure size 432x288 with 1 Axes>"
            ],
            "image/png": "[encoded data removed]"
          },
          "metadata": {}
        }
      ]
    },
    {
      "cell_type": "code",
      "source": [
        "y_predict = rfecv.predict(x_test)"
      ],
      "metadata": {
        "id": "_6xuCOqYotBd"
      },
      "execution_count": 85,
      "outputs": []
    },
    {
      "cell_type": "code",
      "source": [
        "y_predict"
      ],
      "metadata": {
        "colab": {
          "base_uri": "https://localhost:8080/"
        },
        "id": "jMs8grYXpQHI",
        "outputId": "6f868c98-2d54-47ea-a623-6472257d4596"
      },
      "execution_count": 86,
      "outputs": [
        {
          "output_type": "execute_result",
          "data": {
            "text/plain": [
              "array(['Chinstrap penguin (Pygoscelis antarctica)',\n",
              "       'Chinstrap penguin (Pygoscelis antarctica)',\n",
              "       'Gentoo penguin (Pygoscelis papua)',\n",
              "       'Chinstrap penguin (Pygoscelis antarctica)',\n",
              "       'Gentoo penguin (Pygoscelis papua)',\n",
              "       'Gentoo penguin (Pygoscelis papua)',\n",
              "       'Gentoo penguin (Pygoscelis papua)',\n",
              "       'Gentoo penguin (Pygoscelis papua)',\n",
              "       'Adelie Penguin (Pygoscelis adeliae)',\n",
              "       'Gentoo penguin (Pygoscelis papua)',\n",
              "       'Gentoo penguin (Pygoscelis papua)',\n",
              "       'Adelie Penguin (Pygoscelis adeliae)',\n",
              "       'Adelie Penguin (Pygoscelis adeliae)',\n",
              "       'Adelie Penguin (Pygoscelis adeliae)',\n",
              "       'Gentoo penguin (Pygoscelis papua)',\n",
              "       'Adelie Penguin (Pygoscelis adeliae)',\n",
              "       'Adelie Penguin (Pygoscelis adeliae)',\n",
              "       'Gentoo penguin (Pygoscelis papua)',\n",
              "       'Gentoo penguin (Pygoscelis papua)',\n",
              "       'Adelie Penguin (Pygoscelis adeliae)',\n",
              "       'Adelie Penguin (Pygoscelis adeliae)',\n",
              "       'Adelie Penguin (Pygoscelis adeliae)',\n",
              "       'Gentoo penguin (Pygoscelis papua)',\n",
              "       'Adelie Penguin (Pygoscelis adeliae)',\n",
              "       'Chinstrap penguin (Pygoscelis antarctica)',\n",
              "       'Chinstrap penguin (Pygoscelis antarctica)',\n",
              "       'Adelie Penguin (Pygoscelis adeliae)',\n",
              "       'Chinstrap penguin (Pygoscelis antarctica)',\n",
              "       'Adelie Penguin (Pygoscelis adeliae)',\n",
              "       'Chinstrap penguin (Pygoscelis antarctica)',\n",
              "       'Adelie Penguin (Pygoscelis adeliae)',\n",
              "       'Adelie Penguin (Pygoscelis adeliae)',\n",
              "       'Chinstrap penguin (Pygoscelis antarctica)',\n",
              "       'Adelie Penguin (Pygoscelis adeliae)',\n",
              "       'Adelie Penguin (Pygoscelis adeliae)',\n",
              "       'Adelie Penguin (Pygoscelis adeliae)',\n",
              "       'Gentoo penguin (Pygoscelis papua)',\n",
              "       'Chinstrap penguin (Pygoscelis antarctica)',\n",
              "       'Adelie Penguin (Pygoscelis adeliae)',\n",
              "       'Chinstrap penguin (Pygoscelis antarctica)',\n",
              "       'Gentoo penguin (Pygoscelis papua)',\n",
              "       'Gentoo penguin (Pygoscelis papua)',\n",
              "       'Gentoo penguin (Pygoscelis papua)',\n",
              "       'Adelie Penguin (Pygoscelis adeliae)',\n",
              "       'Gentoo penguin (Pygoscelis papua)',\n",
              "       'Adelie Penguin (Pygoscelis adeliae)',\n",
              "       'Gentoo penguin (Pygoscelis papua)',\n",
              "       'Adelie Penguin (Pygoscelis adeliae)',\n",
              "       'Adelie Penguin (Pygoscelis adeliae)',\n",
              "       'Chinstrap penguin (Pygoscelis antarctica)',\n",
              "       'Adelie Penguin (Pygoscelis adeliae)',\n",
              "       'Gentoo penguin (Pygoscelis papua)',\n",
              "       'Gentoo penguin (Pygoscelis papua)',\n",
              "       'Adelie Penguin (Pygoscelis adeliae)',\n",
              "       'Adelie Penguin (Pygoscelis adeliae)',\n",
              "       'Chinstrap penguin (Pygoscelis antarctica)',\n",
              "       'Adelie Penguin (Pygoscelis adeliae)',\n",
              "       'Chinstrap penguin (Pygoscelis antarctica)',\n",
              "       'Chinstrap penguin (Pygoscelis antarctica)',\n",
              "       'Gentoo penguin (Pygoscelis papua)',\n",
              "       'Chinstrap penguin (Pygoscelis antarctica)',\n",
              "       'Adelie Penguin (Pygoscelis adeliae)',\n",
              "       'Gentoo penguin (Pygoscelis papua)',\n",
              "       'Adelie Penguin (Pygoscelis adeliae)',\n",
              "       'Gentoo penguin (Pygoscelis papua)',\n",
              "       'Chinstrap penguin (Pygoscelis antarctica)',\n",
              "       'Adelie Penguin (Pygoscelis adeliae)',\n",
              "       'Adelie Penguin (Pygoscelis adeliae)',\n",
              "       'Adelie Penguin (Pygoscelis adeliae)',\n",
              "       'Adelie Penguin (Pygoscelis adeliae)',\n",
              "       'Gentoo penguin (Pygoscelis papua)',\n",
              "       'Adelie Penguin (Pygoscelis adeliae)',\n",
              "       'Adelie Penguin (Pygoscelis adeliae)',\n",
              "       'Gentoo penguin (Pygoscelis papua)',\n",
              "       'Gentoo penguin (Pygoscelis papua)',\n",
              "       'Gentoo penguin (Pygoscelis papua)',\n",
              "       'Adelie Penguin (Pygoscelis adeliae)',\n",
              "       'Adelie Penguin (Pygoscelis adeliae)',\n",
              "       'Adelie Penguin (Pygoscelis adeliae)',\n",
              "       'Gentoo penguin (Pygoscelis papua)',\n",
              "       'Adelie Penguin (Pygoscelis adeliae)',\n",
              "       'Gentoo penguin (Pygoscelis papua)',\n",
              "       'Gentoo penguin (Pygoscelis papua)',\n",
              "       'Adelie Penguin (Pygoscelis adeliae)',\n",
              "       'Chinstrap penguin (Pygoscelis antarctica)',\n",
              "       'Chinstrap penguin (Pygoscelis antarctica)',\n",
              "       'Adelie Penguin (Pygoscelis adeliae)',\n",
              "       'Adelie Penguin (Pygoscelis adeliae)',\n",
              "       'Gentoo penguin (Pygoscelis papua)',\n",
              "       'Adelie Penguin (Pygoscelis adeliae)',\n",
              "       'Chinstrap penguin (Pygoscelis antarctica)',\n",
              "       'Gentoo penguin (Pygoscelis papua)',\n",
              "       'Gentoo penguin (Pygoscelis papua)',\n",
              "       'Adelie Penguin (Pygoscelis adeliae)',\n",
              "       'Gentoo penguin (Pygoscelis papua)',\n",
              "       'Chinstrap penguin (Pygoscelis antarctica)',\n",
              "       'Adelie Penguin (Pygoscelis adeliae)',\n",
              "       'Chinstrap penguin (Pygoscelis antarctica)',\n",
              "       'Gentoo penguin (Pygoscelis papua)',\n",
              "       'Adelie Penguin (Pygoscelis adeliae)',\n",
              "       'Adelie Penguin (Pygoscelis adeliae)',\n",
              "       'Adelie Penguin (Pygoscelis adeliae)',\n",
              "       'Adelie Penguin (Pygoscelis adeliae)',\n",
              "       'Gentoo penguin (Pygoscelis papua)'], dtype=object)"
            ]
          },
          "metadata": {},
          "execution_count": 86
        }
      ]
    },
    {
      "cell_type": "code",
      "source": [
        "sum = 0\n",
        "for (a, b) in zip(y_test , y_predict):\n",
        "  if(a==b):\n",
        "    print(True)\n",
        "    sum += 1;\n",
        "  else:\n",
        "    print(False)"
      ],
      "metadata": {
        "colab": {
          "base_uri": "https://localhost:8080/"
        },
        "id": "bydLrta9paHH",
        "outputId": "43c8debc-08f4-4667-9a43-5407e296667a"
      },
      "execution_count": 103,
      "outputs": [
        {
          "output_type": "stream",
          "name": "stdout",
          "text": [
            "True\n",
            "True\n",
            "True\n",
            "True\n",
            "True\n",
            "True\n",
            "True\n",
            "True\n",
            "True\n",
            "True\n",
            "True\n",
            "True\n",
            "True\n",
            "True\n",
            "True\n",
            "True\n",
            "True\n",
            "True\n",
            "True\n",
            "True\n",
            "True\n",
            "True\n",
            "True\n",
            "True\n",
            "True\n",
            "True\n",
            "True\n",
            "True\n",
            "True\n",
            "True\n",
            "True\n",
            "True\n",
            "True\n",
            "True\n",
            "True\n",
            "True\n",
            "True\n",
            "True\n",
            "True\n",
            "True\n",
            "True\n",
            "True\n",
            "True\n",
            "True\n",
            "False\n",
            "True\n",
            "True\n",
            "True\n",
            "True\n",
            "True\n",
            "True\n",
            "True\n",
            "True\n",
            "True\n",
            "True\n",
            "True\n",
            "True\n",
            "True\n",
            "True\n",
            "True\n",
            "True\n",
            "True\n",
            "True\n",
            "True\n",
            "True\n",
            "True\n",
            "True\n",
            "True\n",
            "True\n",
            "True\n",
            "True\n",
            "True\n",
            "True\n",
            "True\n",
            "True\n",
            "True\n",
            "True\n",
            "True\n",
            "True\n",
            "True\n",
            "True\n",
            "True\n",
            "True\n",
            "True\n",
            "True\n",
            "True\n",
            "True\n",
            "True\n",
            "True\n",
            "True\n",
            "True\n",
            "True\n",
            "True\n",
            "True\n",
            "True\n",
            "True\n",
            "True\n",
            "False\n",
            "True\n",
            "True\n",
            "True\n",
            "True\n",
            "True\n",
            "True\n"
          ]
        }
      ]
    },
    {
      "cell_type": "code",
      "source": [
        "print(y_predict.size)\n",
        "print(type(y_predict.size))"
      ],
      "metadata": {
        "colab": {
          "base_uri": "https://localhost:8080/"
        },
        "id": "j7txolEzqSAu",
        "outputId": "ebb3c4a6-8b27-4925-da31-9417cad0f26e"
      },
      "execution_count": 104,
      "outputs": [
        {
          "output_type": "stream",
          "name": "stdout",
          "text": [
            "104\n",
            "<class 'int'>\n"
          ]
        }
      ]
    },
    {
      "cell_type": "code",
      "source": [
        "size = y_predict.size\n"
      ],
      "metadata": {
        "id": "rhveWrbyqBpX"
      },
      "execution_count": 105,
      "outputs": []
    },
    {
      "cell_type": "code",
      "source": [
        "sum"
      ],
      "metadata": {
        "colab": {
          "base_uri": "https://localhost:8080/"
        },
        "id": "_jvqdIDkrApA",
        "outputId": "c62695f7-e990-4b29-ce94-cdbe311be80f"
      },
      "execution_count": 102,
      "outputs": [
        {
          "output_type": "execute_result",
          "data": {
            "text/plain": [
              "<function sum>"
            ]
          },
          "metadata": {},
          "execution_count": 102
        }
      ]
    },
    {
      "cell_type": "code",
      "source": [
        "accuracy = sum/size\n",
        "print(accuracy )"
      ],
      "metadata": {
        "colab": {
          "base_uri": "https://localhost:8080/"
        },
        "id": "xKKeedZfqOZn",
        "outputId": "573847dd-d2c2-43ff-943a-ee271c32725a"
      },
      "execution_count": 106,
      "outputs": [
        {
          "output_type": "stream",
          "name": "stdout",
          "text": [
            "0.9807692307692307\n"
          ]
        }
      ]
    },
    {
      "cell_type": "code",
      "source": [
        ""
      ],
      "metadata": {
        "id": "0Hg5XrJ0q3M9"
      },
      "execution_count": null,
      "outputs": []
    }
  ]
}