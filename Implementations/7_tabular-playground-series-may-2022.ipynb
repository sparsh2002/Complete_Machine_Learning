{
 "cells": [
  {
   "cell_type": "code",
   "execution_count": 1,
   "id": "ca205dd0",
   "metadata": {
    "_cell_guid": "b1076dfc-b9ad-4769-8c92-a6c4dae69d19",
    "_uuid": "8f2839f25d086af736a60e9eeb907d3b93b6e0e5",
    "execution": {
     "iopub.execute_input": "2022-05-16T12:45:14.991374Z",
     "iopub.status.busy": "2022-05-16T12:45:14.990792Z",
     "iopub.status.idle": "2022-05-16T12:45:15.003725Z",
     "shell.execute_reply": "2022-05-16T12:45:15.003079Z"
    },
    "papermill": {
     "duration": 0.066055,
     "end_time": "2022-05-16T12:45:15.006606",
     "exception": false,
     "start_time": "2022-05-16T12:45:14.940551",
     "status": "completed"
    },
    "tags": []
   },
   "outputs": [
    {
     "name": "stdout",
     "output_type": "stream",
     "text": [
      "/kaggle/input/tabular-playground-series-may-2022/sample_submission.csv\n",
      "/kaggle/input/tabular-playground-series-may-2022/train.csv\n",
      "/kaggle/input/tabular-playground-series-may-2022/test.csv\n"
     ]
    }
   ],
   "source": [
    "# This Python 3 environment comes with many helpful analytics libraries installed\n",
    "# It is defined by the kaggle/python Docker image: https://github.com/kaggle/docker-python\n",
    "# For example, here's several helpful packages to load\n",
    "\n",
    "import numpy as np # linear algebra\n",
    "import pandas as pd # data processing, CSV file I/O (e.g. pd.read_csv)\n",
    "\n",
    "# Input data files are available in the read-only \"../input/\" directory\n",
    "# For example, running this (by clicking run or pressing Shift+Enter) will list all files under the input directory\n",
    "\n",
    "import os\n",
    "for dirname, _, filenames in os.walk('/kaggle/input'):\n",
    "    for filename in filenames:\n",
    "        print(os.path.join(dirname, filename))\n",
    "\n",
    "# You can write up to 20GB to the current directory (/kaggle/working/) that gets preserved as output when you create a version using \"Save & Run All\" \n",
    "# You can also write temporary files to /kaggle/temp/, but they won't be saved outside of the current session"
   ]
  },
  {
   "cell_type": "code",
   "execution_count": 2,
   "id": "b91f6f04",
   "metadata": {
    "execution": {
     "iopub.execute_input": "2022-05-16T12:45:15.078396Z",
     "iopub.status.busy": "2022-05-16T12:45:15.077866Z",
     "iopub.status.idle": "2022-05-16T12:45:16.195955Z",
     "shell.execute_reply": "2022-05-16T12:45:16.194938Z"
    },
    "papermill": {
     "duration": 1.155465,
     "end_time": "2022-05-16T12:45:16.198294",
     "exception": false,
     "start_time": "2022-05-16T12:45:15.042829",
     "status": "completed"
    },
    "tags": []
   },
   "outputs": [],
   "source": [
    "import matplotlib.pyplot as plt\n",
    "import seaborn as sns\n",
    "%matplotlib inline"
   ]
  },
  {
   "cell_type": "code",
   "execution_count": 3,
   "id": "e7789638",
   "metadata": {
    "execution": {
     "iopub.execute_input": "2022-05-16T12:45:16.267343Z",
     "iopub.status.busy": "2022-05-16T12:45:16.266826Z",
     "iopub.status.idle": "2022-05-16T12:45:23.442800Z",
     "shell.execute_reply": "2022-05-16T12:45:23.441879Z"
    },
    "papermill": {
     "duration": 7.212143,
     "end_time": "2022-05-16T12:45:23.445045",
     "exception": false,
     "start_time": "2022-05-16T12:45:16.232902",
     "status": "completed"
    },
    "tags": []
   },
   "outputs": [],
   "source": [
    "df = pd.read_csv('../input/tabular-playground-series-may-2022/train.csv')"
   ]
  },
  {
   "cell_type": "code",
   "execution_count": 4,
   "id": "bd7551f2",
   "metadata": {
    "execution": {
     "iopub.execute_input": "2022-05-16T12:45:23.513099Z",
     "iopub.status.busy": "2022-05-16T12:45:23.512817Z",
     "iopub.status.idle": "2022-05-16T12:45:23.545282Z",
     "shell.execute_reply": "2022-05-16T12:45:23.544484Z"
    },
    "papermill": {
     "duration": 0.069059,
     "end_time": "2022-05-16T12:45:23.547611",
     "exception": false,
     "start_time": "2022-05-16T12:45:23.478552",
     "status": "completed"
    },
    "tags": []
   },
   "outputs": [
    {
     "data": {
      "text/html": [
       "<div>\n",
       "<style scoped>\n",
       "    .dataframe tbody tr th:only-of-type {\n",
       "        vertical-align: middle;\n",
       "    }\n",
       "\n",
       "    .dataframe tbody tr th {\n",
       "        vertical-align: top;\n",
       "    }\n",
       "\n",
       "    .dataframe thead th {\n",
       "        text-align: right;\n",
       "    }\n",
       "</style>\n",
       "<table border=\"1\" class=\"dataframe\">\n",
       "  <thead>\n",
       "    <tr style=\"text-align: right;\">\n",
       "      <th></th>\n",
       "      <th>id</th>\n",
       "      <th>f_00</th>\n",
       "      <th>f_01</th>\n",
       "      <th>f_02</th>\n",
       "      <th>f_03</th>\n",
       "      <th>f_04</th>\n",
       "      <th>f_05</th>\n",
       "      <th>f_06</th>\n",
       "      <th>f_07</th>\n",
       "      <th>f_08</th>\n",
       "      <th>...</th>\n",
       "      <th>f_22</th>\n",
       "      <th>f_23</th>\n",
       "      <th>f_24</th>\n",
       "      <th>f_25</th>\n",
       "      <th>f_26</th>\n",
       "      <th>f_27</th>\n",
       "      <th>f_28</th>\n",
       "      <th>f_29</th>\n",
       "      <th>f_30</th>\n",
       "      <th>target</th>\n",
       "    </tr>\n",
       "  </thead>\n",
       "  <tbody>\n",
       "    <tr>\n",
       "      <th>0</th>\n",
       "      <td>0</td>\n",
       "      <td>-1.373246</td>\n",
       "      <td>0.238887</td>\n",
       "      <td>-0.243376</td>\n",
       "      <td>0.567405</td>\n",
       "      <td>-0.647715</td>\n",
       "      <td>0.839326</td>\n",
       "      <td>0.113133</td>\n",
       "      <td>1</td>\n",
       "      <td>5</td>\n",
       "      <td>...</td>\n",
       "      <td>-2.540739</td>\n",
       "      <td>0.766952</td>\n",
       "      <td>-2.730628</td>\n",
       "      <td>-0.208177</td>\n",
       "      <td>1.363402</td>\n",
       "      <td>ABABDADBAB</td>\n",
       "      <td>67.609153</td>\n",
       "      <td>0</td>\n",
       "      <td>0</td>\n",
       "      <td>0</td>\n",
       "    </tr>\n",
       "    <tr>\n",
       "      <th>1</th>\n",
       "      <td>1</td>\n",
       "      <td>1.697021</td>\n",
       "      <td>-1.710322</td>\n",
       "      <td>-2.230332</td>\n",
       "      <td>-0.545661</td>\n",
       "      <td>1.113173</td>\n",
       "      <td>-1.552175</td>\n",
       "      <td>0.447825</td>\n",
       "      <td>1</td>\n",
       "      <td>3</td>\n",
       "      <td>...</td>\n",
       "      <td>2.278315</td>\n",
       "      <td>-0.633658</td>\n",
       "      <td>-1.217077</td>\n",
       "      <td>-3.782194</td>\n",
       "      <td>-0.058316</td>\n",
       "      <td>ACACCADCEB</td>\n",
       "      <td>377.096415</td>\n",
       "      <td>0</td>\n",
       "      <td>0</td>\n",
       "      <td>1</td>\n",
       "    </tr>\n",
       "    <tr>\n",
       "      <th>2</th>\n",
       "      <td>2</td>\n",
       "      <td>1.681726</td>\n",
       "      <td>0.616746</td>\n",
       "      <td>-1.027689</td>\n",
       "      <td>0.810492</td>\n",
       "      <td>-0.609086</td>\n",
       "      <td>0.113965</td>\n",
       "      <td>-0.708660</td>\n",
       "      <td>1</td>\n",
       "      <td>0</td>\n",
       "      <td>...</td>\n",
       "      <td>-1.385775</td>\n",
       "      <td>-0.520558</td>\n",
       "      <td>-0.009121</td>\n",
       "      <td>2.788536</td>\n",
       "      <td>-3.703488</td>\n",
       "      <td>AAAEABCKAD</td>\n",
       "      <td>-195.599702</td>\n",
       "      <td>0</td>\n",
       "      <td>2</td>\n",
       "      <td>1</td>\n",
       "    </tr>\n",
       "    <tr>\n",
       "      <th>3</th>\n",
       "      <td>3</td>\n",
       "      <td>-0.118172</td>\n",
       "      <td>-0.587835</td>\n",
       "      <td>-0.804638</td>\n",
       "      <td>2.086822</td>\n",
       "      <td>0.371005</td>\n",
       "      <td>-0.128831</td>\n",
       "      <td>-0.282575</td>\n",
       "      <td>3</td>\n",
       "      <td>2</td>\n",
       "      <td>...</td>\n",
       "      <td>0.572594</td>\n",
       "      <td>-1.653213</td>\n",
       "      <td>1.686035</td>\n",
       "      <td>-2.533098</td>\n",
       "      <td>-0.608601</td>\n",
       "      <td>BDBBAACBCB</td>\n",
       "      <td>210.826205</td>\n",
       "      <td>0</td>\n",
       "      <td>0</td>\n",
       "      <td>1</td>\n",
       "    </tr>\n",
       "    <tr>\n",
       "      <th>4</th>\n",
       "      <td>4</td>\n",
       "      <td>1.148481</td>\n",
       "      <td>-0.176567</td>\n",
       "      <td>-0.664871</td>\n",
       "      <td>-1.101343</td>\n",
       "      <td>0.467875</td>\n",
       "      <td>0.500117</td>\n",
       "      <td>0.407515</td>\n",
       "      <td>3</td>\n",
       "      <td>3</td>\n",
       "      <td>...</td>\n",
       "      <td>-3.912929</td>\n",
       "      <td>-1.430366</td>\n",
       "      <td>2.127649</td>\n",
       "      <td>-3.306784</td>\n",
       "      <td>4.371371</td>\n",
       "      <td>BDBCBBCHFE</td>\n",
       "      <td>-217.211798</td>\n",
       "      <td>0</td>\n",
       "      <td>1</td>\n",
       "      <td>1</td>\n",
       "    </tr>\n",
       "  </tbody>\n",
       "</table>\n",
       "<p>5 rows × 33 columns</p>\n",
       "</div>"
      ],
      "text/plain": [
       "   id      f_00      f_01      f_02      f_03      f_04      f_05      f_06  \\\n",
       "0   0 -1.373246  0.238887 -0.243376  0.567405 -0.647715  0.839326  0.113133   \n",
       "1   1  1.697021 -1.710322 -2.230332 -0.545661  1.113173 -1.552175  0.447825   \n",
       "2   2  1.681726  0.616746 -1.027689  0.810492 -0.609086  0.113965 -0.708660   \n",
       "3   3 -0.118172 -0.587835 -0.804638  2.086822  0.371005 -0.128831 -0.282575   \n",
       "4   4  1.148481 -0.176567 -0.664871 -1.101343  0.467875  0.500117  0.407515   \n",
       "\n",
       "   f_07  f_08  ...      f_22      f_23      f_24      f_25      f_26  \\\n",
       "0     1     5  ... -2.540739  0.766952 -2.730628 -0.208177  1.363402   \n",
       "1     1     3  ...  2.278315 -0.633658 -1.217077 -3.782194 -0.058316   \n",
       "2     1     0  ... -1.385775 -0.520558 -0.009121  2.788536 -3.703488   \n",
       "3     3     2  ...  0.572594 -1.653213  1.686035 -2.533098 -0.608601   \n",
       "4     3     3  ... -3.912929 -1.430366  2.127649 -3.306784  4.371371   \n",
       "\n",
       "         f_27        f_28  f_29  f_30  target  \n",
       "0  ABABDADBAB   67.609153     0     0       0  \n",
       "1  ACACCADCEB  377.096415     0     0       1  \n",
       "2  AAAEABCKAD -195.599702     0     2       1  \n",
       "3  BDBBAACBCB  210.826205     0     0       1  \n",
       "4  BDBCBBCHFE -217.211798     0     1       1  \n",
       "\n",
       "[5 rows x 33 columns]"
      ]
     },
     "execution_count": 4,
     "metadata": {},
     "output_type": "execute_result"
    }
   ],
   "source": [
    "df.head()"
   ]
  },
  {
   "cell_type": "code",
   "execution_count": 5,
   "id": "ca50325a",
   "metadata": {
    "execution": {
     "iopub.execute_input": "2022-05-16T12:45:23.618130Z",
     "iopub.status.busy": "2022-05-16T12:45:23.617225Z",
     "iopub.status.idle": "2022-05-16T12:45:23.731530Z",
     "shell.execute_reply": "2022-05-16T12:45:23.730243Z"
    },
    "papermill": {
     "duration": 0.152245,
     "end_time": "2022-05-16T12:45:23.733527",
     "exception": false,
     "start_time": "2022-05-16T12:45:23.581282",
     "status": "completed"
    },
    "tags": []
   },
   "outputs": [
    {
     "name": "stdout",
     "output_type": "stream",
     "text": [
      "<class 'pandas.core.frame.DataFrame'>\n",
      "RangeIndex: 900000 entries, 0 to 899999\n",
      "Data columns (total 33 columns):\n",
      " #   Column  Non-Null Count   Dtype  \n",
      "---  ------  --------------   -----  \n",
      " 0   id      900000 non-null  int64  \n",
      " 1   f_00    900000 non-null  float64\n",
      " 2   f_01    900000 non-null  float64\n",
      " 3   f_02    900000 non-null  float64\n",
      " 4   f_03    900000 non-null  float64\n",
      " 5   f_04    900000 non-null  float64\n",
      " 6   f_05    900000 non-null  float64\n",
      " 7   f_06    900000 non-null  float64\n",
      " 8   f_07    900000 non-null  int64  \n",
      " 9   f_08    900000 non-null  int64  \n",
      " 10  f_09    900000 non-null  int64  \n",
      " 11  f_10    900000 non-null  int64  \n",
      " 12  f_11    900000 non-null  int64  \n",
      " 13  f_12    900000 non-null  int64  \n",
      " 14  f_13    900000 non-null  int64  \n",
      " 15  f_14    900000 non-null  int64  \n",
      " 16  f_15    900000 non-null  int64  \n",
      " 17  f_16    900000 non-null  int64  \n",
      " 18  f_17    900000 non-null  int64  \n",
      " 19  f_18    900000 non-null  int64  \n",
      " 20  f_19    900000 non-null  float64\n",
      " 21  f_20    900000 non-null  float64\n",
      " 22  f_21    900000 non-null  float64\n",
      " 23  f_22    900000 non-null  float64\n",
      " 24  f_23    900000 non-null  float64\n",
      " 25  f_24    900000 non-null  float64\n",
      " 26  f_25    900000 non-null  float64\n",
      " 27  f_26    900000 non-null  float64\n",
      " 28  f_27    900000 non-null  object \n",
      " 29  f_28    900000 non-null  float64\n",
      " 30  f_29    900000 non-null  int64  \n",
      " 31  f_30    900000 non-null  int64  \n",
      " 32  target  900000 non-null  int64  \n",
      "dtypes: float64(16), int64(16), object(1)\n",
      "memory usage: 226.6+ MB\n"
     ]
    }
   ],
   "source": [
    "df.info()"
   ]
  },
  {
   "cell_type": "code",
   "execution_count": 6,
   "id": "9406564a",
   "metadata": {
    "execution": {
     "iopub.execute_input": "2022-05-16T12:45:23.805599Z",
     "iopub.status.busy": "2022-05-16T12:45:23.805295Z",
     "iopub.status.idle": "2022-05-16T12:45:23.975173Z",
     "shell.execute_reply": "2022-05-16T12:45:23.974343Z"
    },
    "papermill": {
     "duration": 0.208584,
     "end_time": "2022-05-16T12:45:23.977367",
     "exception": false,
     "start_time": "2022-05-16T12:45:23.768783",
     "status": "completed"
    },
    "tags": []
   },
   "outputs": [
    {
     "data": {
      "text/plain": [
       "741354"
      ]
     },
     "execution_count": 6,
     "metadata": {},
     "output_type": "execute_result"
    }
   ],
   "source": [
    "df['f_27'].unique().size"
   ]
  },
  {
   "cell_type": "code",
   "execution_count": 7,
   "id": "c15adad8",
   "metadata": {
    "execution": {
     "iopub.execute_input": "2022-05-16T12:45:24.047623Z",
     "iopub.status.busy": "2022-05-16T12:45:24.047334Z",
     "iopub.status.idle": "2022-05-16T12:45:25.201942Z",
     "shell.execute_reply": "2022-05-16T12:45:25.201366Z"
    },
    "papermill": {
     "duration": 1.191786,
     "end_time": "2022-05-16T12:45:25.203631",
     "exception": false,
     "start_time": "2022-05-16T12:45:24.011845",
     "status": "completed"
    },
    "tags": []
   },
   "outputs": [
    {
     "data": {
      "text/html": [
       "<div>\n",
       "<style scoped>\n",
       "    .dataframe tbody tr th:only-of-type {\n",
       "        vertical-align: middle;\n",
       "    }\n",
       "\n",
       "    .dataframe tbody tr th {\n",
       "        vertical-align: top;\n",
       "    }\n",
       "\n",
       "    .dataframe thead th {\n",
       "        text-align: right;\n",
       "    }\n",
       "</style>\n",
       "<table border=\"1\" class=\"dataframe\">\n",
       "  <thead>\n",
       "    <tr style=\"text-align: right;\">\n",
       "      <th></th>\n",
       "      <th>id</th>\n",
       "      <th>f_00</th>\n",
       "      <th>f_01</th>\n",
       "      <th>f_02</th>\n",
       "      <th>f_03</th>\n",
       "      <th>f_04</th>\n",
       "      <th>f_05</th>\n",
       "      <th>f_06</th>\n",
       "      <th>f_07</th>\n",
       "      <th>f_08</th>\n",
       "      <th>...</th>\n",
       "      <th>f_21</th>\n",
       "      <th>f_22</th>\n",
       "      <th>f_23</th>\n",
       "      <th>f_24</th>\n",
       "      <th>f_25</th>\n",
       "      <th>f_26</th>\n",
       "      <th>f_28</th>\n",
       "      <th>f_29</th>\n",
       "      <th>f_30</th>\n",
       "      <th>target</th>\n",
       "    </tr>\n",
       "  </thead>\n",
       "  <tbody>\n",
       "    <tr>\n",
       "      <th>count</th>\n",
       "      <td>900000.000000</td>\n",
       "      <td>900000.000000</td>\n",
       "      <td>900000.000000</td>\n",
       "      <td>900000.000000</td>\n",
       "      <td>900000.000000</td>\n",
       "      <td>900000.000000</td>\n",
       "      <td>900000.000000</td>\n",
       "      <td>900000.000000</td>\n",
       "      <td>900000.000000</td>\n",
       "      <td>900000.000000</td>\n",
       "      <td>...</td>\n",
       "      <td>900000.000000</td>\n",
       "      <td>900000.000000</td>\n",
       "      <td>900000.000000</td>\n",
       "      <td>900000.000000</td>\n",
       "      <td>900000.000000</td>\n",
       "      <td>900000.000000</td>\n",
       "      <td>900000.000000</td>\n",
       "      <td>900000.000000</td>\n",
       "      <td>900000.000000</td>\n",
       "      <td>900000.000000</td>\n",
       "    </tr>\n",
       "    <tr>\n",
       "      <th>mean</th>\n",
       "      <td>449999.500000</td>\n",
       "      <td>-0.000286</td>\n",
       "      <td>0.001165</td>\n",
       "      <td>0.001174</td>\n",
       "      <td>-0.001368</td>\n",
       "      <td>-0.000571</td>\n",
       "      <td>0.000284</td>\n",
       "      <td>-0.000709</td>\n",
       "      <td>2.031460</td>\n",
       "      <td>2.057998</td>\n",
       "      <td>...</td>\n",
       "      <td>-0.156307</td>\n",
       "      <td>-0.009273</td>\n",
       "      <td>-0.369459</td>\n",
       "      <td>-0.342738</td>\n",
       "      <td>0.176549</td>\n",
       "      <td>0.357591</td>\n",
       "      <td>-0.380876</td>\n",
       "      <td>0.345661</td>\n",
       "      <td>1.002654</td>\n",
       "      <td>0.486488</td>\n",
       "    </tr>\n",
       "    <tr>\n",
       "      <th>std</th>\n",
       "      <td>259807.765473</td>\n",
       "      <td>0.998888</td>\n",
       "      <td>0.999193</td>\n",
       "      <td>1.000514</td>\n",
       "      <td>1.000175</td>\n",
       "      <td>1.000167</td>\n",
       "      <td>0.999875</td>\n",
       "      <td>0.999942</td>\n",
       "      <td>1.656172</td>\n",
       "      <td>1.590955</td>\n",
       "      <td>...</td>\n",
       "      <td>2.484706</td>\n",
       "      <td>2.450797</td>\n",
       "      <td>2.453405</td>\n",
       "      <td>2.386941</td>\n",
       "      <td>2.416959</td>\n",
       "      <td>2.476020</td>\n",
       "      <td>238.773054</td>\n",
       "      <td>0.475584</td>\n",
       "      <td>0.818989</td>\n",
       "      <td>0.499818</td>\n",
       "    </tr>\n",
       "    <tr>\n",
       "      <th>min</th>\n",
       "      <td>0.000000</td>\n",
       "      <td>-4.599856</td>\n",
       "      <td>-4.682199</td>\n",
       "      <td>-4.642676</td>\n",
       "      <td>-4.658816</td>\n",
       "      <td>-4.748501</td>\n",
       "      <td>-4.750214</td>\n",
       "      <td>-4.842919</td>\n",
       "      <td>0.000000</td>\n",
       "      <td>0.000000</td>\n",
       "      <td>...</td>\n",
       "      <td>-13.310146</td>\n",
       "      <td>-11.853530</td>\n",
       "      <td>-12.301097</td>\n",
       "      <td>-11.416189</td>\n",
       "      <td>-11.918306</td>\n",
       "      <td>-14.300577</td>\n",
       "      <td>-1229.753052</td>\n",
       "      <td>0.000000</td>\n",
       "      <td>0.000000</td>\n",
       "      <td>0.000000</td>\n",
       "    </tr>\n",
       "    <tr>\n",
       "      <th>25%</th>\n",
       "      <td>224999.750000</td>\n",
       "      <td>-0.675490</td>\n",
       "      <td>-0.675162</td>\n",
       "      <td>-0.674369</td>\n",
       "      <td>-0.676114</td>\n",
       "      <td>-0.675909</td>\n",
       "      <td>-0.673437</td>\n",
       "      <td>-0.674876</td>\n",
       "      <td>1.000000</td>\n",
       "      <td>1.000000</td>\n",
       "      <td>...</td>\n",
       "      <td>-1.820063</td>\n",
       "      <td>-1.645585</td>\n",
       "      <td>-2.019739</td>\n",
       "      <td>-1.955956</td>\n",
       "      <td>-1.440424</td>\n",
       "      <td>-1.261598</td>\n",
       "      <td>-159.427418</td>\n",
       "      <td>0.000000</td>\n",
       "      <td>0.000000</td>\n",
       "      <td>0.000000</td>\n",
       "    </tr>\n",
       "    <tr>\n",
       "      <th>50%</th>\n",
       "      <td>449999.500000</td>\n",
       "      <td>0.001144</td>\n",
       "      <td>0.002014</td>\n",
       "      <td>0.002218</td>\n",
       "      <td>-0.002227</td>\n",
       "      <td>-0.001662</td>\n",
       "      <td>-0.000438</td>\n",
       "      <td>-0.001492</td>\n",
       "      <td>2.000000</td>\n",
       "      <td>2.000000</td>\n",
       "      <td>...</td>\n",
       "      <td>-0.152668</td>\n",
       "      <td>0.030850</td>\n",
       "      <td>-0.390966</td>\n",
       "      <td>-0.340746</td>\n",
       "      <td>0.160912</td>\n",
       "      <td>0.404212</td>\n",
       "      <td>-0.519808</td>\n",
       "      <td>0.000000</td>\n",
       "      <td>1.000000</td>\n",
       "      <td>0.000000</td>\n",
       "    </tr>\n",
       "    <tr>\n",
       "      <th>75%</th>\n",
       "      <td>674999.250000</td>\n",
       "      <td>0.674337</td>\n",
       "      <td>0.675021</td>\n",
       "      <td>0.677505</td>\n",
       "      <td>0.672544</td>\n",
       "      <td>0.673789</td>\n",
       "      <td>0.675028</td>\n",
       "      <td>0.674749</td>\n",
       "      <td>3.000000</td>\n",
       "      <td>3.000000</td>\n",
       "      <td>...</td>\n",
       "      <td>1.507071</td>\n",
       "      <td>1.661676</td>\n",
       "      <td>1.255408</td>\n",
       "      <td>1.266673</td>\n",
       "      <td>1.795928</td>\n",
       "      <td>2.028219</td>\n",
       "      <td>158.987357</td>\n",
       "      <td>1.000000</td>\n",
       "      <td>2.000000</td>\n",
       "      <td>1.000000</td>\n",
       "    </tr>\n",
       "    <tr>\n",
       "      <th>max</th>\n",
       "      <td>899999.000000</td>\n",
       "      <td>4.749301</td>\n",
       "      <td>4.815699</td>\n",
       "      <td>4.961982</td>\n",
       "      <td>4.454920</td>\n",
       "      <td>4.948983</td>\n",
       "      <td>4.971881</td>\n",
       "      <td>4.822668</td>\n",
       "      <td>15.000000</td>\n",
       "      <td>16.000000</td>\n",
       "      <td>...</td>\n",
       "      <td>14.455426</td>\n",
       "      <td>11.344080</td>\n",
       "      <td>12.247100</td>\n",
       "      <td>12.389844</td>\n",
       "      <td>12.529179</td>\n",
       "      <td>12.913041</td>\n",
       "      <td>1229.562577</td>\n",
       "      <td>1.000000</td>\n",
       "      <td>2.000000</td>\n",
       "      <td>1.000000</td>\n",
       "    </tr>\n",
       "  </tbody>\n",
       "</table>\n",
       "<p>8 rows × 32 columns</p>\n",
       "</div>"
      ],
      "text/plain": [
       "                  id           f_00           f_01           f_02  \\\n",
       "count  900000.000000  900000.000000  900000.000000  900000.000000   \n",
       "mean   449999.500000      -0.000286       0.001165       0.001174   \n",
       "std    259807.765473       0.998888       0.999193       1.000514   \n",
       "min         0.000000      -4.599856      -4.682199      -4.642676   \n",
       "25%    224999.750000      -0.675490      -0.675162      -0.674369   \n",
       "50%    449999.500000       0.001144       0.002014       0.002218   \n",
       "75%    674999.250000       0.674337       0.675021       0.677505   \n",
       "max    899999.000000       4.749301       4.815699       4.961982   \n",
       "\n",
       "                f_03           f_04           f_05           f_06  \\\n",
       "count  900000.000000  900000.000000  900000.000000  900000.000000   \n",
       "mean       -0.001368      -0.000571       0.000284      -0.000709   \n",
       "std         1.000175       1.000167       0.999875       0.999942   \n",
       "min        -4.658816      -4.748501      -4.750214      -4.842919   \n",
       "25%        -0.676114      -0.675909      -0.673437      -0.674876   \n",
       "50%        -0.002227      -0.001662      -0.000438      -0.001492   \n",
       "75%         0.672544       0.673789       0.675028       0.674749   \n",
       "max         4.454920       4.948983       4.971881       4.822668   \n",
       "\n",
       "                f_07           f_08  ...           f_21           f_22  \\\n",
       "count  900000.000000  900000.000000  ...  900000.000000  900000.000000   \n",
       "mean        2.031460       2.057998  ...      -0.156307      -0.009273   \n",
       "std         1.656172       1.590955  ...       2.484706       2.450797   \n",
       "min         0.000000       0.000000  ...     -13.310146     -11.853530   \n",
       "25%         1.000000       1.000000  ...      -1.820063      -1.645585   \n",
       "50%         2.000000       2.000000  ...      -0.152668       0.030850   \n",
       "75%         3.000000       3.000000  ...       1.507071       1.661676   \n",
       "max        15.000000      16.000000  ...      14.455426      11.344080   \n",
       "\n",
       "                f_23           f_24           f_25           f_26  \\\n",
       "count  900000.000000  900000.000000  900000.000000  900000.000000   \n",
       "mean       -0.369459      -0.342738       0.176549       0.357591   \n",
       "std         2.453405       2.386941       2.416959       2.476020   \n",
       "min       -12.301097     -11.416189     -11.918306     -14.300577   \n",
       "25%        -2.019739      -1.955956      -1.440424      -1.261598   \n",
       "50%        -0.390966      -0.340746       0.160912       0.404212   \n",
       "75%         1.255408       1.266673       1.795928       2.028219   \n",
       "max        12.247100      12.389844      12.529179      12.913041   \n",
       "\n",
       "                f_28           f_29           f_30         target  \n",
       "count  900000.000000  900000.000000  900000.000000  900000.000000  \n",
       "mean       -0.380876       0.345661       1.002654       0.486488  \n",
       "std       238.773054       0.475584       0.818989       0.499818  \n",
       "min     -1229.753052       0.000000       0.000000       0.000000  \n",
       "25%      -159.427418       0.000000       0.000000       0.000000  \n",
       "50%        -0.519808       0.000000       1.000000       0.000000  \n",
       "75%       158.987357       1.000000       2.000000       1.000000  \n",
       "max      1229.562577       1.000000       2.000000       1.000000  \n",
       "\n",
       "[8 rows x 32 columns]"
      ]
     },
     "execution_count": 7,
     "metadata": {},
     "output_type": "execute_result"
    }
   ],
   "source": [
    "df.describe()"
   ]
  },
  {
   "cell_type": "code",
   "execution_count": 8,
   "id": "826dc7ca",
   "metadata": {
    "execution": {
     "iopub.execute_input": "2022-05-16T12:45:25.274752Z",
     "iopub.status.busy": "2022-05-16T12:45:25.274370Z",
     "iopub.status.idle": "2022-05-16T12:45:25.278628Z",
     "shell.execute_reply": "2022-05-16T12:45:25.277847Z"
    },
    "papermill": {
     "duration": 0.042111,
     "end_time": "2022-05-16T12:45:25.280575",
     "exception": false,
     "start_time": "2022-05-16T12:45:25.238464",
     "status": "completed"
    },
    "tags": []
   },
   "outputs": [
    {
     "data": {
      "text/plain": [
       "(900000, 33)"
      ]
     },
     "execution_count": 8,
     "metadata": {},
     "output_type": "execute_result"
    }
   ],
   "source": [
    "df.shape"
   ]
  },
  {
   "cell_type": "code",
   "execution_count": 9,
   "id": "d7e0d00c",
   "metadata": {
    "execution": {
     "iopub.execute_input": "2022-05-16T12:45:25.354029Z",
     "iopub.status.busy": "2022-05-16T12:45:25.353765Z",
     "iopub.status.idle": "2022-05-16T12:45:25.435222Z",
     "shell.execute_reply": "2022-05-16T12:45:25.434365Z"
    },
    "papermill": {
     "duration": 0.120267,
     "end_time": "2022-05-16T12:45:25.437054",
     "exception": false,
     "start_time": "2022-05-16T12:45:25.316787",
     "status": "completed"
    },
    "tags": []
   },
   "outputs": [],
   "source": [
    "df.drop(['f_27'] , axis = 1 , inplace = True)"
   ]
  },
  {
   "cell_type": "code",
   "execution_count": 10,
   "id": "beb46960",
   "metadata": {
    "execution": {
     "iopub.execute_input": "2022-05-16T12:45:25.509595Z",
     "iopub.status.busy": "2022-05-16T12:45:25.509063Z",
     "iopub.status.idle": "2022-05-16T12:45:25.570694Z",
     "shell.execute_reply": "2022-05-16T12:45:25.569844Z"
    },
    "papermill": {
     "duration": 0.100363,
     "end_time": "2022-05-16T12:45:25.572575",
     "exception": false,
     "start_time": "2022-05-16T12:45:25.472212",
     "status": "completed"
    },
    "tags": []
   },
   "outputs": [
    {
     "name": "stdout",
     "output_type": "stream",
     "text": [
      "<class 'pandas.core.frame.DataFrame'>\n",
      "RangeIndex: 900000 entries, 0 to 899999\n",
      "Data columns (total 32 columns):\n",
      " #   Column  Non-Null Count   Dtype  \n",
      "---  ------  --------------   -----  \n",
      " 0   id      900000 non-null  int64  \n",
      " 1   f_00    900000 non-null  float64\n",
      " 2   f_01    900000 non-null  float64\n",
      " 3   f_02    900000 non-null  float64\n",
      " 4   f_03    900000 non-null  float64\n",
      " 5   f_04    900000 non-null  float64\n",
      " 6   f_05    900000 non-null  float64\n",
      " 7   f_06    900000 non-null  float64\n",
      " 8   f_07    900000 non-null  int64  \n",
      " 9   f_08    900000 non-null  int64  \n",
      " 10  f_09    900000 non-null  int64  \n",
      " 11  f_10    900000 non-null  int64  \n",
      " 12  f_11    900000 non-null  int64  \n",
      " 13  f_12    900000 non-null  int64  \n",
      " 14  f_13    900000 non-null  int64  \n",
      " 15  f_14    900000 non-null  int64  \n",
      " 16  f_15    900000 non-null  int64  \n",
      " 17  f_16    900000 non-null  int64  \n",
      " 18  f_17    900000 non-null  int64  \n",
      " 19  f_18    900000 non-null  int64  \n",
      " 20  f_19    900000 non-null  float64\n",
      " 21  f_20    900000 non-null  float64\n",
      " 22  f_21    900000 non-null  float64\n",
      " 23  f_22    900000 non-null  float64\n",
      " 24  f_23    900000 non-null  float64\n",
      " 25  f_24    900000 non-null  float64\n",
      " 26  f_25    900000 non-null  float64\n",
      " 27  f_26    900000 non-null  float64\n",
      " 28  f_28    900000 non-null  float64\n",
      " 29  f_29    900000 non-null  int64  \n",
      " 30  f_30    900000 non-null  int64  \n",
      " 31  target  900000 non-null  int64  \n",
      "dtypes: float64(16), int64(16)\n",
      "memory usage: 219.7 MB\n"
     ]
    }
   ],
   "source": [
    "df.info()"
   ]
  },
  {
   "cell_type": "code",
   "execution_count": 11,
   "id": "cb4f2731",
   "metadata": {
    "execution": {
     "iopub.execute_input": "2022-05-16T12:45:25.650226Z",
     "iopub.status.busy": "2022-05-16T12:45:25.649782Z",
     "iopub.status.idle": "2022-05-16T12:45:25.662012Z",
     "shell.execute_reply": "2022-05-16T12:45:25.661389Z"
    },
    "papermill": {
     "duration": 0.053781,
     "end_time": "2022-05-16T12:45:25.664006",
     "exception": false,
     "start_time": "2022-05-16T12:45:25.610225",
     "status": "completed"
    },
    "tags": []
   },
   "outputs": [],
   "source": [
    "temp = df[['f_00' , 'f_01', 'f_02' , 'f_03', 'f_04' , 'target']]"
   ]
  },
  {
   "cell_type": "code",
   "execution_count": 12,
   "id": "958c4316",
   "metadata": {
    "execution": {
     "iopub.execute_input": "2022-05-16T12:45:25.738334Z",
     "iopub.status.busy": "2022-05-16T12:45:25.737839Z",
     "iopub.status.idle": "2022-05-16T12:45:25.749025Z",
     "shell.execute_reply": "2022-05-16T12:45:25.748180Z"
    },
    "papermill": {
     "duration": 0.050396,
     "end_time": "2022-05-16T12:45:25.750940",
     "exception": false,
     "start_time": "2022-05-16T12:45:25.700544",
     "status": "completed"
    },
    "tags": []
   },
   "outputs": [
    {
     "data": {
      "text/html": [
       "<div>\n",
       "<style scoped>\n",
       "    .dataframe tbody tr th:only-of-type {\n",
       "        vertical-align: middle;\n",
       "    }\n",
       "\n",
       "    .dataframe tbody tr th {\n",
       "        vertical-align: top;\n",
       "    }\n",
       "\n",
       "    .dataframe thead th {\n",
       "        text-align: right;\n",
       "    }\n",
       "</style>\n",
       "<table border=\"1\" class=\"dataframe\">\n",
       "  <thead>\n",
       "    <tr style=\"text-align: right;\">\n",
       "      <th></th>\n",
       "      <th>f_00</th>\n",
       "      <th>f_01</th>\n",
       "      <th>f_02</th>\n",
       "      <th>f_03</th>\n",
       "      <th>f_04</th>\n",
       "      <th>target</th>\n",
       "    </tr>\n",
       "  </thead>\n",
       "  <tbody>\n",
       "    <tr>\n",
       "      <th>0</th>\n",
       "      <td>-1.373246</td>\n",
       "      <td>0.238887</td>\n",
       "      <td>-0.243376</td>\n",
       "      <td>0.567405</td>\n",
       "      <td>-0.647715</td>\n",
       "      <td>0</td>\n",
       "    </tr>\n",
       "    <tr>\n",
       "      <th>1</th>\n",
       "      <td>1.697021</td>\n",
       "      <td>-1.710322</td>\n",
       "      <td>-2.230332</td>\n",
       "      <td>-0.545661</td>\n",
       "      <td>1.113173</td>\n",
       "      <td>1</td>\n",
       "    </tr>\n",
       "    <tr>\n",
       "      <th>2</th>\n",
       "      <td>1.681726</td>\n",
       "      <td>0.616746</td>\n",
       "      <td>-1.027689</td>\n",
       "      <td>0.810492</td>\n",
       "      <td>-0.609086</td>\n",
       "      <td>1</td>\n",
       "    </tr>\n",
       "    <tr>\n",
       "      <th>3</th>\n",
       "      <td>-0.118172</td>\n",
       "      <td>-0.587835</td>\n",
       "      <td>-0.804638</td>\n",
       "      <td>2.086822</td>\n",
       "      <td>0.371005</td>\n",
       "      <td>1</td>\n",
       "    </tr>\n",
       "    <tr>\n",
       "      <th>4</th>\n",
       "      <td>1.148481</td>\n",
       "      <td>-0.176567</td>\n",
       "      <td>-0.664871</td>\n",
       "      <td>-1.101343</td>\n",
       "      <td>0.467875</td>\n",
       "      <td>1</td>\n",
       "    </tr>\n",
       "  </tbody>\n",
       "</table>\n",
       "</div>"
      ],
      "text/plain": [
       "       f_00      f_01      f_02      f_03      f_04  target\n",
       "0 -1.373246  0.238887 -0.243376  0.567405 -0.647715       0\n",
       "1  1.697021 -1.710322 -2.230332 -0.545661  1.113173       1\n",
       "2  1.681726  0.616746 -1.027689  0.810492 -0.609086       1\n",
       "3 -0.118172 -0.587835 -0.804638  2.086822  0.371005       1\n",
       "4  1.148481 -0.176567 -0.664871 -1.101343  0.467875       1"
      ]
     },
     "execution_count": 12,
     "metadata": {},
     "output_type": "execute_result"
    }
   ],
   "source": [
    "temp.head()"
   ]
  },
  {
   "cell_type": "code",
   "execution_count": 13,
   "id": "59352e20",
   "metadata": {
    "execution": {
     "iopub.execute_input": "2022-05-16T12:45:25.844369Z",
     "iopub.status.busy": "2022-05-16T12:45:25.844048Z",
     "iopub.status.idle": "2022-05-16T12:45:26.671112Z",
     "shell.execute_reply": "2022-05-16T12:45:26.670250Z"
    },
    "papermill": {
     "duration": 0.868291,
     "end_time": "2022-05-16T12:45:26.673041",
     "exception": false,
     "start_time": "2022-05-16T12:45:25.804750",
     "status": "completed"
    },
    "tags": []
   },
   "outputs": [
    {
     "data": {
      "text/plain": [
       "<AxesSubplot:xlabel='f_00', ylabel='Count'>"
      ]
     },
     "execution_count": 13,
     "metadata": {},
     "output_type": "execute_result"
    },
    {
     "data": {
      "image/png": "[encoded data removed]",
      "text/plain": [
       "<Figure size 432x288 with 1 Axes>"
      ]
     },
     "metadata": {
      "needs_background": "light"
     },
     "output_type": "display_data"
    }
   ],
   "source": [
    "sns.histplot(data=temp, x=\"f_00\")"
   ]
  },
  {
   "cell_type": "code",
   "execution_count": 14,
   "id": "06e54689",
   "metadata": {
    "execution": {
     "iopub.execute_input": "2022-05-16T12:45:26.749149Z",
     "iopub.status.busy": "2022-05-16T12:45:26.748529Z",
     "iopub.status.idle": "2022-05-16T12:45:31.073433Z",
     "shell.execute_reply": "2022-05-16T12:45:31.072617Z"
    },
    "papermill": {
     "duration": 4.36547,
     "end_time": "2022-05-16T12:45:31.075351",
     "exception": false,
     "start_time": "2022-05-16T12:45:26.709881",
     "status": "completed"
    },
    "tags": []
   },
   "outputs": [
    {
     "data": {
      "text/plain": [
       "<AxesSubplot:xlabel='f_00', ylabel='Count'>"
      ]
     },
     "execution_count": 14,
     "metadata": {},
     "output_type": "execute_result"
    },
    {
     "data": {
      "image/png": "[encoded data removed]",
      "text/plain": [
       "<Figure size 432x288 with 1 Axes>"
      ]
     },
     "metadata": {
      "needs_background": "light"
     },
     "output_type": "display_data"
    }
   ],
   "source": [
    "sns.histplot(data=temp ,x=\"f_00\", kde=True)"
   ]
  },
  {
   "cell_type": "code",
   "execution_count": 15,
   "id": "41756a89",
   "metadata": {
    "execution": {
     "iopub.execute_input": "2022-05-16T12:45:31.155833Z",
     "iopub.status.busy": "2022-05-16T12:45:31.155113Z",
     "iopub.status.idle": "2022-05-16T12:45:31.350662Z",
     "shell.execute_reply": "2022-05-16T12:45:31.349790Z"
    },
    "papermill": {
     "duration": 0.237695,
     "end_time": "2022-05-16T12:45:31.353381",
     "exception": false,
     "start_time": "2022-05-16T12:45:31.115686",
     "status": "completed"
    },
    "tags": []
   },
   "outputs": [
    {
     "data": {
      "text/plain": [
       "<AxesSubplot:xlabel='target', ylabel='count'>"
      ]
     },
     "execution_count": 15,
     "metadata": {},
     "output_type": "execute_result"
    },
    {
     "data": {
      "image/png": "[encoded data removed]",
      "text/plain": [
       "<Figure size 432x288 with 1 Axes>"
      ]
     },
     "metadata": {
      "needs_background": "light"
     },
     "output_type": "display_data"
    }
   ],
   "source": [
    "sns.countplot(x=\"target\", data=temp)"
   ]
  },
  {
   "cell_type": "code",
   "execution_count": 16,
   "id": "c71086a8",
   "metadata": {
    "execution": {
     "iopub.execute_input": "2022-05-16T12:45:31.439066Z",
     "iopub.status.busy": "2022-05-16T12:45:31.438678Z",
     "iopub.status.idle": "2022-05-16T12:45:31.632363Z",
     "shell.execute_reply": "2022-05-16T12:45:31.631221Z"
    },
    "papermill": {
     "duration": 0.236486,
     "end_time": "2022-05-16T12:45:31.634613",
     "exception": false,
     "start_time": "2022-05-16T12:45:31.398127",
     "status": "completed"
    },
    "tags": []
   },
   "outputs": [],
   "source": [
    "from sklearn.model_selection import train_test_split"
   ]
  },
  {
   "cell_type": "code",
   "execution_count": 17,
   "id": "175b4686",
   "metadata": {
    "execution": {
     "iopub.execute_input": "2022-05-16T12:45:31.713737Z",
     "iopub.status.busy": "2022-05-16T12:45:31.713402Z",
     "iopub.status.idle": "2022-05-16T12:45:32.204336Z",
     "shell.execute_reply": "2022-05-16T12:45:32.203546Z"
    },
    "papermill": {
     "duration": 0.532847,
     "end_time": "2022-05-16T12:45:32.206362",
     "exception": false,
     "start_time": "2022-05-16T12:45:31.673515",
     "status": "completed"
    },
    "tags": []
   },
   "outputs": [],
   "source": [
    "X_train , X_test , y_train , y_test = train_test_split(df.drop(['target'] , axis = 1) , df['target'] , test_size = 0.33 , random_state = 43)"
   ]
  },
  {
   "cell_type": "code",
   "execution_count": 18,
   "id": "98b89695",
   "metadata": {
    "execution": {
     "iopub.execute_input": "2022-05-16T12:45:32.286523Z",
     "iopub.status.busy": "2022-05-16T12:45:32.286036Z",
     "iopub.status.idle": "2022-05-16T12:45:32.363065Z",
     "shell.execute_reply": "2022-05-16T12:45:32.362362Z"
    },
    "papermill": {
     "duration": 0.119284,
     "end_time": "2022-05-16T12:45:32.365081",
     "exception": false,
     "start_time": "2022-05-16T12:45:32.245797",
     "status": "completed"
    },
    "tags": []
   },
   "outputs": [],
   "source": [
    "from sklearn.linear_model import LogisticRegression"
   ]
  },
  {
   "cell_type": "code",
   "execution_count": 19,
   "id": "bdfba5a8",
   "metadata": {
    "execution": {
     "iopub.execute_input": "2022-05-16T12:45:32.446177Z",
     "iopub.status.busy": "2022-05-16T12:45:32.445674Z",
     "iopub.status.idle": "2022-05-16T12:45:33.288010Z",
     "shell.execute_reply": "2022-05-16T12:45:33.287073Z"
    },
    "papermill": {
     "duration": 0.88584,
     "end_time": "2022-05-16T12:45:33.291119",
     "exception": false,
     "start_time": "2022-05-16T12:45:32.405279",
     "status": "completed"
    },
    "tags": []
   },
   "outputs": [],
   "source": [
    "clf = LogisticRegression(random_state=0).fit(X_train, y_train)"
   ]
  },
  {
   "cell_type": "code",
   "execution_count": 20,
   "id": "7846526d",
   "metadata": {
    "execution": {
     "iopub.execute_input": "2022-05-16T12:45:33.422026Z",
     "iopub.status.busy": "2022-05-16T12:45:33.421776Z",
     "iopub.status.idle": "2022-05-16T12:45:33.464511Z",
     "shell.execute_reply": "2022-05-16T12:45:33.463387Z"
    },
    "papermill": {
     "duration": 0.10021,
     "end_time": "2022-05-16T12:45:33.467831",
     "exception": false,
     "start_time": "2022-05-16T12:45:33.367621",
     "status": "completed"
    },
    "tags": []
   },
   "outputs": [],
   "source": [
    "y_pred  = clf.predict(X_test)"
   ]
  },
  {
   "cell_type": "code",
   "execution_count": 21,
   "id": "8d5dc3e5",
   "metadata": {
    "execution": {
     "iopub.execute_input": "2022-05-16T12:45:33.604028Z",
     "iopub.status.busy": "2022-05-16T12:45:33.603748Z",
     "iopub.status.idle": "2022-05-16T12:45:33.607071Z",
     "shell.execute_reply": "2022-05-16T12:45:33.606511Z"
    },
    "papermill": {
     "duration": 0.063453,
     "end_time": "2022-05-16T12:45:33.608808",
     "exception": false,
     "start_time": "2022-05-16T12:45:33.545355",
     "status": "completed"
    },
    "tags": []
   },
   "outputs": [],
   "source": [
    "from sklearn.metrics import confusion_matrix"
   ]
  },
  {
   "cell_type": "code",
   "execution_count": 22,
   "id": "8630db67",
   "metadata": {
    "execution": {
     "iopub.execute_input": "2022-05-16T12:45:33.691077Z",
     "iopub.status.busy": "2022-05-16T12:45:33.690209Z",
     "iopub.status.idle": "2022-05-16T12:45:33.753401Z",
     "shell.execute_reply": "2022-05-16T12:45:33.752584Z"
    },
    "papermill": {
     "duration": 0.106074,
     "end_time": "2022-05-16T12:45:33.755217",
     "exception": false,
     "start_time": "2022-05-16T12:45:33.649143",
     "status": "completed"
    },
    "tags": []
   },
   "outputs": [
    {
     "data": {
      "text/plain": [
       "array([[153036,      0],\n",
       "       [143964,      0]])"
      ]
     },
     "execution_count": 22,
     "metadata": {},
     "output_type": "execute_result"
    }
   ],
   "source": [
    "confusion_matrix(y_test, y_pred)"
   ]
  },
  {
   "cell_type": "code",
   "execution_count": 23,
   "id": "ebf67b52",
   "metadata": {
    "execution": {
     "iopub.execute_input": "2022-05-16T12:45:33.838896Z",
     "iopub.status.busy": "2022-05-16T12:45:33.838115Z",
     "iopub.status.idle": "2022-05-16T12:45:33.844658Z",
     "shell.execute_reply": "2022-05-16T12:45:33.844140Z"
    },
    "papermill": {
     "duration": 0.050086,
     "end_time": "2022-05-16T12:45:33.846240",
     "exception": false,
     "start_time": "2022-05-16T12:45:33.796154",
     "status": "completed"
    },
    "tags": []
   },
   "outputs": [
    {
     "data": {
      "text/plain": [
       "array([0, 0, 0, ..., 0, 0, 0])"
      ]
     },
     "execution_count": 23,
     "metadata": {},
     "output_type": "execute_result"
    }
   ],
   "source": [
    "y_pred"
   ]
  },
  {
   "cell_type": "code",
   "execution_count": 24,
   "id": "e15a54ff",
   "metadata": {
    "execution": {
     "iopub.execute_input": "2022-05-16T12:45:33.926558Z",
     "iopub.status.busy": "2022-05-16T12:45:33.926249Z",
     "iopub.status.idle": "2022-05-16T12:45:33.930745Z",
     "shell.execute_reply": "2022-05-16T12:45:33.930264Z"
    },
    "papermill": {
     "duration": 0.046978,
     "end_time": "2022-05-16T12:45:33.932562",
     "exception": false,
     "start_time": "2022-05-16T12:45:33.885584",
     "status": "completed"
    },
    "tags": []
   },
   "outputs": [
    {
     "data": {
      "text/plain": [
       "297000"
      ]
     },
     "execution_count": 24,
     "metadata": {},
     "output_type": "execute_result"
    }
   ],
   "source": [
    "y_pred.size"
   ]
  },
  {
   "cell_type": "code",
   "execution_count": 25,
   "id": "22b67cb6",
   "metadata": {
    "execution": {
     "iopub.execute_input": "2022-05-16T12:45:34.013519Z",
     "iopub.status.busy": "2022-05-16T12:45:34.013080Z",
     "iopub.status.idle": "2022-05-16T12:45:34.107844Z",
     "shell.execute_reply": "2022-05-16T12:45:34.106969Z"
    },
    "papermill": {
     "duration": 0.138288,
     "end_time": "2022-05-16T12:45:34.110770",
     "exception": false,
     "start_time": "2022-05-16T12:45:33.972482",
     "status": "completed"
    },
    "tags": []
   },
   "outputs": [
    {
     "name": "stdout",
     "output_type": "stream",
     "text": [
      "0.5152727272727273\n"
     ]
    }
   ],
   "source": [
    "score = clf.score(X_test, y_test)\n",
    "print(score)"
   ]
  },
  {
   "cell_type": "code",
   "execution_count": 26,
   "id": "e40bd500",
   "metadata": {
    "execution": {
     "iopub.execute_input": "2022-05-16T12:45:34.225233Z",
     "iopub.status.busy": "2022-05-16T12:45:34.224997Z",
     "iopub.status.idle": "2022-05-16T12:45:39.726190Z",
     "shell.execute_reply": "2022-05-16T12:45:39.725357Z"
    },
    "papermill": {
     "duration": 5.544805,
     "end_time": "2022-05-16T12:45:39.728429",
     "exception": false,
     "start_time": "2022-05-16T12:45:34.183624",
     "status": "completed"
    },
    "tags": []
   },
   "outputs": [],
   "source": [
    "df_test = pd.read_csv('../input/tabular-playground-series-may-2022/test.csv')"
   ]
  },
  {
   "cell_type": "code",
   "execution_count": 27,
   "id": "84747f1a",
   "metadata": {
    "execution": {
     "iopub.execute_input": "2022-05-16T12:45:39.809262Z",
     "iopub.status.busy": "2022-05-16T12:45:39.808992Z",
     "iopub.status.idle": "2022-05-16T12:45:39.889097Z",
     "shell.execute_reply": "2022-05-16T12:45:39.888297Z"
    },
    "papermill": {
     "duration": 0.122731,
     "end_time": "2022-05-16T12:45:39.891076",
     "exception": false,
     "start_time": "2022-05-16T12:45:39.768345",
     "status": "completed"
    },
    "tags": []
   },
   "outputs": [
    {
     "name": "stdout",
     "output_type": "stream",
     "text": [
      "<class 'pandas.core.frame.DataFrame'>\n",
      "RangeIndex: 700000 entries, 0 to 699999\n",
      "Data columns (total 32 columns):\n",
      " #   Column  Non-Null Count   Dtype  \n",
      "---  ------  --------------   -----  \n",
      " 0   id      700000 non-null  int64  \n",
      " 1   f_00    700000 non-null  float64\n",
      " 2   f_01    700000 non-null  float64\n",
      " 3   f_02    700000 non-null  float64\n",
      " 4   f_03    700000 non-null  float64\n",
      " 5   f_04    700000 non-null  float64\n",
      " 6   f_05    700000 non-null  float64\n",
      " 7   f_06    700000 non-null  float64\n",
      " 8   f_07    700000 non-null  int64  \n",
      " 9   f_08    700000 non-null  int64  \n",
      " 10  f_09    700000 non-null  int64  \n",
      " 11  f_10    700000 non-null  int64  \n",
      " 12  f_11    700000 non-null  int64  \n",
      " 13  f_12    700000 non-null  int64  \n",
      " 14  f_13    700000 non-null  int64  \n",
      " 15  f_14    700000 non-null  int64  \n",
      " 16  f_15    700000 non-null  int64  \n",
      " 17  f_16    700000 non-null  int64  \n",
      " 18  f_17    700000 non-null  int64  \n",
      " 19  f_18    700000 non-null  int64  \n",
      " 20  f_19    700000 non-null  float64\n",
      " 21  f_20    700000 non-null  float64\n",
      " 22  f_21    700000 non-null  float64\n",
      " 23  f_22    700000 non-null  float64\n",
      " 24  f_23    700000 non-null  float64\n",
      " 25  f_24    700000 non-null  float64\n",
      " 26  f_25    700000 non-null  float64\n",
      " 27  f_26    700000 non-null  float64\n",
      " 28  f_27    700000 non-null  object \n",
      " 29  f_28    700000 non-null  float64\n",
      " 30  f_29    700000 non-null  int64  \n",
      " 31  f_30    700000 non-null  int64  \n",
      "dtypes: float64(16), int64(15), object(1)\n",
      "memory usage: 170.9+ MB\n"
     ]
    }
   ],
   "source": [
    "df_test.info()"
   ]
  },
  {
   "cell_type": "code",
   "execution_count": 28,
   "id": "6b4c0f3f",
   "metadata": {
    "execution": {
     "iopub.execute_input": "2022-05-16T12:45:39.973110Z",
     "iopub.status.busy": "2022-05-16T12:45:39.972097Z",
     "iopub.status.idle": "2022-05-16T12:45:40.025686Z",
     "shell.execute_reply": "2022-05-16T12:45:40.024724Z"
    },
    "papermill": {
     "duration": 0.097001,
     "end_time": "2022-05-16T12:45:40.027810",
     "exception": false,
     "start_time": "2022-05-16T12:45:39.930809",
     "status": "completed"
    },
    "tags": []
   },
   "outputs": [],
   "source": [
    "df_test.drop(['f_27'] , axis = 1 , inplace = True)"
   ]
  },
  {
   "cell_type": "code",
   "execution_count": 29,
   "id": "c7bf5ca2",
   "metadata": {
    "execution": {
     "iopub.execute_input": "2022-05-16T12:45:40.110223Z",
     "iopub.status.busy": "2022-05-16T12:45:40.109946Z",
     "iopub.status.idle": "2022-05-16T12:45:40.130897Z",
     "shell.execute_reply": "2022-05-16T12:45:40.130150Z"
    },
    "papermill": {
     "duration": 0.064607,
     "end_time": "2022-05-16T12:45:40.132790",
     "exception": false,
     "start_time": "2022-05-16T12:45:40.068183",
     "status": "completed"
    },
    "tags": []
   },
   "outputs": [
    {
     "data": {
      "text/html": [
       "<div>\n",
       "<style scoped>\n",
       "    .dataframe tbody tr th:only-of-type {\n",
       "        vertical-align: middle;\n",
       "    }\n",
       "\n",
       "    .dataframe tbody tr th {\n",
       "        vertical-align: top;\n",
       "    }\n",
       "\n",
       "    .dataframe thead th {\n",
       "        text-align: right;\n",
       "    }\n",
       "</style>\n",
       "<table border=\"1\" class=\"dataframe\">\n",
       "  <thead>\n",
       "    <tr style=\"text-align: right;\">\n",
       "      <th></th>\n",
       "      <th>id</th>\n",
       "      <th>f_00</th>\n",
       "      <th>f_01</th>\n",
       "      <th>f_02</th>\n",
       "      <th>f_03</th>\n",
       "      <th>f_04</th>\n",
       "      <th>f_05</th>\n",
       "      <th>f_06</th>\n",
       "      <th>f_07</th>\n",
       "      <th>f_08</th>\n",
       "      <th>...</th>\n",
       "      <th>f_20</th>\n",
       "      <th>f_21</th>\n",
       "      <th>f_22</th>\n",
       "      <th>f_23</th>\n",
       "      <th>f_24</th>\n",
       "      <th>f_25</th>\n",
       "      <th>f_26</th>\n",
       "      <th>f_28</th>\n",
       "      <th>f_29</th>\n",
       "      <th>f_30</th>\n",
       "    </tr>\n",
       "  </thead>\n",
       "  <tbody>\n",
       "    <tr>\n",
       "      <th>0</th>\n",
       "      <td>900000</td>\n",
       "      <td>0.442517</td>\n",
       "      <td>0.174380</td>\n",
       "      <td>-0.999816</td>\n",
       "      <td>0.762741</td>\n",
       "      <td>0.186778</td>\n",
       "      <td>-1.074775</td>\n",
       "      <td>0.501888</td>\n",
       "      <td>6</td>\n",
       "      <td>6</td>\n",
       "      <td>...</td>\n",
       "      <td>2.749347</td>\n",
       "      <td>-1.006400</td>\n",
       "      <td>-1.193879</td>\n",
       "      <td>-2.435736</td>\n",
       "      <td>-2.427430</td>\n",
       "      <td>-1.966887</td>\n",
       "      <td>5.734205</td>\n",
       "      <td>99.478419</td>\n",
       "      <td>0</td>\n",
       "      <td>0</td>\n",
       "    </tr>\n",
       "    <tr>\n",
       "      <th>1</th>\n",
       "      <td>900001</td>\n",
       "      <td>-0.605598</td>\n",
       "      <td>-0.305715</td>\n",
       "      <td>0.627667</td>\n",
       "      <td>-0.578898</td>\n",
       "      <td>-1.750931</td>\n",
       "      <td>1.355550</td>\n",
       "      <td>-0.190911</td>\n",
       "      <td>1</td>\n",
       "      <td>3</td>\n",
       "      <td>...</td>\n",
       "      <td>1.080762</td>\n",
       "      <td>2.382405</td>\n",
       "      <td>0.149442</td>\n",
       "      <td>1.883322</td>\n",
       "      <td>-2.848714</td>\n",
       "      <td>-0.725155</td>\n",
       "      <td>3.194219</td>\n",
       "      <td>-65.993825</td>\n",
       "      <td>1</td>\n",
       "      <td>0</td>\n",
       "    </tr>\n",
       "    <tr>\n",
       "      <th>2</th>\n",
       "      <td>900002</td>\n",
       "      <td>0.303990</td>\n",
       "      <td>2.445110</td>\n",
       "      <td>0.246515</td>\n",
       "      <td>0.818248</td>\n",
       "      <td>0.359731</td>\n",
       "      <td>-1.331845</td>\n",
       "      <td>1.358622</td>\n",
       "      <td>3</td>\n",
       "      <td>3</td>\n",
       "      <td>...</td>\n",
       "      <td>-1.406712</td>\n",
       "      <td>-7.026098</td>\n",
       "      <td>1.312277</td>\n",
       "      <td>-5.157192</td>\n",
       "      <td>1.714005</td>\n",
       "      <td>0.585032</td>\n",
       "      <td>0.066898</td>\n",
       "      <td>-87.405622</td>\n",
       "      <td>0</td>\n",
       "      <td>1</td>\n",
       "    </tr>\n",
       "    <tr>\n",
       "      <th>3</th>\n",
       "      <td>900003</td>\n",
       "      <td>0.154053</td>\n",
       "      <td>0.260126</td>\n",
       "      <td>-1.367092</td>\n",
       "      <td>-0.093175</td>\n",
       "      <td>-1.111034</td>\n",
       "      <td>-0.948481</td>\n",
       "      <td>1.119220</td>\n",
       "      <td>0</td>\n",
       "      <td>0</td>\n",
       "      <td>...</td>\n",
       "      <td>3.011085</td>\n",
       "      <td>-0.594532</td>\n",
       "      <td>-3.939475</td>\n",
       "      <td>1.754570</td>\n",
       "      <td>-2.364007</td>\n",
       "      <td>-1.003320</td>\n",
       "      <td>3.893099</td>\n",
       "      <td>-281.293460</td>\n",
       "      <td>0</td>\n",
       "      <td>0</td>\n",
       "    </tr>\n",
       "    <tr>\n",
       "      <th>4</th>\n",
       "      <td>900004</td>\n",
       "      <td>-1.651904</td>\n",
       "      <td>-0.424266</td>\n",
       "      <td>-0.667356</td>\n",
       "      <td>-0.322124</td>\n",
       "      <td>-0.089462</td>\n",
       "      <td>0.181705</td>\n",
       "      <td>1.784983</td>\n",
       "      <td>2</td>\n",
       "      <td>2</td>\n",
       "      <td>...</td>\n",
       "      <td>0.100594</td>\n",
       "      <td>0.084906</td>\n",
       "      <td>-0.985736</td>\n",
       "      <td>-0.130467</td>\n",
       "      <td>-3.557893</td>\n",
       "      <td>1.210687</td>\n",
       "      <td>1.861884</td>\n",
       "      <td>25.629415</td>\n",
       "      <td>0</td>\n",
       "      <td>2</td>\n",
       "    </tr>\n",
       "  </tbody>\n",
       "</table>\n",
       "<p>5 rows × 31 columns</p>\n",
       "</div>"
      ],
      "text/plain": [
       "       id      f_00      f_01      f_02      f_03      f_04      f_05  \\\n",
       "0  900000  0.442517  0.174380 -0.999816  0.762741  0.186778 -1.074775   \n",
       "1  900001 -0.605598 -0.305715  0.627667 -0.578898 -1.750931  1.355550   \n",
       "2  900002  0.303990  2.445110  0.246515  0.818248  0.359731 -1.331845   \n",
       "3  900003  0.154053  0.260126 -1.367092 -0.093175 -1.111034 -0.948481   \n",
       "4  900004 -1.651904 -0.424266 -0.667356 -0.322124 -0.089462  0.181705   \n",
       "\n",
       "       f_06  f_07  f_08  ...      f_20      f_21      f_22      f_23  \\\n",
       "0  0.501888     6     6  ...  2.749347 -1.006400 -1.193879 -2.435736   \n",
       "1 -0.190911     1     3  ...  1.080762  2.382405  0.149442  1.883322   \n",
       "2  1.358622     3     3  ... -1.406712 -7.026098  1.312277 -5.157192   \n",
       "3  1.119220     0     0  ...  3.011085 -0.594532 -3.939475  1.754570   \n",
       "4  1.784983     2     2  ...  0.100594  0.084906 -0.985736 -0.130467   \n",
       "\n",
       "       f_24      f_25      f_26        f_28  f_29  f_30  \n",
       "0 -2.427430 -1.966887  5.734205   99.478419     0     0  \n",
       "1 -2.848714 -0.725155  3.194219  -65.993825     1     0  \n",
       "2  1.714005  0.585032  0.066898  -87.405622     0     1  \n",
       "3 -2.364007 -1.003320  3.893099 -281.293460     0     0  \n",
       "4 -3.557893  1.210687  1.861884   25.629415     0     2  \n",
       "\n",
       "[5 rows x 31 columns]"
      ]
     },
     "execution_count": 29,
     "metadata": {},
     "output_type": "execute_result"
    }
   ],
   "source": [
    "df_test.head()"
   ]
  },
  {
   "cell_type": "code",
   "execution_count": 30,
   "id": "d1977696",
   "metadata": {
    "execution": {
     "iopub.execute_input": "2022-05-16T12:45:40.216337Z",
     "iopub.status.busy": "2022-05-16T12:45:40.215702Z",
     "iopub.status.idle": "2022-05-16T12:45:40.310560Z",
     "shell.execute_reply": "2022-05-16T12:45:40.309449Z"
    },
    "papermill": {
     "duration": 0.139848,
     "end_time": "2022-05-16T12:45:40.313870",
     "exception": false,
     "start_time": "2022-05-16T12:45:40.174022",
     "status": "completed"
    },
    "tags": []
   },
   "outputs": [],
   "source": [
    "op = clf.predict(df_test)"
   ]
  },
  {
   "cell_type": "code",
   "execution_count": 31,
   "id": "b25fef18",
   "metadata": {
    "execution": {
     "iopub.execute_input": "2022-05-16T12:45:40.447883Z",
     "iopub.status.busy": "2022-05-16T12:45:40.447431Z",
     "iopub.status.idle": "2022-05-16T12:45:40.453092Z",
     "shell.execute_reply": "2022-05-16T12:45:40.452364Z"
    },
    "papermill": {
     "duration": 0.06113,
     "end_time": "2022-05-16T12:45:40.454917",
     "exception": false,
     "start_time": "2022-05-16T12:45:40.393787",
     "status": "completed"
    },
    "tags": []
   },
   "outputs": [
    {
     "data": {
      "text/plain": [
       "array([0, 0, 0, ..., 0, 0, 0])"
      ]
     },
     "execution_count": 31,
     "metadata": {},
     "output_type": "execute_result"
    }
   ],
   "source": [
    "op"
   ]
  },
  {
   "cell_type": "code",
   "execution_count": 32,
   "id": "5d5a90a0",
   "metadata": {
    "execution": {
     "iopub.execute_input": "2022-05-16T12:45:40.537808Z",
     "iopub.status.busy": "2022-05-16T12:45:40.537274Z",
     "iopub.status.idle": "2022-05-16T12:45:40.541716Z",
     "shell.execute_reply": "2022-05-16T12:45:40.541029Z"
    },
    "papermill": {
     "duration": 0.047665,
     "end_time": "2022-05-16T12:45:40.543409",
     "exception": false,
     "start_time": "2022-05-16T12:45:40.495744",
     "status": "completed"
    },
    "tags": []
   },
   "outputs": [],
   "source": [
    "output = pd.DataFrame(op)"
   ]
  },
  {
   "cell_type": "code",
   "execution_count": 33,
   "id": "e431875b",
   "metadata": {
    "execution": {
     "iopub.execute_input": "2022-05-16T12:45:40.626614Z",
     "iopub.status.busy": "2022-05-16T12:45:40.625813Z",
     "iopub.status.idle": "2022-05-16T12:45:40.632377Z",
     "shell.execute_reply": "2022-05-16T12:45:40.631827Z"
    },
    "papermill": {
     "duration": 0.049919,
     "end_time": "2022-05-16T12:45:40.633963",
     "exception": false,
     "start_time": "2022-05-16T12:45:40.584044",
     "status": "completed"
    },
    "tags": []
   },
   "outputs": [
    {
     "data": {
      "text/html": [
       "<div>\n",
       "<style scoped>\n",
       "    .dataframe tbody tr th:only-of-type {\n",
       "        vertical-align: middle;\n",
       "    }\n",
       "\n",
       "    .dataframe tbody tr th {\n",
       "        vertical-align: top;\n",
       "    }\n",
       "\n",
       "    .dataframe thead th {\n",
       "        text-align: right;\n",
       "    }\n",
       "</style>\n",
       "<table border=\"1\" class=\"dataframe\">\n",
       "  <thead>\n",
       "    <tr style=\"text-align: right;\">\n",
       "      <th></th>\n",
       "      <th>0</th>\n",
       "    </tr>\n",
       "  </thead>\n",
       "  <tbody>\n",
       "    <tr>\n",
       "      <th>0</th>\n",
       "      <td>0</td>\n",
       "    </tr>\n",
       "    <tr>\n",
       "      <th>1</th>\n",
       "      <td>0</td>\n",
       "    </tr>\n",
       "    <tr>\n",
       "      <th>2</th>\n",
       "      <td>0</td>\n",
       "    </tr>\n",
       "    <tr>\n",
       "      <th>3</th>\n",
       "      <td>0</td>\n",
       "    </tr>\n",
       "    <tr>\n",
       "      <th>4</th>\n",
       "      <td>0</td>\n",
       "    </tr>\n",
       "  </tbody>\n",
       "</table>\n",
       "</div>"
      ],
      "text/plain": [
       "   0\n",
       "0  0\n",
       "1  0\n",
       "2  0\n",
       "3  0\n",
       "4  0"
      ]
     },
     "execution_count": 33,
     "metadata": {},
     "output_type": "execute_result"
    }
   ],
   "source": [
    "output.head()"
   ]
  },
  {
   "cell_type": "code",
   "execution_count": 34,
   "id": "8d42ab92",
   "metadata": {
    "execution": {
     "iopub.execute_input": "2022-05-16T12:45:40.718206Z",
     "iopub.status.busy": "2022-05-16T12:45:40.717620Z",
     "iopub.status.idle": "2022-05-16T12:45:40.720886Z",
     "shell.execute_reply": "2022-05-16T12:45:40.720367Z"
    },
    "papermill": {
     "duration": 0.047282,
     "end_time": "2022-05-16T12:45:40.722424",
     "exception": false,
     "start_time": "2022-05-16T12:45:40.675142",
     "status": "completed"
    },
    "tags": []
   },
   "outputs": [],
   "source": [
    "output.index.name = \"id\""
   ]
  },
  {
   "cell_type": "code",
   "execution_count": 35,
   "id": "10061ae2",
   "metadata": {
    "execution": {
     "iopub.execute_input": "2022-05-16T12:45:40.808194Z",
     "iopub.status.busy": "2022-05-16T12:45:40.807605Z",
     "iopub.status.idle": "2022-05-16T12:45:40.811172Z",
     "shell.execute_reply": "2022-05-16T12:45:40.810571Z"
    },
    "papermill": {
     "duration": 0.048104,
     "end_time": "2022-05-16T12:45:40.812856",
     "exception": false,
     "start_time": "2022-05-16T12:45:40.764752",
     "status": "completed"
    },
    "tags": []
   },
   "outputs": [],
   "source": [
    "output.index += 900000"
   ]
  },
  {
   "cell_type": "code",
   "execution_count": 36,
   "id": "66758862",
   "metadata": {
    "execution": {
     "iopub.execute_input": "2022-05-16T12:45:40.898171Z",
     "iopub.status.busy": "2022-05-16T12:45:40.897716Z",
     "iopub.status.idle": "2022-05-16T12:45:40.904356Z",
     "shell.execute_reply": "2022-05-16T12:45:40.903837Z"
    },
    "papermill": {
     "duration": 0.051044,
     "end_time": "2022-05-16T12:45:40.905940",
     "exception": false,
     "start_time": "2022-05-16T12:45:40.854896",
     "status": "completed"
    },
    "tags": []
   },
   "outputs": [
    {
     "data": {
      "text/html": [
       "<div>\n",
       "<style scoped>\n",
       "    .dataframe tbody tr th:only-of-type {\n",
       "        vertical-align: middle;\n",
       "    }\n",
       "\n",
       "    .dataframe tbody tr th {\n",
       "        vertical-align: top;\n",
       "    }\n",
       "\n",
       "    .dataframe thead th {\n",
       "        text-align: right;\n",
       "    }\n",
       "</style>\n",
       "<table border=\"1\" class=\"dataframe\">\n",
       "  <thead>\n",
       "    <tr style=\"text-align: right;\">\n",
       "      <th></th>\n",
       "      <th>0</th>\n",
       "    </tr>\n",
       "    <tr>\n",
       "      <th>id</th>\n",
       "      <th></th>\n",
       "    </tr>\n",
       "  </thead>\n",
       "  <tbody>\n",
       "    <tr>\n",
       "      <th>900000</th>\n",
       "      <td>0</td>\n",
       "    </tr>\n",
       "    <tr>\n",
       "      <th>900001</th>\n",
       "      <td>0</td>\n",
       "    </tr>\n",
       "    <tr>\n",
       "      <th>900002</th>\n",
       "      <td>0</td>\n",
       "    </tr>\n",
       "    <tr>\n",
       "      <th>900003</th>\n",
       "      <td>0</td>\n",
       "    </tr>\n",
       "    <tr>\n",
       "      <th>900004</th>\n",
       "      <td>0</td>\n",
       "    </tr>\n",
       "  </tbody>\n",
       "</table>\n",
       "</div>"
      ],
      "text/plain": [
       "        0\n",
       "id       \n",
       "900000  0\n",
       "900001  0\n",
       "900002  0\n",
       "900003  0\n",
       "900004  0"
      ]
     },
     "execution_count": 36,
     "metadata": {},
     "output_type": "execute_result"
    }
   ],
   "source": [
    "output.head()"
   ]
  },
  {
   "cell_type": "code",
   "execution_count": 37,
   "id": "31773a94",
   "metadata": {
    "execution": {
     "iopub.execute_input": "2022-05-16T12:45:40.992225Z",
     "iopub.status.busy": "2022-05-16T12:45:40.991380Z",
     "iopub.status.idle": "2022-05-16T12:45:40.997071Z",
     "shell.execute_reply": "2022-05-16T12:45:40.996321Z"
    },
    "papermill": {
     "duration": 0.049747,
     "end_time": "2022-05-16T12:45:40.998965",
     "exception": false,
     "start_time": "2022-05-16T12:45:40.949218",
     "status": "completed"
    },
    "tags": []
   },
   "outputs": [
    {
     "data": {
      "text/plain": [
       "[0]"
      ]
     },
     "execution_count": 37,
     "metadata": {},
     "output_type": "execute_result"
    }
   ],
   "source": [
    "list(output)"
   ]
  },
  {
   "cell_type": "code",
   "execution_count": 38,
   "id": "2d0ccc5b",
   "metadata": {
    "execution": {
     "iopub.execute_input": "2022-05-16T12:45:41.083570Z",
     "iopub.status.busy": "2022-05-16T12:45:41.083264Z",
     "iopub.status.idle": "2022-05-16T12:45:41.087188Z",
     "shell.execute_reply": "2022-05-16T12:45:41.086357Z"
    },
    "papermill": {
     "duration": 0.048292,
     "end_time": "2022-05-16T12:45:41.088903",
     "exception": false,
     "start_time": "2022-05-16T12:45:41.040611",
     "status": "completed"
    },
    "tags": []
   },
   "outputs": [],
   "source": [
    "output.columns = ['target']"
   ]
  },
  {
   "cell_type": "code",
   "execution_count": 39,
   "id": "da913b1a",
   "metadata": {
    "execution": {
     "iopub.execute_input": "2022-05-16T12:45:41.174683Z",
     "iopub.status.busy": "2022-05-16T12:45:41.174433Z",
     "iopub.status.idle": "2022-05-16T12:45:41.181907Z",
     "shell.execute_reply": "2022-05-16T12:45:41.181157Z"
    },
    "papermill": {
     "duration": 0.051947,
     "end_time": "2022-05-16T12:45:41.183751",
     "exception": false,
     "start_time": "2022-05-16T12:45:41.131804",
     "status": "completed"
    },
    "tags": []
   },
   "outputs": [
    {
     "data": {
      "text/html": [
       "<div>\n",
       "<style scoped>\n",
       "    .dataframe tbody tr th:only-of-type {\n",
       "        vertical-align: middle;\n",
       "    }\n",
       "\n",
       "    .dataframe tbody tr th {\n",
       "        vertical-align: top;\n",
       "    }\n",
       "\n",
       "    .dataframe thead th {\n",
       "        text-align: right;\n",
       "    }\n",
       "</style>\n",
       "<table border=\"1\" class=\"dataframe\">\n",
       "  <thead>\n",
       "    <tr style=\"text-align: right;\">\n",
       "      <th></th>\n",
       "      <th>target</th>\n",
       "    </tr>\n",
       "    <tr>\n",
       "      <th>id</th>\n",
       "      <th></th>\n",
       "    </tr>\n",
       "  </thead>\n",
       "  <tbody>\n",
       "    <tr>\n",
       "      <th>900000</th>\n",
       "      <td>0</td>\n",
       "    </tr>\n",
       "    <tr>\n",
       "      <th>900001</th>\n",
       "      <td>0</td>\n",
       "    </tr>\n",
       "    <tr>\n",
       "      <th>900002</th>\n",
       "      <td>0</td>\n",
       "    </tr>\n",
       "    <tr>\n",
       "      <th>900003</th>\n",
       "      <td>0</td>\n",
       "    </tr>\n",
       "    <tr>\n",
       "      <th>900004</th>\n",
       "      <td>0</td>\n",
       "    </tr>\n",
       "  </tbody>\n",
       "</table>\n",
       "</div>"
      ],
      "text/plain": [
       "        target\n",
       "id            \n",
       "900000       0\n",
       "900001       0\n",
       "900002       0\n",
       "900003       0\n",
       "900004       0"
      ]
     },
     "execution_count": 39,
     "metadata": {},
     "output_type": "execute_result"
    }
   ],
   "source": [
    "output.head()"
   ]
  },
  {
   "cell_type": "code",
   "execution_count": 40,
   "id": "23367955",
   "metadata": {
    "execution": {
     "iopub.execute_input": "2022-05-16T12:45:41.269634Z",
     "iopub.status.busy": "2022-05-16T12:45:41.269359Z",
     "iopub.status.idle": "2022-05-16T12:45:41.274376Z",
     "shell.execute_reply": "2022-05-16T12:45:41.273601Z"
    },
    "papermill": {
     "duration": 0.050034,
     "end_time": "2022-05-16T12:45:41.276092",
     "exception": false,
     "start_time": "2022-05-16T12:45:41.226058",
     "status": "completed"
    },
    "tags": []
   },
   "outputs": [
    {
     "data": {
      "text/plain": [
       "(700000, 1)"
      ]
     },
     "execution_count": 40,
     "metadata": {},
     "output_type": "execute_result"
    }
   ],
   "source": [
    "output.shape"
   ]
  },
  {
   "cell_type": "code",
   "execution_count": 41,
   "id": "cbaccd74",
   "metadata": {
    "execution": {
     "iopub.execute_input": "2022-05-16T12:45:41.362758Z",
     "iopub.status.busy": "2022-05-16T12:45:41.362449Z",
     "iopub.status.idle": "2022-05-16T12:45:41.367636Z",
     "shell.execute_reply": "2022-05-16T12:45:41.366990Z"
    },
    "papermill": {
     "duration": 0.050386,
     "end_time": "2022-05-16T12:45:41.369214",
     "exception": false,
     "start_time": "2022-05-16T12:45:41.318828",
     "status": "completed"
    },
    "tags": []
   },
   "outputs": [],
   "source": [
    "output['id'] = output.index "
   ]
  },
  {
   "cell_type": "code",
   "execution_count": 42,
   "id": "c30d7e77",
   "metadata": {
    "execution": {
     "iopub.execute_input": "2022-05-16T12:45:41.455912Z",
     "iopub.status.busy": "2022-05-16T12:45:41.455227Z",
     "iopub.status.idle": "2022-05-16T12:45:41.463058Z",
     "shell.execute_reply": "2022-05-16T12:45:41.462464Z"
    },
    "papermill": {
     "duration": 0.053067,
     "end_time": "2022-05-16T12:45:41.464685",
     "exception": false,
     "start_time": "2022-05-16T12:45:41.411618",
     "status": "completed"
    },
    "tags": []
   },
   "outputs": [
    {
     "data": {
      "text/html": [
       "<div>\n",
       "<style scoped>\n",
       "    .dataframe tbody tr th:only-of-type {\n",
       "        vertical-align: middle;\n",
       "    }\n",
       "\n",
       "    .dataframe tbody tr th {\n",
       "        vertical-align: top;\n",
       "    }\n",
       "\n",
       "    .dataframe thead th {\n",
       "        text-align: right;\n",
       "    }\n",
       "</style>\n",
       "<table border=\"1\" class=\"dataframe\">\n",
       "  <thead>\n",
       "    <tr style=\"text-align: right;\">\n",
       "      <th></th>\n",
       "      <th>target</th>\n",
       "      <th>id</th>\n",
       "    </tr>\n",
       "    <tr>\n",
       "      <th>id</th>\n",
       "      <th></th>\n",
       "      <th></th>\n",
       "    </tr>\n",
       "  </thead>\n",
       "  <tbody>\n",
       "    <tr>\n",
       "      <th>900000</th>\n",
       "      <td>0</td>\n",
       "      <td>900000</td>\n",
       "    </tr>\n",
       "    <tr>\n",
       "      <th>900001</th>\n",
       "      <td>0</td>\n",
       "      <td>900001</td>\n",
       "    </tr>\n",
       "    <tr>\n",
       "      <th>900002</th>\n",
       "      <td>0</td>\n",
       "      <td>900002</td>\n",
       "    </tr>\n",
       "    <tr>\n",
       "      <th>900003</th>\n",
       "      <td>0</td>\n",
       "      <td>900003</td>\n",
       "    </tr>\n",
       "    <tr>\n",
       "      <th>900004</th>\n",
       "      <td>0</td>\n",
       "      <td>900004</td>\n",
       "    </tr>\n",
       "  </tbody>\n",
       "</table>\n",
       "</div>"
      ],
      "text/plain": [
       "        target      id\n",
       "id                    \n",
       "900000       0  900000\n",
       "900001       0  900001\n",
       "900002       0  900002\n",
       "900003       0  900003\n",
       "900004       0  900004"
      ]
     },
     "execution_count": 42,
     "metadata": {},
     "output_type": "execute_result"
    }
   ],
   "source": [
    "output.head()"
   ]
  },
  {
   "cell_type": "code",
   "execution_count": 43,
   "id": "d934eb6c",
   "metadata": {
    "execution": {
     "iopub.execute_input": "2022-05-16T12:45:41.551392Z",
     "iopub.status.busy": "2022-05-16T12:45:41.550820Z",
     "iopub.status.idle": "2022-05-16T12:45:41.565252Z",
     "shell.execute_reply": "2022-05-16T12:45:41.564659Z"
    },
    "papermill": {
     "duration": 0.059608,
     "end_time": "2022-05-16T12:45:41.567044",
     "exception": false,
     "start_time": "2022-05-16T12:45:41.507436",
     "status": "completed"
    },
    "tags": []
   },
   "outputs": [],
   "source": [
    "output.drop(['id'] , axis = 1 , inplace = True)"
   ]
  },
  {
   "cell_type": "code",
   "execution_count": 44,
   "id": "55eea639",
   "metadata": {
    "execution": {
     "iopub.execute_input": "2022-05-16T12:45:41.654564Z",
     "iopub.status.busy": "2022-05-16T12:45:41.653685Z",
     "iopub.status.idle": "2022-05-16T12:45:41.666480Z",
     "shell.execute_reply": "2022-05-16T12:45:41.665693Z"
    },
    "papermill": {
     "duration": 0.058349,
     "end_time": "2022-05-16T12:45:41.668275",
     "exception": false,
     "start_time": "2022-05-16T12:45:41.609926",
     "status": "completed"
    },
    "tags": []
   },
   "outputs": [
    {
     "data": {
      "text/html": [
       "<div>\n",
       "<style scoped>\n",
       "    .dataframe tbody tr th:only-of-type {\n",
       "        vertical-align: middle;\n",
       "    }\n",
       "\n",
       "    .dataframe tbody tr th {\n",
       "        vertical-align: top;\n",
       "    }\n",
       "\n",
       "    .dataframe thead th {\n",
       "        text-align: right;\n",
       "    }\n",
       "</style>\n",
       "<table border=\"1\" class=\"dataframe\">\n",
       "  <thead>\n",
       "    <tr style=\"text-align: right;\">\n",
       "      <th></th>\n",
       "      <th>id</th>\n",
       "      <th>target</th>\n",
       "    </tr>\n",
       "  </thead>\n",
       "  <tbody>\n",
       "    <tr>\n",
       "      <th>0</th>\n",
       "      <td>900000</td>\n",
       "      <td>0</td>\n",
       "    </tr>\n",
       "    <tr>\n",
       "      <th>1</th>\n",
       "      <td>900001</td>\n",
       "      <td>0</td>\n",
       "    </tr>\n",
       "    <tr>\n",
       "      <th>2</th>\n",
       "      <td>900002</td>\n",
       "      <td>0</td>\n",
       "    </tr>\n",
       "    <tr>\n",
       "      <th>3</th>\n",
       "      <td>900003</td>\n",
       "      <td>0</td>\n",
       "    </tr>\n",
       "    <tr>\n",
       "      <th>4</th>\n",
       "      <td>900004</td>\n",
       "      <td>0</td>\n",
       "    </tr>\n",
       "    <tr>\n",
       "      <th>...</th>\n",
       "      <td>...</td>\n",
       "      <td>...</td>\n",
       "    </tr>\n",
       "    <tr>\n",
       "      <th>699995</th>\n",
       "      <td>1599995</td>\n",
       "      <td>0</td>\n",
       "    </tr>\n",
       "    <tr>\n",
       "      <th>699996</th>\n",
       "      <td>1599996</td>\n",
       "      <td>0</td>\n",
       "    </tr>\n",
       "    <tr>\n",
       "      <th>699997</th>\n",
       "      <td>1599997</td>\n",
       "      <td>0</td>\n",
       "    </tr>\n",
       "    <tr>\n",
       "      <th>699998</th>\n",
       "      <td>1599998</td>\n",
       "      <td>0</td>\n",
       "    </tr>\n",
       "    <tr>\n",
       "      <th>699999</th>\n",
       "      <td>1599999</td>\n",
       "      <td>0</td>\n",
       "    </tr>\n",
       "  </tbody>\n",
       "</table>\n",
       "<p>700000 rows × 2 columns</p>\n",
       "</div>"
      ],
      "text/plain": [
       "             id  target\n",
       "0        900000       0\n",
       "1        900001       0\n",
       "2        900002       0\n",
       "3        900003       0\n",
       "4        900004       0\n",
       "...         ...     ...\n",
       "699995  1599995       0\n",
       "699996  1599996       0\n",
       "699997  1599997       0\n",
       "699998  1599998       0\n",
       "699999  1599999       0\n",
       "\n",
       "[700000 rows x 2 columns]"
      ]
     },
     "execution_count": 44,
     "metadata": {},
     "output_type": "execute_result"
    }
   ],
   "source": [
    "output.reset_index()"
   ]
  },
  {
   "cell_type": "code",
   "execution_count": 45,
   "id": "804868ee",
   "metadata": {
    "execution": {
     "iopub.execute_input": "2022-05-16T12:45:41.756553Z",
     "iopub.status.busy": "2022-05-16T12:45:41.756274Z",
     "iopub.status.idle": "2022-05-16T12:45:42.551274Z",
     "shell.execute_reply": "2022-05-16T12:45:42.550505Z"
    },
    "papermill": {
     "duration": 0.841791,
     "end_time": "2022-05-16T12:45:42.553536",
     "exception": false,
     "start_time": "2022-05-16T12:45:41.711745",
     "status": "completed"
    },
    "tags": []
   },
   "outputs": [],
   "source": [
    "output.to_csv('./submission.csv')"
   ]
  },
  {
   "cell_type": "code",
   "execution_count": null,
   "id": "663a4029",
   "metadata": {
    "papermill": {
     "duration": 0.042573,
     "end_time": "2022-05-16T12:45:42.640047",
     "exception": false,
     "start_time": "2022-05-16T12:45:42.597474",
     "status": "completed"
    },
    "tags": []
   },
   "outputs": [],
   "source": []
  }
 ],
 "metadata": {
  "kernelspec": {
   "display_name": "Python 3",
   "language": "python",
   "name": "python3"
  },
  "language_info": {
   "codemirror_mode": {
    "name": "ipython",
    "version": 3
   },
   "file_extension": ".py",
   "mimetype": "text/x-python",
   "name": "python",
   "nbconvert_exporter": "python",
   "pygments_lexer": "ipython3",
   "version": "3.7.12"
  },
  "papermill": {
   "default_parameters": {},
   "duration": 36.818451,
   "end_time": "2022-05-16T12:45:43.402960",
   "environment_variables": {},
   "exception": null,
   "input_path": "__notebook__.ipynb",
   "output_path": "__notebook__.ipynb",
   "parameters": {},
   "start_time": "2022-05-16T12:45:06.584509",
   "version": "2.3.4"
  }
 },
 "nbformat": 4,
 "nbformat_minor": 5
}
